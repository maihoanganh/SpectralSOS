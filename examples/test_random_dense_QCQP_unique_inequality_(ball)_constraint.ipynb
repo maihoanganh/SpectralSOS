{
 "cells": [
  {
   "cell_type": "code",
   "execution_count": 12,
   "metadata": {
    "scrolled": true
   },
   "outputs": [
    {
     "name": "stdout",
     "output_type": "stream",
     "text": [
      "***Problem setting***\n",
      "Number of variable: n=50\n",
      "====================\n",
      "Number of inequality constraints: l_g=1\n",
      "====================\n",
      "Number of equality constraints: l_h=13\n",
      "====================\n",
      "Relaxed order: k=2\n"
     ]
    }
   ],
   "source": [
    "using DynamicPolynomials\n",
    "\n",
    "println(\"***Problem setting***\")\n",
    "\n",
    "n=50\n",
    "\n",
    "#N=[5;10;15;20;25;30;35;40;45;50]\n",
    "\n",
    "#for n in N\n",
    "l_h=ceil(Int32, n/4)\n",
    "\n",
    "println(\"Number of variable: n=\",n)\n",
    "println(\"====================\")\n",
    "\n",
    "@polyvar x[1:n]# variables\n",
    "\n",
    "\n",
    "# random quadratic objective function f\n",
    "v=reverse(monomials(x,0:2))\n",
    "c=2*rand(Float64,length(v)).-1\n",
    "f=c'*v\n",
    "\n",
    "\n",
    "R=1.0\n",
    "g=[R-sum(x.^2)]\n",
    "\n",
    "println(\"Number of inequality constraints: l_g=\",1)\n",
    "println(\"====================\")\n",
    "\n",
    "# random quadratic equality constraints\n",
    "randx=2*rand(n).-1# create a feasible solution\n",
    "randx=randx./sqrt(sum(randx.^2))\n",
    "randx=randx.*rand(1)\n",
    "\n",
    "h=Polynomial{true,Float64}[]\n",
    "for j in 1:l_h\n",
    "    a=2*rand(Float64,length(v[2:end])).-1\n",
    "    push!(h,a'*v[2:end])\n",
    "    h[end]-=h[end](x => randx) #make constraints feasible\n",
    "end\n",
    "l_h=length(h)\n",
    "\n",
    "println(\"Number of equality constraints: l_h=\",l_h)\n",
    "println(\"====================\")\n",
    "\n",
    "k=2\n",
    "\n",
    "println(\"Relaxed order: k=\",k)\n",
    "    \n",
    "# include(\"../src/SpectralPOP.jl\")\n",
    "# using .SpectralPOP\n",
    "\n",
    "# SpectralPOP.save_data(x,f,g,h,R)\n",
    "    \n",
    "#end"
   ]
  },
  {
   "cell_type": "code",
   "execution_count": 13,
   "metadata": {},
   "outputs": [],
   "source": [
    "# using SparseArrays\n",
    "\n",
    "# include(\"../src/SpectralPOP.jl\")\n",
    "# using .SpectralPOP\n",
    "\n",
    "\n",
    "\n",
    "# include(\"../examples/densePOPsphere_deg2_var5_nineq1_neq2.jl\")\n",
    "\n",
    "# x,f,g,h=SpectralPOP.get_POP(n,m,l,lmon_g,supp_g,coe_g,lmon_h,supp_h,coe_h,lmon_f,supp_f,coe_f);\n",
    "\n",
    "\n",
    "# k=2"
   ]
  },
  {
   "cell_type": "code",
   "execution_count": 14,
   "metadata": {},
   "outputs": [],
   "source": [
    "# include(\"../src/SpectralPOP.jl\")\n",
    "# using .SpectralPOP\n",
    "\n",
    "# opt_val = SpectralPOP.SumofSquares_POP(x,f,g,h,k)"
   ]
  },
  {
   "cell_type": "code",
   "execution_count": 15,
   "metadata": {},
   "outputs": [
    {
     "name": "stdout",
     "output_type": "stream",
     "text": [
      "**Constant trace property (CTP):\n",
      "**Convert moment relaxation to standard SDP:\n"
     ]
    },
    {
     "name": "stderr",
     "output_type": "stream",
     "text": [
      "WARNING: replacing module SpectralPOP.\n"
     ]
    },
    {
     "name": "stdout",
     "output_type": "stream",
     "text": [
      "  Size of psd matrix: sk=1378\n",
      "  Number of equality trace constraints: m=628369\n",
      "541.087150 seconds (595.79 M allocations: 241.504 GiB, 5.33% gc time)\n",
      "**LMBM solver:\n",
      "---------------\n",
      "| Parameters: |\n",
      "---------------\n",
      "n:       628369\n",
      "maxtime: 300000.000000\n",
      "na:      2\n",
      "mcu:     5\n",
      "mc:      7\n",
      "rpar: \n",
      "ipar: \n",
      "-----------\n",
      "| Output: |\n",
      "-----------\n",
      "Termination:     3\n",
      "N. iter.:        756\n",
      "N. func. eval.:  2380\n",
      "Final value:     0.243697\n",
      "Execution time:  5959.759766\n",
      "1539.416129 seconds (11.31 M allocations: 102.278 GiB, 0.10% gc time)\n",
      "------------------------------------\n",
      "**Numerical result:\n",
      "====================================\n",
      "opt_val=-5.528846087055757\n",
      "====================================\n",
      "Dimension of the null space of Gram matrix = 6\n",
      "------------------------------------\n",
      "atom 1 = [0.00462241354199596, -0.04258293537995086, 0.06990545986383097, 0.011929933768022528, 0.032053780233132184, -0.44404560305736257, 0.9809657590629687, 0.49890979823120585, 0.3376006769078651, -0.8690834737559971, 0.3639809797987296, -0.48274228379229056, -0.04616198907904817, 0.4720327175427202, 0.17479547321356287, -0.8024110660195456, -0.2735446241206831, 0.5568052771306833, -0.8247166928755083, 0.1717385514628963, 0.5168125365822358, -0.3846414426793508, -1.0157819712960428, 0.366813952286277, 0.9753209853498287, 0.8424952657704267, -0.7212394321649352, -1.4619666045607063, 1.445952475673332, 0.105844442506776, -0.5998279767651852, 0.12888883388646757, -0.5152775255073062, 0.9771610629669925, 0.07204416926799465, 0.005930763342880202, 1.1100093121727552, 0.8036550592881938, 0.22788668042749916, 0.42822382845818646, 0.083778912256328, -0.2171691996349216, 0.027431850623845788, 0.5545951031077551, -0.29315420516664864, 0.3824519888785395, -0.605415409030235, -1.1319673068113931, -0.11530633258188405, -0.006631265195403469, 1.4439153625816714e-16]\n",
      "  check gap of lower bound  = 50.464929576814185\n",
      "  check equality constraint 1 = 4.183390337405969\n",
      "  check equality constraint 2 = 7.326522573232718\n",
      "  check equality constraint 3 = 6.932994424165823\n",
      "  check equality constraint 4 = 23.301736372776144\n",
      "  check equality constraint 5 = 0.5641438931735838\n",
      "  check equality constraint 6 = 0.6511064501204489\n",
      "  check equality constraint 7 = 5.175550637831957\n",
      "  check equality constraint 8 = 4.7535648767304455\n",
      "  check equality constraint 9 = 1.1341379034778\n",
      "  check equality constraint 10 = 6.313423377573847\n",
      "  check equality constraint 11 = 0.30706184358857813\n",
      "  check equality constraint 12 = 9.54909677696974\n",
      "  check equality constraint 13 = 17.9058349408822\n",
      "  check equality constraint 14 = 17.618133807158404\n",
      "------------------------------------\n",
      "atom 2 = [-0.2202171929730384, 0.4351351115914495, -0.09819649845068779, 0.2650368556520141, -0.6275600635333822, 0.22485467591953015, -0.5257560433704614, 0.035793395239877304, -0.01297710440519085, 0.7543184709081329, -0.22474234367556528, 0.34653341567912543, 0.4838231133800479, -0.30736089666197164, -0.17692513996732318, 0.37775738201346637, 0.32071740186819186, -0.5272798601304418, 0.6864430906415329, -0.21826017076028792, 0.05259028789684406, 0.31197368493245725, 0.8067516275290809, -0.18175970306239408, -0.2632216549521979, -0.4653732482221371, 0.5583688004566085, 0.6572214480602846, -0.8622980821472874, -0.311937712278692, 0.7320527466201298, 0.19091717746631143, -0.08807331560472348, -0.20854267227306406, -0.6078273281714336, -0.24851150640967792, -0.2102271453430034, -0.5603089510406708, -0.31281291106656883, 0.0785323265188588, -0.32161949595993716, 0.46287188913687377, -0.718303783014012, -0.23602520149735662, -0.05586917637348621, 0.2478056411642176, 0.33350578403402176, 0.4398726144752668, -0.04489693201594375, 0.3529666982455646, 2.9106756085544477e-17]\n",
      "  check gap of lower bound  = 23.894268509335358\n",
      "  check equality constraint 1 = 2.6264147749971194\n",
      "  check equality constraint 2 = 2.2029828712285076\n",
      "  check equality constraint 3 = 0.057072938933602324\n",
      "  check equality constraint 4 = 5.038103697727031\n",
      "  check equality constraint 5 = 2.0605508181689007\n",
      "  check equality constraint 6 = 1.1723080986397223\n",
      "  check equality constraint 7 = 0.23380236401697285\n",
      "  check equality constraint 8 = 6.008738001572171\n",
      "  check equality constraint 9 = 3.5912578861117153\n",
      "  check equality constraint 10 = 1.5180424253327567\n",
      "  check equality constraint 11 = 1.154832495736708\n",
      "  check equality constraint 12 = 5.798008141928549\n",
      "  check equality constraint 13 = 6.36273235826709\n",
      "  check equality constraint 14 = 7.738447604832542\n",
      "------------------------------------\n",
      "atom 3 = [-0.0897895237001767, -0.3849934966236769, 0.2817655674464501, 0.12872503325924445, -0.2897621209667628, -0.1810612081909973, 0.15352100082824638, -0.12728875874060375, -0.6997653473255382, 0.655581344080735, -0.21685502715718125, -0.19514282009128614, -0.15019186049282574, -0.15807802568590895, -0.12892416814282934, 0.3969572526023797, 0.10540758525708757, 0.4995442114447324, -0.31826839243474186, 0.2567215808872828, 0.06301557364476645, -0.017175684217112727, -0.13837256752479044, -0.2192009837510919, 0.8794830175987919, -0.15131395942019232, 0.021932211331376093, -0.5569290688251911, -0.301658574186822, 0.15022673936747954, -0.298227251584982, 0.43066217398422824, 0.05407313870816425, 0.3490996422043715, 0.007565011066297589, -0.40132544242711915, 0.6346575068302255, 0.027112584079002314, -0.11877861699913544, -0.1443066437831838, -0.6747031748584499, 0.5247801754067376, -0.892864930536373, 0.11916475347349058, 0.4664617097599278, 0.7746576174549782, 0.545841994756523, -0.10844574165242796, -0.3728147468239351, 0.4547470679590202, 5.512837462673161e-17]\n",
      "  check gap of lower bound  = 20.599175567501874\n",
      "  check equality constraint 1 = 5.881368800366435\n",
      "  check equality constraint 2 = 2.0214532267651317\n",
      "  check equality constraint 3 = 0.03889183127148481\n",
      "  check equality constraint 4 = 4.605256894430366\n",
      "  check equality constraint 5 = 0.65164039365143\n",
      "  check equality constraint 6 = 1.4051448536174338\n",
      "  check equality constraint 7 = 2.312412463917392\n",
      "  check equality constraint 8 = 2.384754993224296\n",
      "  check equality constraint 9 = 2.257190136604934\n",
      "  check equality constraint 10 = 2.567603799917161\n",
      "  check equality constraint 11 = 4.507664613408615\n",
      "  check equality constraint 12 = 1.0843543736903987\n",
      "  check equality constraint 13 = 0.3313563233852821\n",
      "  check equality constraint 14 = 6.368968200145656\n",
      "------------------------------------\n",
      "atom 4 = [-4.608433691914368e-5, 0.059620284612902794, 0.06324478733686537, 0.18793771980647403, 0.03136298445747876, -0.011123153348904317, 0.2058919477868294, -0.04520986673075676, -0.26029724088602474, 0.1823875639909917, -0.05364972609586621, 0.15601215020749798, -0.10957515992297498, -0.11628014096184322, -0.04385742516213435, 0.11843813665086347, 0.016054235973315747, 0.09674023490686218, -0.11866076970709055, 0.035390093391079, 0.13480784325273143, 0.05215392442947553, 0.012478942750009256, -0.06505911084309238, 0.11638881530153414, -0.09204381021497296, -0.046236017047982234, -0.22023785100210105, -0.012050639023824312, -0.01488266283463954, -0.055130672772265736, 0.13447820324042792, -0.035070202209680906, 0.12893700778464456, -0.08239937120618725, -0.22719118363153015, 0.16293690002725325, 0.013437104508165796, -0.055590914383823686, 0.06107539004626242, -0.1753806927787497, 0.13105997423940155, -0.34646864145855877, 0.03957600972634922, -0.0028447996368536205, 0.21449184343612474, 0.028300758113477067, -0.08604635639095783, -0.11100938505048097, 0.09006168772533948, 3.714908806298079e-17]\n",
      "  check gap of lower bound  = 0.5341059498514715\n",
      "  check equality constraint 1 = 0.02702462998820973\n",
      "  check equality constraint 2 = 0.14507782513094042\n",
      "  check equality constraint 3 = 0.3062923767635603\n",
      "  check equality constraint 4 = 0.0037896691071958068\n",
      "  check equality constraint 5 = 0.10823800439960135\n",
      "  check equality constraint 6 = 0.10600941128780861\n",
      "  check equality constraint 7 = 0.12974633562419607\n",
      "  check equality constraint 8 = 0.06749673858475591\n",
      "  check equality constraint 9 = 0.13542263320469938\n",
      "  check equality constraint 10 = 0.6421265995661264\n",
      "  check equality constraint 11 = 0.29740640586699685\n",
      "  check equality constraint 12 = 1.0132005862684341\n",
      "  check equality constraint 13 = 0.8613666245352747\n",
      "  check equality constraint 14 = 0.24347756086085304\n",
      "------------------------------------\n",
      "atom 5 = [-0.2459977515971217, 0.11089907253833574, -0.3368336088419964, -0.5370755804539941, -0.02446543772316623, -0.16988232176642992, 0.03380545505361803, -0.045836926059539866, 0.04362547887374487, -0.2966796805561038, -0.14819067801705993, -0.5274268571394825, 0.32517727466932767, 0.07572717110206281, -0.1783062876903981, -0.16396960790531687, 0.18461389564075656, 0.3683155646512001, -0.2713328545039267, 0.1778429052834829, 0.16208389995982098, 0.03728145283116963, -0.13611201222876862, -0.04842842510831606, 0.6566739070164824, 0.038700417994343206, -0.06987222140055967, -0.09817910511581508, 0.3717953534437997, -0.2940458920376494, -0.24567786491101207, -0.044792299364810655, 0.17884875452729215, 0.31530195422652413, 0.053050254195018805, 0.4442365673650375, -0.32456535794549485, -0.2296937178234218, 0.02077259784008033, 0.10781222289750436, 0.24926879232142, -0.018660111414524855, 0.07149308750664243, 0.3376139933387711, 0.3722427837013723, -0.044103903565554256, 0.1155199382107348, -0.21069417686196665, 0.06482319790041097, 0.06489732236448527, -5.238550505492511e-16]\n",
      "  check gap of lower bound  = 2.534152445201433\n",
      "  check equality constraint 1 = 1.4458553756489785\n",
      "  check equality constraint 2 = 1.343359089144338\n",
      "  check equality constraint 3 = 2.19950198899533\n",
      "  check equality constraint 4 = 3.266934534532785\n",
      "  check equality constraint 5 = 1.7817538089404665\n",
      "  check equality constraint 6 = 0.334972824965893\n",
      "  check equality constraint 7 = 0.5328920736647923\n",
      "  check equality constraint 8 = 1.875912403958652\n",
      "  check equality constraint 9 = 0.033686338825620665\n",
      "  check equality constraint 10 = 0.6782045003309377\n",
      "  check equality constraint 11 = 0.6896780097354468\n",
      "  check equality constraint 12 = 2.1809815703280635\n",
      "  check equality constraint 13 = 2.3708131505882832\n",
      "  check equality constraint 14 = 2.0154156101865053\n",
      "------------------------------------\n"
     ]
    },
    {
     "name": "stdout",
     "output_type": "stream",
     "text": [
      "atom 6 = [0.15000716807653017, 0.02086151471639077, -0.16558630348906195, 0.06483869737394253, -0.16487019179443943, 0.02448815093632355, -0.19206555196062614, 0.06883866111596207, 0.046867268150800244, -0.06759322636575252, -0.005935050420624201, 0.05446572606730751, 0.10501662817476898, 0.06338448400678494, -0.15147507926060555, -0.10882799332300949, 0.11064298772436419, 0.11185580434776102, 0.19146996917444514, 0.11036348484075574, 0.18616310364163374, 0.15320470166930297, 0.10106018782411595, -0.04451937831001465, -0.20001298637127798, -0.11801117876526121, -0.04435798436828262, 0.15240556134853678, -0.18469492629420756, -0.04623682856411645, -0.01670951847046348, -0.12427287330700709, -0.1230707676938814, -0.018665547159247953, -0.045102669638344944, -0.06168244503822044, -0.2647947321397777, -0.12014908002678162, 0.06058223680255855, -0.014519592470049185, 0.019948252546630706, -0.051609098441682225, 0.16848082589507823, -0.00236142769478968, 0.1776409021173918, -0.16280101974240824, 0.08222969358469126, 0.09192031001841106, 0.117913410924124, -0.17057231284606683, 5.8786151910710005e-16]\n",
      "  check gap of lower bound  = 4.347713260760787\n",
      "  check equality constraint 1 = 0.4202184890160938\n",
      "  check equality constraint 2 = 0.7432843612046719\n",
      "  check equality constraint 3 = 0.7037948726693355\n",
      "  check equality constraint 4 = 0.4785944695713922\n",
      "  check equality constraint 5 = 0.01987787035951956\n",
      "  check equality constraint 6 = 0.0885709255401999\n",
      "  check equality constraint 7 = 0.8177376525373501\n",
      "  check equality constraint 8 = 0.013730026608811924\n",
      "  check equality constraint 9 = 0.45670660050444145\n",
      "  check equality constraint 10 = 0.29215014419528423\n",
      "  check equality constraint 11 = 0.8184027073735535\n",
      "  check equality constraint 12 = 0.6314894441688186\n",
      "  check equality constraint 13 = 0.7418000385556308\n",
      "  check equality constraint 14 = 0.28392096470382466\n",
      "  5.744976 seconds (196.28 k allocations: 251.451 MiB)\n",
      "2086.249003 seconds (607.29 M allocations: 344.028 GiB, 1.45% gc time)\n",
      "2086.250009 seconds (607.30 M allocations: 344.028 GiB, 1.45% gc time)\n"
     ]
    },
    {
     "data": {
      "text/plain": [
       "(-5.528846087055757, Array{Float64,1}[])"
      ]
     },
     "execution_count": 15,
     "metadata": {},
     "output_type": "execute_result"
    }
   ],
   "source": [
    "include(\"../src/SpectralPOP.jl\")\n",
    "using .SpectralPOP\n",
    "\n",
    "opt_val,opt_sol=SpectralPOP.CTP_POP_UniqueBallIneq(x,f,h,k,R;method=\"LMBM\",EigAlg=\"Mix\",tol=1e-5,scale=true)"
   ]
  },
  {
   "cell_type": "code",
   "execution_count": 16,
   "metadata": {},
   "outputs": [],
   "source": [
    "# include(\"../src/SpectralPOP.jl\")\n",
    "# using .SpectralPOP \n",
    "\n",
    "# opt_val,opt_sol = SpectralPOP.BTP_POP(x,f,g,h,k,R,EigAlg=\"Mix\",scale=true)"
   ]
  },
  {
   "cell_type": "code",
   "execution_count": null,
   "metadata": {},
   "outputs": [],
   "source": []
  },
  {
   "cell_type": "code",
   "execution_count": 18,
   "metadata": {},
   "outputs": [
    {
     "name": "stderr",
     "output_type": "stream",
     "text": [
      "WARNING: replacing module SpectralPOP.\n"
     ]
    }
   ],
   "source": [
    "include(\"../src/SpectralPOP.jl\")\n",
    "using .SpectralPOP\n",
    "\n",
    "SpectralPOP.save_data(x,f,g,h,R)"
   ]
  },
  {
   "cell_type": "code",
   "execution_count": null,
   "metadata": {},
   "outputs": [],
   "source": []
  }
 ],
 "metadata": {
  "kernelspec": {
   "display_name": "Julia 1.3.0",
   "language": "julia",
   "name": "julia-1.3"
  },
  "language_info": {
   "file_extension": ".jl",
   "mimetype": "application/julia",
   "name": "julia",
   "version": "1.3.0"
  }
 },
 "nbformat": 4,
 "nbformat_minor": 2
}
