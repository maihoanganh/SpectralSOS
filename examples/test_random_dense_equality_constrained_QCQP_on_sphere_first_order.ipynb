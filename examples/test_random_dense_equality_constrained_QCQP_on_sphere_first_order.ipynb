{
 "cells": [
  {
   "cell_type": "code",
   "execution_count": 1,
   "metadata": {},
   "outputs": [
    {
     "name": "stdout",
     "output_type": "stream",
     "text": [
      "***Problem setting***\n",
      "Number of variable: n=2\n",
      "====================\n",
      "Number of equality constraints: l_h=2\n",
      "====================\n",
      "Relaxed order: k=1\n"
     ]
    }
   ],
   "source": [
    "using DynamicPolynomials\n",
    "\n",
    "println(\"***Problem setting***\")\n",
    "\n",
    "n=2\n",
    "\n",
    "#N=[50;60;70;80;100;120;150;200;300;400]\n",
    "\n",
    "l=ceil(Int32, n/4)\n",
    "\n",
    "println(\"Number of variable: n=\",n)\n",
    "println(\"====================\")\n",
    "\n",
    "@polyvar x[1:n]# variables\n",
    "\n",
    "function generate_random_poly(v::Vector{Monomial{true}})\n",
    "    c=2*rand(Float64,length(v)).-1\n",
    "    return c'*v\n",
    "end\n",
    "\n",
    "R=1.0\n",
    "\n",
    "function generate_objective_and_constraints(x)\n",
    "    # random quadratic objective function f\n",
    "    v=reverse(monomials(x,0:2))\n",
    "    f=generate_random_poly(v)\n",
    "\n",
    "\n",
    "    # unit sphere constraint\n",
    "    h=[R-sum(x.^2)] #type of coefficients of each polynomial must be float\n",
    "\n",
    "    # random quadratic equality constraints\n",
    "    randx=2*rand(n).-1# create a feasible solution\n",
    "    randx=randx./sqrt(sum(randx.^2))\n",
    "\n",
    "\n",
    "    for j in 1:l\n",
    "        push!(h,generate_random_poly(v[2:end]))\n",
    "        h[end]-=h[end](x => randx) #make constraints feasible\n",
    "    end\n",
    "    l_h=length(h)\n",
    "\n",
    "    println(\"Number of equality constraints: l_h=\",l_h)\n",
    "    println(\"====================\")\n",
    "    return f,h\n",
    "end\n",
    "\n",
    "\n",
    "f,h=generate_objective_and_constraints(x)\n",
    "\n",
    "k=Int64(1)\n",
    "\n",
    "println(\"Relaxed order: k=\",k)\n",
    "\n",
    "\n",
    "# include(\"../src/SpectraSOS.jl\")\n",
    "# using .SpectralSOS\n",
    "\n",
    "# g=Vector{Polynomial{true,Float64}}([])\n",
    "\n",
    "# SpectralSOS.save_data(x,f,g,h,R)"
   ]
  },
  {
   "cell_type": "code",
   "execution_count": 2,
   "metadata": {},
   "outputs": [
    {
     "name": "stderr",
     "output_type": "stream",
     "text": [
      "WARNING: Compat.Printf is deprecated, use Printf instead.\n",
      "  likely near /home/hoanganh/Desktop/math-topics/SpectralPOP/codes/SpectralSOS/solvers/ProximalBundleMethod/ProximalMethod.jl:389\n"
     ]
    },
    {
     "data": {
      "text/plain": [
       "1"
      ]
     },
     "execution_count": 2,
     "metadata": {},
     "output_type": "execute_result"
    }
   ],
   "source": [
    "using SparseArrays\n",
    "\n",
    "include(\"../src/SpectralSOS.jl\")\n",
    "using .SpectralSOS\n",
    "\n",
    "\n",
    "data=\"/home/hoanganh/Desktop/math-topics/SpectralPOP/codes/dataPOP\"\n",
    "include(data*\"/densePOPsphere_deg2_var50_nineq0_neq14.jl\")\n",
    "\n",
    "x,f,g,h=SpectralSOS.get_POP(n,m,l,lmon_g,supp_g,coe_g,lmon_h,supp_h,coe_h,lmon_f,supp_f,coe_f);\n",
    "\n",
    "\n",
    "k=1"
   ]
  },
  {
   "cell_type": "code",
   "execution_count": 3,
   "metadata": {},
   "outputs": [
    {
     "name": "stdout",
     "output_type": "stream",
     "text": [
      "**SumOfSquares+Mosek:\n"
     ]
    },
    {
     "name": "stderr",
     "output_type": "stream",
     "text": [
      "WARNING: replacing module SpectralSOS.\n",
      "WARNING: Compat.Printf is deprecated, use Printf instead.\n",
      "  likely near /home/hoanganh/Desktop/math-topics/SpectralPOP/codes/SpectralSOS/solvers/ProximalBundleMethod/ProximalMethod.jl:389\n"
     ]
    },
    {
     "name": "stdout",
     "output_type": "stream",
     "text": [
      "OPTIMAL\n",
      "opt_val=-4.26516473506338\n",
      " 24.782780 seconds (38.00 M allocations: 1.943 GiB, 5.21% gc time)\n"
     ]
    },
    {
     "data": {
      "text/plain": [
       "-4.26516473506338"
      ]
     },
     "execution_count": 3,
     "metadata": {},
     "output_type": "execute_result"
    }
   ],
   "source": [
    "include(\"../src/SpectralSOS.jl\")\n",
    "using .SpectralSOS\n",
    "\n",
    "g=Vector{Polynomial{true,Float64}}([])\n",
    "opt_val = SpectralSOS.SumofSquares_POP(x,f,g,h,k) # SumOfSquares.jl + Mosek"
   ]
  },
  {
   "cell_type": "code",
   "execution_count": 4,
   "metadata": {},
   "outputs": [
    {
     "name": "stdout",
     "output_type": "stream",
     "text": [
      "**Constant trace property (CTP):\n",
      "**Convert moment relaxation to standard SDP:\n"
     ]
    },
    {
     "name": "stderr",
     "output_type": "stream",
     "text": [
      "WARNING: replacing module SpectralSOS.\n",
      "WARNING: Compat.Printf is deprecated, use Printf instead.\n",
      "  likely near /home/hoanganh/Desktop/math-topics/SpectralPOP/codes/SpectralSOS/solvers/ProximalBundleMethod/ProximalMethod.jl:389\n",
      "WARNING: Compat.norm is deprecated, use LinearAlgebra.norm instead.\n",
      "  likely near /home/hoanganh/.julia/packages/IJulia/a1SNk/src/kernel.jl:53\n"
     ]
    },
    {
     "name": "stdout",
     "output_type": "stream",
     "text": [
      "  Size of psd matrix: sk=51\n",
      "  Number of equality trace constraints: m=15\n",
      "  3.877711 seconds (6.42 M allocations: 419.185 MiB, 7.93% gc time)\n",
      "**LMBM solver:\n",
      "---------------\n",
      "| Parameters: |\n",
      "---------------\n",
      "n:       15\n",
      "maxtime: 300000.000000\n",
      "na:      2\n",
      "mcu:     5\n",
      "mc:      7\n",
      "rpar: \n",
      "ipar: \n",
      "-----------\n",
      "| Output: |\n",
      "-----------\n",
      "Termination:     1\n",
      "N. iter.:        115\n",
      "N. func. eval.:  278\n",
      "Final value:     0.196681\n",
      "Execution time:  0.830429\n",
      "  3.186755 seconds (1.40 M allocations: 96.292 MiB, 1.20% gc time)\n",
      "------------------------------------\n",
      "**Numerical result:\n",
      "====================================\n",
      "opt_val=-4.26516523445418\n",
      "====================================\n",
      "Dimension of the null space of Gram matrix = 2\n",
      "  0.010054 seconds (820 allocations: 307.234 KiB)\n",
      "  7.082740 seconds (7.82 M allocations: 515.849 MiB, 4.88% gc time)\n"
     ]
    },
    {
     "data": {
      "text/plain": [
       "(-4.26516523445418, Array{Float64,1}[])"
      ]
     },
     "execution_count": 4,
     "metadata": {},
     "output_type": "execute_result"
    }
   ],
   "source": [
    "include(\"../src/SpectralSOS.jl\")\n",
    "using .SpectralSOS\n",
    "\n",
    "opt_val,opt_sol = SpectralSOS.CTP_POP(x,f,h,k,R;method=\"LMBM\",EigAlg=\"Mix\",tol=1e-5,scale=true) #Limited memory bundle method"
   ]
  },
  {
   "cell_type": "code",
   "execution_count": null,
   "metadata": {},
   "outputs": [],
   "source": []
  },
  {
   "cell_type": "code",
   "execution_count": 5,
   "metadata": {
    "scrolled": true
   },
   "outputs": [
    {
     "name": "stdout",
     "output_type": "stream",
     "text": [
      "**Constant trace property (CTP):\n",
      "**Convert moment relaxation to standard SDP:\n",
      "  Size of psd matrix: sk=51\n",
      "  Number of equality trace constraints: m=15\n"
     ]
    },
    {
     "name": "stderr",
     "output_type": "stream",
     "text": [
      "WARNING: replacing module SpectralSOS.\n",
      "WARNING: Compat.Printf is deprecated, use Printf instead.\n",
      "  likely near /home/hoanganh/Desktop/math-topics/SpectralPOP/codes/SpectralSOS/solvers/ProximalBundleMethod/ProximalMethod.jl:389\n",
      "WARNING: Compat.norm is deprecated, use LinearAlgebra.norm instead.\n",
      "  likely near /home/hoanganh/.julia/packages/IJulia/a1SNk/src/kernel.jl:53\n"
     ]
    },
    {
     "name": "stdout",
     "output_type": "stream",
     "text": [
      "  0.275088 seconds (1.31 M allocations: 167.556 MiB, 13.88% gc time)\n",
      "**SketchyCGAL solver:\n",
      "- SketchyCGAL SDP Solver - Beta.V.0.0\n",
      "--------------------------\n",
      " iter=1 \n",
      " stopObj=0.4438876109713039 \n",
      " stopFeas=0.4328368822318199 \n",
      " primalObj=-0.1584469637869582 \n",
      "--------------------------\n",
      " iter=2 \n",
      " stopObj=0.5580318599693904 \n",
      " stopFeas=0.3215567774873431 \n",
      " primalObj=-0.2365851424928231 \n",
      "--------------------------\n",
      " iter=4 \n",
      " stopObj=0.054059922474177624 \n",
      " stopFeas=0.10058352437031498 \n",
      " primalObj=-0.24508026191119062 \n",
      "--------------------------\n",
      " iter=8 \n",
      " stopObj=-0.017411878293389527 \n",
      " stopFeas=0.06297413656626959 \n",
      " primalObj=-0.22015757211568585 \n",
      "--------------------------\n",
      " iter=16 \n",
      " stopObj=-0.04764343234956364 \n",
      " stopFeas=0.028980137039966682 \n",
      " primalObj=-0.20665712665344455 \n",
      "--------------------------\n",
      " iter=32 \n",
      " stopObj=0.012939680736132497 \n",
      " stopFeas=0.009402599005073922 \n",
      " primalObj=-0.1921939177103098 \n",
      "--------------------------\n",
      " iter=64 \n",
      " stopObj=0.024333707178094854 \n",
      " stopFeas=0.005708985831703279 \n",
      " primalObj=-0.19037657794465332 \n",
      "--------------------------\n",
      " iter=128 \n",
      " stopObj=0.003549758168459649 \n",
      " stopFeas=0.002138230438158396 \n",
      " primalObj=-0.19285392954742173 \n",
      "* status = stopping criteria met\n",
      "  2.850724 seconds (4.32 M allocations: 1.175 GiB, 4.97% gc time)\n",
      "------------------------------------\n",
      "**Numerical result:\n",
      "====================================\n",
      "opt_val=-4.227364901558725\n",
      "====================================\n",
      "Rank of moment matrix = 51\n",
      "  0.005175 seconds (503 allocations: 155.094 KiB)\n",
      "  3.131798 seconds (5.64 M allocations: 1.339 GiB, 5.74% gc time)\n"
     ]
    },
    {
     "data": {
      "text/plain": [
       "(-4.227364901558725, Array{Float64,1}[])"
      ]
     },
     "execution_count": 5,
     "metadata": {},
     "output_type": "execute_result"
    }
   ],
   "source": [
    "include(\"../src/SpectralSOS.jl\")\n",
    "using .SpectralSOS\n",
    "\n",
    "opt_val,opt_sol = SpectralSOS.CTP_POP(x,f,h,k,R;method=\"SketchyCGAL\",EigAlg=\"Normal\",tol=1e-3,scale=true)"
   ]
  },
  {
   "cell_type": "code",
   "execution_count": null,
   "metadata": {},
   "outputs": [],
   "source": []
  },
  {
   "cell_type": "code",
   "execution_count": 11,
   "metadata": {},
   "outputs": [
    {
     "name": "stderr",
     "output_type": "stream",
     "text": [
      "WARNING: replacing module SpectralPOP.\n"
     ]
    }
   ],
   "source": [
    "include(\"../src/SpectralSOS.jl\")\n",
    "using .SpectralSOS\n",
    "\n",
    "g=Vector{Polynomial{true,Float64}}([])\n",
    "\n",
    "SpectralSOS.save_data(x,f,g,h,R)"
   ]
  },
  {
   "cell_type": "code",
   "execution_count": 5,
   "metadata": {
    "scrolled": true
   },
   "outputs": [],
   "source": [
    "# include(\"../src/SpectralPOP.jl\")\n",
    "# using .SpectralPOP\n",
    "\n",
    "# g=Vector{Polynomial{true,Float64}}([])\n",
    "\n",
    "# opt_val,opt_sol = SpectralPOP.SumofSquares_POP_WithExtraction(x,f,g,h,k) # SumOfSquares + Mosek"
   ]
  },
  {
   "cell_type": "code",
   "execution_count": null,
   "metadata": {},
   "outputs": [],
   "source": []
  }
 ],
 "metadata": {
  "kernelspec": {
   "display_name": "Julia 1.3.0",
   "language": "julia",
   "name": "julia-1.3"
  },
  "language_info": {
   "file_extension": ".jl",
   "mimetype": "application/julia",
   "name": "julia",
   "version": "1.3.0"
  }
 },
 "nbformat": 4,
 "nbformat_minor": 2
}
