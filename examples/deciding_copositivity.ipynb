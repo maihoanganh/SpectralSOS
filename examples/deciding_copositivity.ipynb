{
 "cells": [
  {
   "cell_type": "code",
   "execution_count": 13,
   "metadata": {},
   "outputs": [
    {
     "name": "stdout",
     "output_type": "stream",
     "text": [
      "***Problem setting***\n",
      "Number of variable: n=15\n",
      "====================\n",
      "Number of equality constraints: l_h=1\n",
      "====================\n",
      "Relaxed order: k=2\n"
     ]
    }
   ],
   "source": [
    "using DynamicPolynomials\n",
    "\n",
    "println(\"***Problem setting***\")\n",
    "\n",
    "n=15\n",
    "\n",
    "println(\"Number of variable: n=\",n)\n",
    "println(\"====================\")\n",
    "\n",
    "@polyvar x[1:n]# variables\n",
    "\n",
    "# random quadratic objective function f\n",
    "A=2*rand(Float64,n,n).-1\n",
    "A=0.5*(A+A')\n",
    "f=sum(A[i,j]*x[i]^2*x[j]^2 for i=1:n for j=1:n)\n",
    "\n",
    "\n",
    "# unit sphere constraint\n",
    "R=1.0\n",
    "h=[R-sum(x.^2)] #type of coefficients of each polynomial must be float\n",
    "\n",
    "l_h=length(h)\n",
    "\n",
    "println(\"Number of equality constraints: l_h=\",l_h)\n",
    "println(\"====================\")\n",
    "\n",
    "k=Int64(2)\n",
    "\n",
    "println(\"Relaxed order: k=\",k)\n",
    "    \n"
   ]
  },
  {
   "cell_type": "code",
   "execution_count": 15,
   "metadata": {},
   "outputs": [
    {
     "name": "stdout",
     "output_type": "stream",
     "text": [
      "**SumOfSquares+Mosek:\n",
      "OPTIMAL\n",
      "opt_val=-0.9170127402227657\n",
      "  6.968497 seconds (2.82 M allocations: 323.127 MiB, 1.61% gc time)\n"
     ]
    },
    {
     "name": "stderr",
     "output_type": "stream",
     "text": [
      "WARNING: replacing module SpectralSOS.\n",
      "WARNING: Compat.Printf is deprecated, use Printf instead.\n",
      "  likely near /home/hoanganh/Desktop/math-topics/SpectralPOP/codes/SpectralSOS/solvers/ProximalBundleMethod/ProximalMethod.jl:389\n"
     ]
    },
    {
     "data": {
      "text/plain": [
       "-0.9170127402227657"
      ]
     },
     "execution_count": 15,
     "metadata": {},
     "output_type": "execute_result"
    }
   ],
   "source": [
    "include(\"../src/SpectralSOS.jl\")\n",
    "using .SpectralSOS\n",
    "\n",
    "g=Vector{Polynomial{true,Float64}}([])\n",
    "\n",
    "opt_val = SpectralSOS.SumofSquares_POP(x,f,g,h,k)"
   ]
  },
  {
   "cell_type": "code",
   "execution_count": 14,
   "metadata": {
    "scrolled": true
   },
   "outputs": [
    {
     "name": "stdout",
     "output_type": "stream",
     "text": [
      "**Constant trace property (CTP):\n",
      "**Convert moment relaxation to standard SDP:\n",
      "  Size of psd matrix: sk=136\n",
      "  Number of equality trace constraints: m=5577\n",
      "  0.099125 seconds (316.43 k allocations: 53.346 MiB)\n",
      "**LMBM solver:\n",
      "---------------\n",
      "| Parameters: |\n",
      "---------------\n",
      "n:       5577\n",
      "maxtime: 300000.000000\n",
      "na:      2\n",
      "mcu:     5\n",
      "mc:      7\n",
      "rpar: \n",
      "ipar: \n",
      "-----------\n",
      "| Output: |\n",
      "-----------\n",
      "Termination:     2\n",
      "N. iter.:        206\n",
      "N. func. eval.:  390\n",
      "Final value:     0.046349\n",
      "Execution time:  9.837646\n",
      "  3.916413 seconds (1.14 M allocations: 292.537 MiB, 1.65% gc time)\n",
      "------------------------------------\n",
      "**Numerical result:\n",
      "====================================\n",
      "opt_val=-0.9170127666616117\n",
      "====================================\n",
      "Dimension of the null space of Gram matrix = 2\n",
      "------------------------------------\n",
      "atom 1 = [2.1624298688056428e-8, -1.28722998114508e-16, 6.973298484341011e-16, 0.9997772225684073, -5.846979145604486e-17, 2.501759418167513e-5, -2.1212805415802062e-16, 1.2060392745155808e-16, -1.2968667395601763e-16, -7.407482905084618e-17, 6.840003064263674e-17, -1.3238182060509817e-14, -2.1666864241143806e-16, 2.1485924018489736e-15, -1.2463334756173937e-16]\n",
      "  check gap of lower bound  = 0.0008169131304224253\n",
      "  check equality constraint 1 = 0.0004455046075209079\n",
      "####################################\n",
      "Optimal solution: opt_sol = [2.1624298688056428e-8, -1.28722998114508e-16, 6.973298484341011e-16, 0.9997772225684073, -5.846979145604486e-17, 2.501759418167513e-5, -2.1212805415802062e-16, 1.2060392745155808e-16, -1.2968667395601763e-16, -7.407482905084618e-17, 6.840003064263674e-17, -1.3238182060509817e-14, -2.1666864241143806e-16, 2.1485924018489736e-15, -1.2463334756173937e-16]\n",
      "####################################\n",
      "------------------------------------\n",
      "atom 2 = [2.1674093405282067e-8, -1.4944626353687924e-16, 7.400394934985666e-16, -1.0002362689609683, -4.939563612031432e-17, 1.9794119892464247e-5, -6.224548650634945e-18, -2.5170431886214406e-16, -3.7365340764859404e-17, 1.8575353109430387e-16, -2.814997880985934e-15, -8.116611336513238e-14, -1.878385189849509e-17, -1.5831134122845163e-15, -2.6412848150500633e-16]\n",
      "  check gap of lower bound  = 0.0008669268739852631\n",
      "  check equality constraint 1 = 0.00047259413676625783\n",
      "####################################\n",
      "Optimal solution: opt_sol = [2.1674093405282067e-8, -1.4944626353687924e-16, 7.400394934985666e-16, -1.0002362689609683, -4.939563612031432e-17, 1.9794119892464247e-5, -6.224548650634945e-18, -2.5170431886214406e-16, -3.7365340764859404e-17, 1.8575353109430387e-16, -2.814997880985934e-15, -8.116611336513238e-14, -1.878385189849509e-17, -1.5831134122845163e-15, -2.6412848150500633e-16]\n",
      "####################################\n",
      "  0.019608 seconds (11.07 k allocations: 2.065 MiB)\n",
      "  4.035762 seconds (1.47 M allocations: 347.970 MiB, 1.61% gc time)\n"
     ]
    },
    {
     "name": "stderr",
     "output_type": "stream",
     "text": [
      "WARNING: replacing module SpectralSOS.\n",
      "WARNING: Compat.Printf is deprecated, use Printf instead.\n",
      "  likely near /home/hoanganh/Desktop/math-topics/SpectralPOP/codes/SpectralSOS/solvers/ProximalBundleMethod/ProximalMethod.jl:389\n",
      "WARNING: Compat.norm is deprecated, use LinearAlgebra.norm instead.\n",
      "  likely near /home/hoanganh/.julia/packages/IJulia/a1SNk/src/kernel.jl:53\n"
     ]
    },
    {
     "data": {
      "text/plain": [
       "(-0.9170127666616117, [2.1674093405282067e-8, -1.4944626353687924e-16, 7.400394934985666e-16, -1.0002362689609683, -4.939563612031432e-17, 1.9794119892464247e-5, -6.224548650634945e-18, -2.5170431886214406e-16, -3.7365340764859404e-17, 1.8575353109430387e-16, -2.814997880985934e-15, -8.116611336513238e-14, -1.878385189849509e-17, -1.5831134122845163e-15, -2.6412848150500633e-16])"
      ]
     },
     "execution_count": 14,
     "metadata": {},
     "output_type": "execute_result"
    }
   ],
   "source": [
    "include(\"../src/SpectralSOS.jl\")\n",
    "using .SpectralSOS\n",
    "\n",
    "\n",
    "opt_val,opt_sol = SpectralSOS.CTP_POP(x,f,h,k,R;method=\"LMBM\",EigAlg=\"Mix\",tol=1e-5,scale=true)"
   ]
  },
  {
   "cell_type": "code",
   "execution_count": null,
   "metadata": {},
   "outputs": [],
   "source": [
    "# include(\"../src/SpectralPOP.jl\")\n",
    "# using .SpectralPOP\n",
    "\n",
    "# g=Vector{Polynomial{true,Float64}}([])\n",
    "\n",
    "# opt_val,opt_sol = SpectralPOP.SumofSquares_POP_WithExtraction(x,f,g,h,k)"
   ]
  },
  {
   "cell_type": "code",
   "execution_count": 16,
   "metadata": {},
   "outputs": [
    {
     "name": "stderr",
     "output_type": "stream",
     "text": [
      "WARNING: replacing module SpectralSOS.\n",
      "WARNING: Compat.Printf is deprecated, use Printf instead.\n",
      "  likely near /home/hoanganh/Desktop/math-topics/SpectralPOP/codes/SpectralSOS/solvers/ProximalBundleMethod/ProximalMethod.jl:389\n"
     ]
    }
   ],
   "source": [
    "include(\"../src/SpectralSOS.jl\")\n",
    "using .SpectralSOS\n",
    "\n",
    "SpectralSOS.save_deciding_copos(n,A)"
   ]
  },
  {
   "cell_type": "code",
   "execution_count": null,
   "metadata": {},
   "outputs": [],
   "source": []
  }
 ],
 "metadata": {
  "kernelspec": {
   "display_name": "Julia 1.3.0",
   "language": "julia",
   "name": "julia-1.3"
  },
  "language_info": {
   "file_extension": ".jl",
   "mimetype": "application/julia",
   "name": "julia",
   "version": "1.3.0"
  }
 },
 "nbformat": 4,
 "nbformat_minor": 2
}
