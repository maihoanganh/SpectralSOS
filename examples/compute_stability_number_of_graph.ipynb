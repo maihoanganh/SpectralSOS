{
 "cells": [
  {
   "cell_type": "code",
   "execution_count": 4,
   "metadata": {},
   "outputs": [
    {
     "name": "stdout",
     "output_type": "stream",
     "text": [
      "***Problem setting***\n",
      "Number of variable: n=5\n",
      "====================\n",
      "Number of equality constraints: l_h=1\n",
      "====================\n",
      "Relaxed order: k=2\n"
     ]
    },
    {
     "name": "stderr",
     "output_type": "stream",
     "text": [
      "WARNING: replacing module SpectralPOP.\n"
     ]
    }
   ],
   "source": [
    "using DynamicPolynomials, SparseArrays\n",
    "\n",
    "println(\"***Problem setting***\")\n",
    "\n",
    "n=5\n",
    "\n",
    "println(\"Number of variable: n=\",n)\n",
    "println(\"====================\")\n",
    "\n",
    "@polyvar x[1:n]# variables\n",
    "\n",
    "# random quadratic objective function f\n",
    "\n",
    "A=sprand(n, n, 0.5)\n",
    "for i in 1:n\n",
    "    for j=i:n\n",
    "        if i == j\n",
    "            A[j,j]=1\n",
    "        else\n",
    "            A[i,j]=sign(A[j,i])\n",
    "            A[j,i]=A[i,j]\n",
    "        end\n",
    "    end\n",
    "end\n",
    "\n",
    "\n",
    "f=sum(A[i,j]*x[i]^2*x[j]^2 for i=1:n for j=1:n)\n",
    "\n",
    "\n",
    "# unit sphere constraint\n",
    "R=1.0\n",
    "h=[R-sum(x.^2)] #type of coefficients of each polynomial must be float\n",
    "\n",
    "l_h=length(h)\n",
    "\n",
    "println(\"Number of equality constraints: l_h=\",l_h)\n",
    "println(\"====================\")\n",
    "\n",
    "k=Int64(2)\n",
    "\n",
    "println(\"Relaxed order: k=\",k)\n",
    "    \n",
    "include(\"../src/SpectralPOP.jl\")\n",
    "using .SpectralPOP\n",
    "\n",
    "g=Vector{Polynomial{true,Float64}}([]);\n",
    "\n",
    "#SpectralPOP.save_data(x,f,g,h,R)\n",
    "    \n"
   ]
  },
  {
   "cell_type": "code",
   "execution_count": 5,
   "metadata": {
    "scrolled": true
   },
   "outputs": [
    {
     "name": "stdout",
     "output_type": "stream",
     "text": [
      "**Constant trace property (CTP):\n",
      "**Convert moment relaxation to standard SDP:\n",
      "  Size of psd matrix: sk=21\n",
      "  Number of equality trace constraints: m=127\n",
      "  0.048795 seconds (56.70 k allocations: 3.223 MiB)\n",
      "**LMBM solver:\n",
      "---------------\n",
      "| Parameters: |\n",
      "---------------\n",
      "n:       127\n",
      "maxtime: 300000.000000\n",
      "na:      2\n",
      "mcu:     5\n",
      "mc:      7\n",
      "rpar: \n",
      "ipar: \n",
      "-----------\n",
      "| Output: |\n",
      "-----------\n",
      "Termination:     2\n",
      "N. iter.:        1339\n",
      "N. func. eval.:  4247\n",
      "Final value:     -0.123450\n",
      "Execution time:  1.654205\n",
      "  2.776706 seconds (1.85 M allocations: 171.540 MiB, 1.98% gc time)\n",
      "------------------------------------\n",
      "**Numerical result:\n",
      "====================================\n",
      "opt_val=0.49379895891051356\n",
      "====================================\n",
      "Dimension of the null space of Gram matrix = 6\n",
      "------------------------------------\n",
      "atom 1 = [0.0012833047120864723, 0.1252083500733772, 0.0034212294343661603, 0.040306604046408796, 0.7050491267463384]\n",
      "  check gap of lower bound  = 0.24638315757628487\n",
      "  check equality constraint 1 = 0.48559062393454777\n",
      "------------------------------------\n",
      "atom 2 = [-0.010023694350101519, 0.5421745155098238, -0.028657834599347953, -0.18018162273663518, 0.6182185830783832]\n",
      "  check gap of lower bound  = 0.2398702511172704\n",
      "  check equality constraint 1 = 0.29046541516388913\n",
      "------------------------------------\n",
      "atom 3 = [-0.003886459800006459, -0.18479338271229812, -0.01888892193355598, -0.11066896166302101, -0.2966361470689478]\n",
      "  check gap of lower bound  = 0.48380348567140524\n",
      "  check equality constraint 1 = 0.8652388869406754\n",
      "------------------------------------\n",
      "atom 4 = [0.02244763978194357, 1.7804677402090574, 0.06964191341280107, -1.8043118514604108, -0.5737103019034026]\n",
      "  check gap of lower bound  = 40.97531414935294\n",
      "  check equality constraint 1 = 5.760104034391312\n",
      "------------------------------------\n",
      "atom 5 = [0.14961375974926258, -2.180839674108966, 0.25345675199715967, 1.9964573843146913, -0.15886519124217685]\n",
      "  check gap of lower bound  = 77.45412374133231\n",
      "  check equality constraint 1 = 7.853766522780033\n",
      "------------------------------------\n",
      "atom 6 = [1.1102700448069796, 0.10652878694913002, -0.16655003583367925, -0.15289082767739226, -0.07420092105317203]\n",
      "  check gap of lower bound  = 1.1975565756057829\n",
      "  check equality constraint 1 = 0.3006682511537624\n",
      "  0.683591 seconds (877.92 k allocations: 43.677 MiB, 3.92% gc time)\n",
      "  3.625094 seconds (2.90 M allocations: 223.868 MiB, 2.26% gc time)\n"
     ]
    },
    {
     "name": "stderr",
     "output_type": "stream",
     "text": [
      "WARNING: replacing module SpectralPOP.\n"
     ]
    },
    {
     "data": {
      "text/plain": [
       "(0.49379895891051356, Array{Float64,1}[])"
      ]
     },
     "execution_count": 5,
     "metadata": {},
     "output_type": "execute_result"
    }
   ],
   "source": [
    "include(\"../src/SpectralPOP.jl\")\n",
    "using .SpectralPOP\n",
    "\n",
    "\n",
    "opt_val,opt_sol = SpectralPOP.CTP_POP(x,f,h,k,R;method=\"LMBM\",EigAlg=\"Mix\",tol=1e-5)"
   ]
  },
  {
   "cell_type": "code",
   "execution_count": 6,
   "metadata": {},
   "outputs": [
    {
     "name": "stdout",
     "output_type": "stream",
     "text": [
      "**SumOfSquares+Mosek:\n",
      "OPTIMAL\n",
      "opt_val=0.4999999985733976\n",
      " 23.453565 seconds (36.08 M allocations: 1.793 GiB, 4.43% gc time)\n"
     ]
    },
    {
     "name": "stderr",
     "output_type": "stream",
     "text": [
      "WARNING: replacing module SpectralPOP.\n"
     ]
    },
    {
     "data": {
      "text/plain": [
       "0.4999999985733976"
      ]
     },
     "execution_count": 6,
     "metadata": {},
     "output_type": "execute_result"
    }
   ],
   "source": [
    "include(\"../src/SpectralPOP.jl\")\n",
    "using .SpectralPOP\n",
    "\n",
    "g=Vector{Polynomial{true,Float64}}([])\n",
    "\n",
    "opt_val= SpectralPOP.SumofSquares_POP(x,f,g,h,k)"
   ]
  },
  {
   "cell_type": "code",
   "execution_count": 27,
   "metadata": {
    "scrolled": true
   },
   "outputs": [
    {
     "name": "stdout",
     "output_type": "stream",
     "text": [
      "**Convert moment relaxation to standard SDP:\n",
      "  Size of psd matrix: sk=10\n",
      "  Number of equality trace constraints: m=31\n",
      "  0.043141 seconds (52.29 k allocations: 2.719 MiB)\n",
      "**SketchyCGAL solver:\n",
      "- SketchyCGAL SDP Solver - Beta.V.0.0\n",
      "--------------------------\n",
      " iter=1 \n",
      " stopObj=0.1505776680475612 \n",
      " stopFeas=0.1744169799824444 \n",
      " primalObj=1.34327356375176e-30 \n",
      "--------------------------\n",
      " iter=2 \n",
      " stopObj=1.0939791594168369 \n",
      " stopFeas=0.7429192350919199 \n",
      " primalObj=0.00010119643896527988 \n",
      "--------------------------\n",
      " iter=4 \n",
      " stopObj=0.6265883313663286 \n",
      " stopFeas=0.369537124694642 \n",
      " primalObj=0.06972665874584195 \n",
      "--------------------------\n",
      " iter=8 \n",
      " stopObj=0.3148073791050494 \n",
      " stopFeas=0.1983128512000881 \n",
      " primalObj=0.08045846478560234 \n",
      "--------------------------\n",
      " iter=16 \n",
      " stopObj=0.20172389639913776 \n",
      " stopFeas=0.06944551368929482 \n",
      " primalObj=0.08548561197109122 \n",
      "--------------------------\n",
      " iter=32 \n",
      " stopObj=0.06414667838796057 \n",
      " stopFeas=0.02481208881959321 \n",
      " primalObj=0.06455002607706731 \n",
      "--------------------------\n",
      " iter=64 \n",
      " stopObj=0.06947629499001018 \n",
      " stopFeas=0.013030806498527073 \n",
      " primalObj=0.06276692547711685 \n",
      "--------------------------\n",
      " iter=128 \n",
      " stopObj=0.04002189545586428 \n",
      " stopFeas=0.006073947250716133 \n",
      " primalObj=0.05825201707543847 \n",
      "--------------------------\n",
      " iter=256 \n",
      " stopObj=0.028500584020034067 \n",
      " stopFeas=0.0024902430746168384 \n",
      " primalObj=0.056389544451211915 \n",
      "--------------------------\n",
      " iter=512 \n",
      " stopObj=0.03436228243793046 \n",
      " stopFeas=0.0025219971522858994 \n",
      " primalObj=0.056177643192762854 \n",
      "--------------------------\n",
      " iter=1024 \n",
      " stopObj=0.010618682034390078 \n",
      " stopFeas=0.0006031372779204578 \n",
      " primalObj=0.05610330535302145 \n",
      "--------------------------\n",
      " iter=2048 \n",
      " stopObj=0.013582453399179822 \n",
      " stopFeas=0.00046577084616213445 \n",
      " primalObj=0.055965777178806325 \n",
      "* status = stopping criteria met\n",
      "  1.557567 seconds (1.93 M allocations: 239.105 MiB, 3.96% gc time)\n",
      "------------------------------------\n",
      "**Numerical result:\n",
      "====================================\n",
      "opt_val=0.5001490527780121\n",
      "====================================\n",
      "Rank of moment matrix = 10\n",
      "  0.000045 seconds (88 allocations: 9.188 KiB)\n",
      "  1.601208 seconds (1.98 M allocations: 241.856 MiB, 3.85% gc time)\n"
     ]
    },
    {
     "name": "stderr",
     "output_type": "stream",
     "text": [
      "WARNING: replacing module SpectralPOP.\n"
     ]
    },
    {
     "data": {
      "text/plain": [
       "(0.5001490527780121, Array{Float64,1}[])"
      ]
     },
     "execution_count": 27,
     "metadata": {},
     "output_type": "execute_result"
    }
   ],
   "source": [
    "include(\"../src/SpectralPOP.jl\")\n",
    "using .SpectralPOP\n",
    "\n",
    "\n",
    "opt_val,opt_sol = SpectralPOP.CTP_POP(x,f,h,k,R;method=\"SketchyCGAL\",EigAlg=\"Mix\",tol=1e-3)"
   ]
  },
  {
   "cell_type": "code",
   "execution_count": 9,
   "metadata": {},
   "outputs": [
    {
     "name": "stdout",
     "output_type": "stream",
     "text": [
      "**SumOfSquares+Mosek:\n"
     ]
    },
    {
     "name": "stderr",
     "output_type": "stream",
     "text": [
      "WARNING: replacing module SpectralPOP.\n"
     ]
    },
    {
     "name": "stdout",
     "output_type": "stream",
     "text": [
      "OPTIMAL\n",
      "opt_val=0.33333327306830823\n",
      "Atomic measure on the variables x[1], x[2], x[3], x[4], x[5] with 16 atoms:\n",
      " at [0.3730220464038524, 0.44066680553953663, 0.5773505505874785, 0.5773505505874488, 0.0] with weight 0.062448078046616236\n",
      " at [-0.37302204640385156, -0.4406668055395363, -0.5773505505874776, -0.5773505505874479, 0.0] with weight 0.06244807804661637\n",
      " at [-0.37302204640385134, 0.4406668055395353, 0.5773505505874774, 0.5773505505874473, 0.0] with weight 0.06244807804661657\n",
      " at [0.3730220464038516, 0.4406668055395374, 0.577350550587478, -0.5773505505874501, 0.0] with weight 0.06244807804661605\n",
      " at [0.3730220464038515, -0.44066680553953713, 0.5773505505874772, 0.5773505505874494, 0.0] with weight 0.06244807804661617\n",
      " at [0.37302204640385167, -0.44066680553953563, -0.5773505505874779, -0.5773505505874479, 0.0] with weight 0.0624480780466165\n",
      " at [-0.3730220464038515, -0.44066680553953563, -0.5773505505874773, 0.5773505505874479, 0.0] with weight 0.06244807804661626\n",
      " at [-0.37302204640385156, 0.4406668055395361, -0.5773505505874783, -0.5773505505874481, 0.0] with weight 0.062448078046616264\n",
      " at [0.37302204640385145, 0.4406668055395354, -0.5773505505874771, 0.5773505505874473, 0.0] with weight 0.06244807804661657\n",
      " at [-0.37302204640385095, 0.4406668055395353, 0.577350550587477, -0.5773505505874476, 0.0] with weight 0.06244807804661652\n",
      " at [-0.37302204640385184, -0.44066680553953574, 0.5773505505874776, 0.5773505505874477, 0.0] with weight 0.0624480780466163\n",
      " at [0.37302204640385095, -0.4406668055395351, 0.5773505505874771, -0.5773505505874476, 0.0] with weight 0.06244807804661687\n",
      " at [-0.3730220464038513, -0.4406668055395355, 0.5773505505874772, -0.577350550587447, 0.0] with weight 0.06244807804661627\n",
      " at [-0.37302204640385095, 0.44066680553953486, -0.5773505505874766, 0.5773505505874472, 0.0] with weight 0.062448078046616555\n",
      " at [0.3730220464038507, -0.44066680553953597, -0.5773505505874765, 0.5773505505874484, 0.0] with weight 0.062448078046616375\n",
      " at [0.3730220464038512, 0.44066680553953635, -0.577350550587477, -0.5773505505874491, 0.0] with weight 0.06244807804661625\n",
      " 38.033110 seconds (60.16 M allocations: 2.975 GiB, 5.21% gc time)\n"
     ]
    },
    {
     "data": {
      "text/plain": [
       "(0.33333327306830823, [0.3730220464038524, 0.44066680553953663, 0.5773505505874785, 0.5773505505874488, 0.0])"
      ]
     },
     "execution_count": 9,
     "metadata": {},
     "output_type": "execute_result"
    }
   ],
   "source": [
    "include(\"../src/SpectralPOP.jl\")\n",
    "using .SpectralPOP\n",
    "\n",
    "g=Vector{Polynomial{true,Float64}}([])\n",
    "\n",
    "opt_val,opt_sol = SpectralPOP.SumofSquares_POP_WithExtraction(x,f,g,h,k)"
   ]
  },
  {
   "cell_type": "code",
   "execution_count": null,
   "metadata": {},
   "outputs": [],
   "source": []
  }
 ],
 "metadata": {
  "kernelspec": {
   "display_name": "Julia 1.3.0",
   "language": "julia",
   "name": "julia-1.3"
  },
  "language_info": {
   "file_extension": ".jl",
   "mimetype": "application/julia",
   "name": "julia",
   "version": "1.3.0"
  }
 },
 "nbformat": 4,
 "nbformat_minor": 2
}
