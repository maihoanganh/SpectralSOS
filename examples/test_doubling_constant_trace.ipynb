{
 "cells": [
  {
   "cell_type": "code",
   "execution_count": 1,
   "metadata": {},
   "outputs": [],
   "source": [
    "using DynamicPolynomials\n",
    "\n",
    "# println(\"***Problem setting***\")\n",
    "\n",
    "\n",
    "\n",
    "# n=10\n",
    "# # N=[10;15;20;25;30;35]\n",
    "\n",
    "# # for n in N\n",
    "# l_g=ceil(Int32, n/8)\n",
    "# l_h=ceil(Int32, n/8)\n",
    "\n",
    "# println(\"Number of variable: n=\",n)\n",
    "# println(\"====================\")\n",
    "\n",
    "# @polyvar x[1:n]# variables\n",
    "\n",
    "\n",
    "\n",
    "# # random quadratic objective function f\n",
    "# v=reverse(monomials(x,0:2))\n",
    "# c=2*rand(Float64,length(v)).-1\n",
    "# f=c'*v\n",
    "\n",
    "\n",
    "# # unit sphere constraint\n",
    "# R=1.0\n",
    "# g=[R-sum(x.^2)] #type of coefficients of each polynomial must be float\n",
    "\n",
    "\n",
    "\n",
    "# # random quadratic equality constraints\n",
    "# randx=2*rand(n).-1# create a feasible solution\n",
    "# randx=randx./sqrt(sum(randx.^2))\n",
    "# randx=randx.*rand(1)\n",
    "\n",
    "# for j in 1:l_g-1\n",
    "#     a=2*rand(Float64,length(v[2:end])).-1\n",
    "#     push!(g,a'*v[2:end])\n",
    "#     g[end]-=g[end](x => randx)#make constraints feasible\n",
    "#     g[end]+=rand(1)[1]\n",
    "# end\n",
    "# #g=Polynomial{true,Float64}[]\n",
    "# l_g=length(g)\n",
    "# println(\"Number of inequality constraints: l_g=\",l_g)\n",
    "# println(\"====================\")\n",
    "\n",
    "# h=Polynomial{true,Float64}[]\n",
    "# for j in 1:l_h\n",
    "#     a=2*rand(Float64,length(v[2:end])).-1\n",
    "#     push!(h,a'*v[2:end])\n",
    "#     h[end]-=h[end](x => randx) #make constraints feasible\n",
    "# end\n",
    "# l_h=length(h)\n",
    "\n",
    "# println(\"Number of equality constraints: l_h=\",l_h)\n",
    "# println(\"====================\")\n",
    "\n",
    "# k=2\n",
    "\n",
    "# println(\"Relaxed order: k=\",k)\n",
    "    \n",
    "    \n",
    "# include(\"../src/SpectralPOP.jl\")\n",
    "# using .SpectralPOP\n",
    "\n",
    "# SpectralPOP.save_data(x,f,g,h,R)\n",
    "    \n",
    "# end"
   ]
  },
  {
   "cell_type": "code",
   "execution_count": 6,
   "metadata": {},
   "outputs": [
    {
     "name": "stderr",
     "output_type": "stream",
     "text": [
      "WARNING: Compat.Printf is deprecated, use Printf instead.\n",
      "  likely near /home/hoanganh/Desktop/math-topics/SpectralPOP/codes/SpectralSOS/solvers/ProximalBundleMethod/ProximalMethod.jl:389\n"
     ]
    },
    {
     "data": {
      "text/plain": [
       "2"
      ]
     },
     "execution_count": 6,
     "metadata": {},
     "output_type": "execute_result"
    }
   ],
   "source": [
    "using SparseArrays, DynamicPolynomials\n",
    "\n",
    "include(\"../src/SpectralSOS.jl\")\n",
    "using .SpectralSOS\n",
    "\n",
    "data=\"/home/hoanganh/Desktop/math-topics/SpectralPOP/codes/dataPOP\"\n",
    "\n",
    "include(data*\"/densePOPsphere_deg2_var10_nineq2_neq2.jl\")\n",
    "\n",
    "x,f,g,h=SpectralSOS.get_POP(n,m,l,lmon_g,supp_g,coe_g,lmon_h,supp_h,coe_h,lmon_f,supp_f,coe_f);\n",
    "\n",
    "\n",
    "k=2"
   ]
  },
  {
   "cell_type": "code",
   "execution_count": 7,
   "metadata": {},
   "outputs": [
    {
     "name": "stdout",
     "output_type": "stream",
     "text": [
      "**SumOfSquares+Mosek:\n"
     ]
    },
    {
     "name": "stderr",
     "output_type": "stream",
     "text": [
      "WARNING: replacing module SpectralSOS.\n",
      "WARNING: Compat.Printf is deprecated, use Printf instead.\n",
      "  likely near /home/hoanganh/Desktop/math-topics/SpectralPOP/codes/SpectralSOS/solvers/ProximalBundleMethod/ProximalMethod.jl:389\n"
     ]
    },
    {
     "name": "stdout",
     "output_type": "stream",
     "text": [
      "OPTIMAL\n",
      "opt_val=-3.1779245545624164\n",
      " 24.187300 seconds (38.99 M allocations: 1.978 GiB, 4.34% gc time)\n"
     ]
    },
    {
     "data": {
      "text/plain": [
       "-3.1779245545624164"
      ]
     },
     "execution_count": 7,
     "metadata": {},
     "output_type": "execute_result"
    }
   ],
   "source": [
    "include(\"../src/SpectralSOS.jl\")\n",
    "using .SpectralSOS\n",
    "\n",
    "opt_val = SpectralSOS.SumofSquares_POP(x,f,g,h,k)"
   ]
  },
  {
   "cell_type": "code",
   "execution_count": 8,
   "metadata": {
    "scrolled": true
   },
   "outputs": [
    {
     "name": "stdout",
     "output_type": "stream",
     "text": [
      "**Conpute upper bound 1\n",
      "**Constant trace property (CTP):"
     ]
    },
    {
     "name": "stderr",
     "output_type": "stream",
     "text": [
      "WARNING: replacing module SpectralSOS.\n",
      "WARNING: Compat.Printf is deprecated, use Printf instead.\n",
      "  likely near /home/hoanganh/Desktop/math-topics/SpectralPOP/codes/SpectralSOS/solvers/ProximalBundleMethod/ProximalMethod.jl:389\n",
      "WARNING: Compat.norm is deprecated, use LinearAlgebra.norm instead.\n",
      "  likely near /home/hoanganh/.julia/packages/IJulia/a1SNk/src/kernel.jl:53\n"
     ]
    },
    {
     "name": "stdout",
     "output_type": "stream",
     "text": [
      "\n",
      "**Convert moment relaxation to standard SDP:\n",
      "  Size of psd matrix: sk=78\n",
      "  Number of equality trace constraints: m=1951\n",
      "  4.261151 seconds (5.53 M allocations: 298.297 MiB, 2.89% gc time)\n",
      "**LMBM solver:\n",
      "---------------\n",
      "| Parameters: |\n",
      "---------------\n",
      "n:       1951\n",
      "maxtime: 300000.000000\n",
      "na:      2\n",
      "mcu:     5\n",
      "mc:      7\n",
      "rpar: \n",
      "ipar: \n",
      "-----------\n",
      "| Output: |\n",
      "-----------\n",
      "Termination:     3\n",
      "N. iter.:        31\n",
      "N. func. eval.:  122\n",
      "Final value:     0.132783\n",
      "Execution time:  0.428787\n",
      "  2.356402 seconds (1.31 M allocations: 92.654 MiB, 1.50% gc time)\n",
      "------------------------------------\n",
      "**Numerical result:\n",
      "====================================\n",
      "opt_val=-0.9936543360201807\n",
      "====================================\n",
      "Dimension of the null space of Gram matrix = 1\n",
      "------------------------------------\n",
      "atom 1 = [-0.019222067876862457, 0.005667767341357365, 0.0038351085348484856, 0.029155581462656087, -0.027961064149466173, -0.00893494680343879, 0.009122681895459077, -0.015128791886876367, 0.02100190990205279, 0.024752388038822733, 1.4218671434250334e-12]\n",
      "  check gap of lower bound  = 0.0028517775269897294\n",
      "  check equality constraint 1 = 0.029883213440988668\n",
      "  check equality constraint 2 = 0.017305867751159484\n",
      "  check equality constraint 3 = 0.9965061135471704\n",
      "  0.564820 seconds (842.56 k allocations: 41.909 MiB, 4.58% gc time)\n",
      "  7.183123 seconds (7.68 M allocations: 432.894 MiB, 2.57% gc time)\n",
      "--------------------------\n",
      "**Conpute upper bound 2\n",
      "**Constant trace property (CTP):\n",
      "**Convert moment relaxation to standard SDP:\n",
      "  Size of psd matrix: sk=78\n",
      "  Number of equality trace constraints: m=1951\n",
      "  0.049314 seconds (232.67 k allocations: 37.323 MiB)\n",
      "**LMBM solver:\n",
      "---------------\n",
      "| Parameters: |\n",
      "---------------\n",
      "n:       1951\n",
      "maxtime: 300000.000000\n",
      "na:      2\n",
      "mcu:     5\n",
      "mc:      7\n",
      "rpar: \n",
      "ipar: \n",
      "-----------\n",
      "| Output: |\n",
      "-----------\n",
      "Termination:     1\n",
      "N. iter.:        58\n",
      "N. func. eval.:  72\n",
      "Final value:     0.401109\n",
      "Execution time:  0.287704\n",
      "  0.116665 seconds (30.70 k allocations: 15.236 MiB, 21.86% gc time)\n",
      "------------------------------------\n",
      "**Numerical result:\n",
      "====================================\n",
      "opt_val=-2.4574367934411145\n",
      "====================================\n",
      "Dimension of the null space of Gram matrix = 1\n",
      "------------------------------------\n",
      "atom 1 = [-0.43999629719644556, -0.17232902802494826, -0.17803204364061817, -0.019772380506437613, -0.2206920496747007, 0.1034619826208881, 0.7767108407551572, 0.012855866504169047, 0.11951809900027814, -0.2392240418038605, 2.2736594497836137e-16]\n",
      "  check gap of lower bound  = 0.020561896784680123\n",
      "  check equality constraint 1 = 0.004242700776249678\n",
      "  check equality constraint 2 = 0.002656640467417204\n",
      "  check equality constraint 3 = 0.010252524706410249\n",
      "####################################\n",
      "Optimal solution: opt_sol = [-0.43999629719644556, -0.17232902802494826, -0.17803204364061817, -0.019772380506437613, -0.2206920496747007, 0.1034619826208881, 0.7767108407551572, 0.012855866504169047, 0.11951809900027814, -0.2392240418038605, 2.2736594497836137e-16]\n",
      "####################################\n",
      "  0.025466 seconds (15.86 k allocations: 1.254 MiB)\n",
      "  0.192114 seconds (280.25 k allocations: 53.836 MiB, 13.27% gc time)\n",
      "--------------------------\n",
      "  Radius of big ball: R_bar=4.451091129461295\n",
      "**Constant trace property (CTP):\n",
      "**Convert moment relaxation to standard SDP:\n",
      "  Size of psd matrix: sk=105\n",
      "  Number of equality trace constraints: m=3711\n",
      "  0.103887 seconds (491.67 k allocations: 81.248 MiB, 15.67% gc time)\n",
      "**LMBM solver:\n",
      "---------------\n",
      "| Parameters: |\n",
      "---------------\n",
      "n:       3711\n",
      "maxtime: 300000.000000\n",
      "na:      2\n",
      "mcu:     5\n",
      "mc:      7\n",
      "rpar: \n",
      "ipar: \n",
      "-----------\n",
      "| Output: |\n",
      "-----------\n",
      "Termination:     2\n",
      "N. iter.:        2150\n",
      "N. func. eval.:  5776\n",
      "Final value:     0.107061\n",
      "Execution time:  112.850815\n",
      " 43.277107 seconds (6.42 M allocations: 2.195 GiB, 0.55% gc time)\n",
      "------------------------------------\n",
      "**Numerical result:\n",
      "====================================\n",
      "opt_val=-3.1812592006455525\n",
      "====================================\n",
      "Dimension of the null space of Gram matrix = 3\n",
      "------------------------------------\n",
      "atom 1 = [-0.21636877415661182, -0.07464609929427504, -0.4710578773874744, -0.21358904433056247, -0.12331289586055967, 0.5649303002438988, 0.6078221389516794, 0.06483995895283295, -0.11527943313428059, 0.14864193144664614, -1.256076416949535e-16, 1.1675150109739272, 1.404229131673982]\n",
      "  check gap of lower bound  = 0.14679353257594263\n",
      "  check equality constraint 1 = 0.0047163432254035825\n",
      "  check equality constraint 2 = 0.021559249694027408\n",
      "  check equality constraint 3 = 0.06329134906065015\n",
      "  check equality constraint 4 = 0.02895391647279743\n",
      "  check equality constraint 5 = 0.05284902530932989\n",
      "------------------------------------\n",
      "atom 2 = [-0.21493389654953163, -0.07841292918159229, -0.48245573302231326, -0.21678013514407227, -0.12659944189220573, 0.5770892079936536, 0.6129326938619388, 0.06889400053247993, -0.11467973100526027, 0.15291898249728628, -4.556538092808172e-16, -1.0916147340501328, -1.4076109827635273]\n",
      "  check gap of lower bound  = 0.22946320427049693\n",
      "  check equality constraint 1 = 0.0032368567627227007\n",
      "  check equality constraint 2 = 0.01536749850805072\n",
      "  check equality constraint 3 = 0.09813022776380875\n",
      "  check equality constraint 4 = 0.2139236355681339\n",
      "  check equality constraint 5 = 0.17996949530564077\n",
      "------------------------------------\n",
      "atom 3 = [-0.215332873636879, -0.07086912971809398, -0.45969077265388975, -0.20957748484302058, -0.11110278704560644, 0.5514720391256361, 0.601523588311594, 0.06247091151478733, -0.11743137541442858, 0.14595141981734838, 1.0308137627264716e-16, 1.0954526976073962, -1.3700845181165098]\n",
      "  check gap of lower bound  = 0.0561232083774299\n",
      "  check equality constraint 1 = 0.010826964002082301\n",
      "  check equality constraint 2 = 0.04227751572817975\n",
      "  check equality constraint 3 = 0.02391943481783021\n",
      "  check equality constraint 4 = 0.1609340343874007\n",
      "  check equality constraint 5 = 0.35002349516559406\n",
      "  0.300141 seconds (429.32 k allocations: 22.555 MiB, 3.57% gc time)\n",
      " 43.681867 seconds (7.34 M allocations: 2.297 GiB, 0.61% gc time)\n",
      " 51.628504 seconds (15.91 M allocations: 2.801 GiB, 0.92% gc time)\n"
     ]
    },
    {
     "data": {
      "text/plain": [
       "(-3.1812592006455525, Array{Float64,1}[])"
      ]
     },
     "execution_count": 8,
     "metadata": {},
     "output_type": "execute_result"
    }
   ],
   "source": [
    "include(\"../src/SpectralSOS.jl\")\n",
    "using .SpectralSOS  \n",
    "\n",
    "opt_val,opt_sol = SpectralSOS.CTP_POP_on_Ball(x,f,g,h,k,R,EigAlg=\"Mix\",scale=true)"
   ]
  },
  {
   "cell_type": "code",
   "execution_count": 10,
   "metadata": {},
   "outputs": [
    {
     "name": "stdout",
     "output_type": "stream",
     "text": [
      "**Bounded trace property (BTP):\n",
      "  Largest upper bound of psd matrix: bound_ak=571.2809733708643\n",
      "  Number of blocks: numBloc=4\n",
      "  Size of block-diagonal matrix: s=89\n",
      "  Size of blocks: "
     ]
    },
    {
     "name": "stderr",
     "output_type": "stream",
     "text": [
      "WARNING: replacing module SpectralSOS.\n",
      "WARNING: Compat.Printf is deprecated, use Printf instead.\n",
      "  likely near /home/hoanganh/Desktop/math-topics/SpectralPOP/codes/SpectralSOS/solvers/ProximalBundleMethod/ProximalMethod.jl:389\n"
     ]
    },
    {
     "name": "stdout",
     "output_type": "stream",
     "text": [
      "[66, 11, 11, 1]\n",
      "  Number of equality trace constraints: m=1475\n",
      "  1.136486 seconds (1.35 M allocations: 171.284 MiB, 7.79% gc time)\n",
      "***LMBM solver:***\n",
      "---------------\n",
      "| Parameters: |\n",
      "---------------\n",
      "n:       1475\n",
      "maxtime: 300000.000000\n",
      "na:      2\n",
      "mcu:     5\n",
      "mc:      7\n",
      "rpar: \n",
      "ipar: \n",
      "-----------\n",
      "| Output: |\n",
      "-----------\n",
      "Termination:     3\n",
      "N. iter.:        926\n",
      "N. func. eval.:  2485\n",
      "Final value:     0.086703\n",
      "Execution time:  18.628189\n",
      "####################################\n",
      "opt_val = -0.6097275786061682\n",
      "####################################\n",
      "Dimension of the null space of Gram matrix = 3\n",
      "------------------------------------\n",
      "atom 1 = [-0.7348904609749206, 0.1602430247663636, -3.8608925921372603, 0.377581278491522, -2.591788745038397, 4.393204959163418, 0.17040446927762798, 2.773840409880572, -0.6976196239979835, 2.6414262442693643]\n",
      "  check gap of lower bound  = -92.10782930612962\n",
      "  check inequality constraint 1 = -55.81945380496988\n",
      "  check inequality constraint 2 = -25.440203149670342\n",
      "  check equality constraint 1 = 3.348061429864271\n",
      "  check equality constraint 2 = -13.383631987089368\n",
      "------------------------------------\n",
      "atom 2 = [0.18371306296466866, -0.058354354185378404, 3.386052270638269, -0.2067557227478889, 2.930311270262896, -3.9136907937809657, 0.1996593032941868, -1.9943719609076926, -0.17592547339718284, -0.9490535739652908]\n",
      "  check gap of lower bound  = -69.81545730754841\n",
      "  check inequality constraint 1 = -39.39798921278849\n",
      "  check inequality constraint 2 = -5.206174345497769\n",
      "  check equality constraint 1 = 4.24080271246975\n",
      "  check equality constraint 2 = -6.62135415825083\n",
      "------------------------------------\n",
      "atom 3 = [-0.20632053925034832, 0.06525336393170467, 0.17839772501364337, -0.12287731699449218, 0.21135920571576414, -0.3765911742806777, 0.34096393295491506, -0.17471719149346815, -0.17344287942752307, -0.21892655694619434]\n",
      "  check gap of lower bound  = -1.0335432152126853\n",
      "  check inequality constraint 1 = 0.4949618535304605\n",
      "  check inequality constraint 2 = 0.5265726513748322\n",
      "  check equality constraint 1 = -0.25336587976035324\n",
      "  check equality constraint 2 = -0.617093867253127\n",
      " 20.280292 seconds (19.51 M allocations: 2.854 GiB, 1.90% gc time)\n"
     ]
    },
    {
     "data": {
      "text/plain": [
       "(-0.6097275786061682, Array{Float64,1}[])"
      ]
     },
     "execution_count": 10,
     "metadata": {},
     "output_type": "execute_result"
    }
   ],
   "source": [
    "include(\"../src/SpectralSOS.jl\")\n",
    "using .SpectralSOS\n",
    "\n",
    "CT=2.0\n",
    "\n",
    "opt_val,opt_sol = SpectralSOS.BTP_POP(x,f,g,h,k,R,EigAlg=\"Mix\",scale=true,ak=CT)"
   ]
  },
  {
   "cell_type": "code",
   "execution_count": null,
   "metadata": {},
   "outputs": [],
   "source": []
  },
  {
   "cell_type": "code",
   "execution_count": null,
   "metadata": {},
   "outputs": [],
   "source": []
  },
  {
   "cell_type": "code",
   "execution_count": null,
   "metadata": {},
   "outputs": [],
   "source": [
    "# include(\"../src/SpectralPOP.jl\")\n",
    "# using .SpectralPOP\n",
    "\n",
    "# SpectralPOP.save_data(x,f,g,h,R)"
   ]
  },
  {
   "cell_type": "code",
   "execution_count": null,
   "metadata": {},
   "outputs": [],
   "source": []
  }
 ],
 "metadata": {
  "kernelspec": {
   "display_name": "Julia 1.3.0",
   "language": "julia",
   "name": "julia-1.3"
  },
  "language_info": {
   "file_extension": ".jl",
   "mimetype": "application/julia",
   "name": "julia",
   "version": "1.3.0"
  }
 },
 "nbformat": 4,
 "nbformat_minor": 2
}
