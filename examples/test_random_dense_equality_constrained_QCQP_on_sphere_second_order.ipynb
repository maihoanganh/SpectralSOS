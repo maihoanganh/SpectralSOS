{
 "cells": [
  {
   "cell_type": "code",
   "execution_count": 42,
   "metadata": {},
   "outputs": [
    {
     "name": "stdout",
     "output_type": "stream",
     "text": [
      "***Problem setting***\n",
      "Number of variable: n=50\n",
      "====================\n",
      "Number of equality constraints: l_h=14\n",
      "====================\n",
      "Relaxed order: k=2\n"
     ]
    }
   ],
   "source": [
    "using DynamicPolynomials\n",
    "\n",
    "println(\"***Problem setting***\")\n",
    "\n",
    "n=50\n",
    "\n",
    "#N=[5;10;15;20;25;30;35;40;45;50;55;60;65]\n",
    "\n",
    "l=ceil(Int32, n/4)\n",
    "\n",
    "println(\"Number of variable: n=\",n)\n",
    "println(\"====================\")\n",
    "\n",
    "@polyvar x[1:n]# variables\n",
    "\n",
    "function generate_random_poly(v::Vector{Monomial{true}})\n",
    "    c=2*rand(Float64,length(v)).-1\n",
    "    return c'*v\n",
    "end\n",
    "\n",
    "R=1.0\n",
    "\n",
    "function generate_objective_and_constraints(x)\n",
    "    # random quadratic objective function f\n",
    "    v=reverse(monomials(x,0:2))\n",
    "    f=generate_random_poly(v)\n",
    "\n",
    "\n",
    "    # unit sphere constraint\n",
    "    h=[R-sum(x.^2)] #type of coefficients of each polynomial must be float\n",
    "\n",
    "    # random quadratic equality constraints\n",
    "    randx=2*rand(n).-1# create a feasible solution\n",
    "    randx=randx./sqrt(sum(randx.^2))\n",
    "\n",
    "\n",
    "    for j in 1:l\n",
    "        push!(h,generate_random_poly(v[2:end]))\n",
    "        h[end]-=h[end](x => randx) #make constraints feasible\n",
    "    end\n",
    "    l_h=length(h)\n",
    "\n",
    "    println(\"Number of equality constraints: l_h=\",l_h)\n",
    "    println(\"====================\")\n",
    "    return f,h\n",
    "end\n",
    "\n",
    "\n",
    "f,h=generate_objective_and_constraints(x)\n",
    "\n",
    "k=Int64(2)\n",
    "\n",
    "println(\"Relaxed order: k=\",k)\n",
    "\n",
    "\n",
    "# include(\"../src/SpectralPOP.jl\")\n",
    "# using .SpectralPOP\n",
    "\n",
    "# g=Vector{Polynomial{true,Float64}}([])\n",
    "\n",
    "# SpectralPOP.save_data(x,f,g,h,R)"
   ]
  },
  {
   "cell_type": "code",
   "execution_count": 43,
   "metadata": {},
   "outputs": [],
   "source": [
    "# using SparseArrays\n",
    "\n",
    "# include(\"../src/SpectralPOP.jl\")\n",
    "# using .SpectralPOP\n",
    "\n",
    "\n",
    "\n",
    "# include(\"../examples/densePOPsphere_deg2_var50_nineq0_neq14.jl\")\n",
    "\n",
    "# x,f,g,h=SpectralPOP.get_POP(n,m,l,lmon_g,supp_g,coe_g,lmon_h,supp_h,coe_h,lmon_f,supp_f,coe_f);\n",
    "\n",
    "\n",
    "# k=1"
   ]
  },
  {
   "cell_type": "code",
   "execution_count": 44,
   "metadata": {},
   "outputs": [],
   "source": [
    "# include(\"../src/SpectralPOP.jl\")\n",
    "# using .SpectralPOP\n",
    "\n",
    "# g=Vector{Polynomial{true,Float64}}([])\n",
    "# opt_val = SpectralPOP.SumofSquares_POP(x,f,g,h,k) # SumOfSquares.jl + Mosek"
   ]
  },
  {
   "cell_type": "code",
   "execution_count": 45,
   "metadata": {},
   "outputs": [
    {
     "name": "stdout",
     "output_type": "stream",
     "text": [
      "**Constant trace property (CTP):\n",
      "**Convert moment relaxation to standard SDP:\n",
      "  Size of psd matrix: sk=1326\n",
      "  Number of equality trace constraints: m=582115\n",
      "468.985594 seconds (569.30 M allocations: 230.572 GiB, 5.76% gc time)\n",
      "**LMBM solver:\n",
      "---------------\n",
      "| Parameters: |\n",
      "---------------\n",
      "n:       582115\n",
      "maxtime: 300000.000000\n",
      "na:      2\n",
      "mcu:     5\n",
      "mc:      7\n",
      "rpar: \n",
      "ipar: \n",
      "-----------\n",
      "| Output: |\n",
      "-----------\n",
      "Termination:     3\n",
      "N. iter.:        1676\n",
      "N. func. eval.:  4915\n",
      "Final value:     0.181629\n",
      "Execution time:  23526.933594\n",
      "5652.666941 seconds (25.67 M allocations: 195.954 GiB, 0.02% gc time)\n",
      "------------------------------------\n",
      "**Numerical result:\n",
      "====================================\n",
      "opt_val=-4.01846420186931\n",
      "====================================\n",
      "Dimension of the null space of Gram matrix = 6\n",
      "------------------------------------\n",
      "atom 1 = [0.022027035603741044, -0.3302095072611259, 0.001918638988391716, 0.07288459958226211, -0.1150451163202456, 0.039440491287688006, -0.23757745458459995, -0.25585324430152134, 0.06647211006450679, 1.0123098813728513, 0.2689173443767487, 0.06926950704671708, 1.3834824951475613, 0.4692742969243088, 0.37108496544945013, -1.100591540251159, -0.04533847458668014, 0.5498363772082392, 0.14389847916876072, 0.16818045961405625, -0.3328789842468992, -0.3769822522304882, -0.34585366508029264, -0.10882971893445453, -0.3035160251801259, -0.398436649348253, 0.3554309049943094, -0.644009176921003, 0.050027503914038304, 0.19881619786588717, 0.33615687040894915, 0.13775519023958133, 0.36125485461657836, -0.1452771046098635, 0.6857016271565856, 0.4854247484189313, 0.6391047406881525, -0.17811103610919377, 0.3227886995420342, 1.3767784524621702, -0.3958440581187993, 0.03581375475011652, 0.27454847327340265, -0.3702188584168233, -0.1270674791120443, -0.33070338936764176, -0.3800244821139009, -0.07684870237098743, 0.005290521032967933, -1.074968550124181]\n",
      "  check gap of lower bound  = 21.79293109727758\n",
      "  check equality constraint 1 = 10.643956708703769\n",
      "  check equality constraint 2 = 17.512320084558\n",
      "  check equality constraint 3 = 4.76650744245349\n",
      "  check equality constraint 4 = 4.0342805313816905\n",
      "  check equality constraint 5 = 0.18347201047344552\n",
      "  check equality constraint 6 = 1.1039840475127773\n",
      "  check equality constraint 7 = 4.973240242121383\n",
      "  check equality constraint 8 = 5.236232945571567\n",
      "  check equality constraint 9 = 7.149724429570791\n",
      "  check equality constraint 10 = 0.7603662553996102\n",
      "  check equality constraint 11 = 1.101246936315866\n",
      "  check equality constraint 12 = 14.325494745101308\n",
      "  check equality constraint 13 = 7.48238070046199\n",
      "  check equality constraint 14 = 4.898860796716056\n",
      "------------------------------------\n",
      "atom 2 = [-0.11589182021623957, 0.4954125866319908, 0.7870074616497537, -0.5639558681853967, -0.5359560773159999, 0.04820192441943927, -0.3104121229857303, 0.5541500904491419, 0.2702477591088225, -2.1693360409669684, -0.5943206463203154, 0.20741360896964373, -3.0853545706055168, -0.055979908978980475, -0.6224093668264403, 2.768206850254801, -0.550754868293988, -1.2180456719418316, -0.44904232629518726, -0.8178074574328398, 0.4231304061351664, 0.9660051006967827, 1.3267746468303097, 0.29547181795737554, 1.215919843786693, 0.4968336667941602, -0.4702549941547351, 1.6414985316601258, -0.707605651591101, 0.19136480842408932, -0.5878998939328681, -0.5329461385128986, -0.06630743775255538, 0.21673470179845736, -1.318211596296603, -0.5959936138022954, -0.6860525912479933, 0.6251735875457908, -0.5557253306711543, -3.1131665324829063, 0.5295932398950346, -0.6099013582861035, -0.7021923935501879, 1.0182553276118036, 0.42897679112843334, 1.1311034512926779, 0.5773157926708872, 0.21476353013220303, -0.4232966082751566, 3.043428328901158]\n",
      "  check gap of lower bound  = 138.87255809045897\n",
      "  check equality constraint 1 = 61.53594445747527\n",
      "  check equality constraint 2 = 103.1692354411328\n",
      "  check equality constraint 3 = 28.151536086055195\n",
      "  check equality constraint 4 = 15.52422143709077\n",
      "  check equality constraint 5 = 0.6416150182550968\n",
      "  check equality constraint 6 = 6.121302198148251\n",
      "  check equality constraint 7 = 19.551680535522912\n",
      "  check equality constraint 8 = 25.41838995753668\n",
      "  check equality constraint 9 = 68.0869779262022\n",
      "  check equality constraint 10 = 3.1197996922698508\n",
      "  check equality constraint 11 = 3.5751421581664626\n",
      "  check equality constraint 12 = 93.6496656770478\n",
      "  check equality constraint 13 = 20.86100101892277\n",
      "  check equality constraint 14 = 24.21067714919417\n",
      "------------------------------------\n",
      "atom 3 = [0.17807231250664907, -0.9521123877168911, -0.3572243730296583, 0.061259389545395324, -0.41629882981685606, -0.5463433172100245, -0.6822509123919465, 0.5662309256078448, 0.5376847312875817, 1.0647442896918577, 0.17433007061888742, 0.1555014381423024, 2.112419332427978, 0.41840632604989225, 0.1484213263890975, -1.0092248880599988, -0.2342235320179084, 1.1864128654510935, 0.27867583425569964, 0.0794450057410972, 0.24667616138659923, -0.2692575076657013, -0.6612075603511076, 0.2541462857690872, -0.5683495361449783, -1.1526103476755585, 0.19153111394048405, -1.3522153094161533, 0.10733487499302558, 0.7633992202000689, 1.4643666195642742, 0.24181050761068998, -0.2755565004025532, -0.07787410626904834, 1.2723266998161964, 0.06458243909693454, 0.5496866305880829, -1.015999477987207, 0.6304036312225606, 2.269816476756152, -0.7787027884094313, 0.3367013460011244, 0.7113197065943762, -0.8123838412073296, 0.6989352931434548, -1.1631854262849024, -0.688725996238899, -0.019711926918884966, 0.1404394728235474, -1.5499955874303597]\n",
      "  check gap of lower bound  = 76.02170277119008\n",
      "  check equality constraint 1 = 32.19116423926587\n",
      "  check equality constraint 2 = 62.28733069043757\n",
      "  check equality constraint 3 = 2.390085051421286\n",
      "  check equality constraint 4 = 9.065473361986177\n",
      "  check equality constraint 5 = 8.792272307363426\n",
      "  check equality constraint 6 = 18.967567810621674\n",
      "  check equality constraint 7 = 5.639099251732453\n",
      "  check equality constraint 8 = 27.425327764633835\n",
      "  check equality constraint 9 = 27.25611997419633\n",
      "  check equality constraint 10 = 2.1580095627569866\n",
      "  check equality constraint 11 = 6.128563933608472\n",
      "  check equality constraint 12 = 15.825262136790897\n",
      "  check equality constraint 13 = 29.115045693774416\n",
      "  check equality constraint 14 = 28.371981609350158\n",
      "------------------------------------\n",
      "atom 4 = [0.7208544063013429, 0.5813452916362601, -0.10881258262738047, 0.2796042574664151, 0.880154805410281, 0.07578526146648969, 0.12445203097151442, -0.8939504535846308, -0.7633928406392678, 1.3630898257185868, -0.11667134653816834, -0.6802140504886108, 0.312374947786701, 0.4817423499508039, 0.7801142525522489, -0.7583581934542515, 0.8234952492086288, 0.2464610433539523, -0.15326054818484813, 0.7070772645522352, -1.0109779654766187, -1.1222248989213413, 0.10291752261816613, -0.5136202614955986, -0.1209435546462169, -0.008207945251957595, 0.7653998356563045, 0.5634037722028301, 0.30715750347895526, -0.769804583652937, -0.9666269766806259, -0.5139485194767852, 0.5569778263789115, -0.4630598652128668, -0.2144578734690319, 0.6630202311556266, 0.2979770089783628, 0.030540720761032127, -0.6444528072566229, 0.33075888608263426, -0.7218684332795561, -0.17537295464523683, -0.25057430806566616, -0.04774954130256649, -0.5028733756752751, -0.23705616367864432, -0.09885768512984185, 0.17984921318170077, -0.342057350371626, -0.4280158179952083]\n",
      "  check gap of lower bound  = 36.09743505966037\n",
      "  check equality constraint 1 = 15.487691805866511\n",
      "  check equality constraint 2 = 16.471863813269525\n",
      "  check equality constraint 3 = 6.91054444857528\n",
      "  check equality constraint 4 = 11.256059817160336\n",
      "  check equality constraint 5 = 1.1727174904482742\n",
      "  check equality constraint 6 = 0.47259281669333575\n",
      "  check equality constraint 7 = 6.057612903648291\n",
      "  check equality constraint 8 = 5.486070922941073\n",
      "  check equality constraint 9 = 9.613945341676983\n",
      "  check equality constraint 10 = 5.00736232886261\n",
      "  check equality constraint 11 = 5.186643562851691\n",
      "  check equality constraint 12 = 5.243376002310994\n",
      "  check equality constraint 13 = 3.986649670940912\n",
      "  check equality constraint 14 = 4.740642446800979\n",
      "------------------------------------\n",
      "atom 5 = [0.13092817333275011, 0.3438835306477488, -0.08215664213787369, -0.1020778211395189, -0.04546695742764835, -0.09838747635692094, -0.028502394282345602, -0.18334633099943146, 0.07620993820133519, 0.21214368682811957, 0.14325106405347943, -0.0642606255589983, -0.09997601709213752, 0.06174799255306302, 0.2069970930818212, -0.03522429873066977, -0.10909998648698102, 0.0012420332442043894, -0.09922517094535283, 0.025839901417356835, -0.2675911779946586, -0.009227683531213017, 0.19497537859944197, -0.04371967064473821, 0.11162152173271919, -0.07253930070921899, 0.05449607879600239, 0.13206920137958075, 0.0013085340587457427, 0.005864668095154697, -0.1644464881669282, -0.18218504128763746, 0.19872079697269582, -0.12297771606840871, -0.04021694748009788, 0.13916894939422275, 0.13400533633080552, 0.07829288384764904, -0.023720844045013213, 0.02177917706735574, -0.18097504474994677, -0.14039576494803208, -0.04297139110908783, 0.1233114685972967, -0.01963592091964362, -0.00070903054934924, -0.06469597118937925, 0.050642277711990785, -0.11589437755003601, 0.16254047561746718]\n",
      "  check gap of lower bound  = 1.4184687283757231\n",
      "  check equality constraint 1 = 0.21823325598852095\n",
      "  check equality constraint 2 = 1.0579269202689248\n",
      "  check equality constraint 3 = 0.30813798047962987\n",
      "  check equality constraint 4 = 0.2665841071730414\n",
      "  check equality constraint 5 = 0.4204953867504503\n",
      "  check equality constraint 6 = 0.14085131437779977\n",
      "  check equality constraint 7 = 0.7261523354973634\n",
      "  check equality constraint 8 = 0.25886479403622\n",
      "  check equality constraint 9 = 0.2446048739534194\n",
      "  check equality constraint 10 = 0.5438528982023885\n",
      "  check equality constraint 11 = 0.2930130061651356\n",
      "  check equality constraint 12 = 1.1467183828259775\n",
      "  check equality constraint 13 = 0.3052385956359331\n",
      "  check equality constraint 14 = 0.37259740441925226\n",
      "------------------------------------\n"
     ]
    },
    {
     "name": "stdout",
     "output_type": "stream",
     "text": [
      "atom 6 = [-0.10514719437551037, 0.12210345910056063, 0.24930320020481217, -0.026643066954564996, -0.10574241960365433, 0.22596062579738235, 0.017616507121829127, -0.13471777029657234, -0.06708760745921895, -0.035845837004788966, 0.11412596761433813, -0.010057808264388573, -0.24800589418503308, -0.04216306046601162, 0.0302836544686574, 0.0806448840660917, -0.05361855904546386, -0.27951386587403343, -0.105376225995799, -0.05561782610778739, -0.27967633071643594, 0.029911371945805138, 0.08699231047074055, -0.06194722090027024, 0.1293275900497652, 0.21627710930323552, -0.0022266244507561633, 0.24271718372920484, -0.01744133555202108, -0.17282863415725774, -0.32664155346539564, 0.04032568907736732, 0.30139220327452104, -0.1023848909711349, -0.20487005351986326, 0.2972886044940376, 0.0589850883324808, 0.41252461686712516, -0.027994115511626838, -0.29698807964885365, 0.12365764166006896, -0.10040493646206504, -0.12056633639188176, 0.19693938571724187, -0.25732627705374134, 0.40686013479158945, 0.04465014196987771, 0.055388718372800794, -0.1084059166187977, 0.24115113033330826]\n",
      "  check gap of lower bound  = 0.42858602972621007\n",
      "  check equality constraint 1 = 0.5855013622764025\n",
      "  check equality constraint 2 = 1.8597096058072646\n",
      "  check equality constraint 3 = 0.33249939423614516\n",
      "  check equality constraint 4 = 0.42327390063063963\n",
      "  check equality constraint 5 = 0.7577478406622179\n",
      "  check equality constraint 6 = 0.9899417265089359\n",
      "  check equality constraint 7 = 0.04912539552267561\n",
      "  check equality constraint 8 = 0.4307768901731388\n",
      "  check equality constraint 9 = 1.32417384581391\n",
      "  check equality constraint 10 = 1.7886832390212841\n",
      "  check equality constraint 11 = 0.24159297780657035\n",
      "  check equality constraint 12 = 0.0507276259019883\n",
      "  check equality constraint 13 = 1.3520034367352123\n",
      "  check equality constraint 14 = 0.7542747427175159\n",
      "  4.653179 seconds (175.80 k allocations: 206.362 MiB)\n",
      "6126.306163 seconds (595.15 M allocations: 426.727 GiB, 0.46% gc time)\n"
     ]
    },
    {
     "name": "stderr",
     "output_type": "stream",
     "text": [
      "WARNING: replacing module SpectralPOP.\n"
     ]
    },
    {
     "data": {
      "text/plain": [
       "(-4.01846420186931, Array{Float64,1}[])"
      ]
     },
     "execution_count": 45,
     "metadata": {},
     "output_type": "execute_result"
    }
   ],
   "source": [
    "include(\"../src/SpectralPOP.jl\")\n",
    "using .SpectralPOP \n",
    "\n",
    "opt_val,opt_sol = SpectralPOP.CTP_POP(x,f,h,k,R;method=\"LMBM\",EigAlg=\"Mix\",tol=1e-5,scale=true) #Limited memory bundle method"
   ]
  },
  {
   "cell_type": "code",
   "execution_count": 46,
   "metadata": {
    "scrolled": true
   },
   "outputs": [],
   "source": [
    "# include(\"../src/SpectralPOP.jl\")\n",
    "# using .SpectralPOP\n",
    "\n",
    "# opt_val,opt_sol = SpectralPOP.CTP_POP(x,f,h,k,R;method=\"SketchyCGAL\",EigAlg=\"Normal\",tol=1e-3,scale=true)"
   ]
  },
  {
   "cell_type": "code",
   "execution_count": null,
   "metadata": {},
   "outputs": [],
   "source": []
  },
  {
   "cell_type": "code",
   "execution_count": 47,
   "metadata": {},
   "outputs": [
    {
     "name": "stderr",
     "output_type": "stream",
     "text": [
      "WARNING: replacing module SpectralPOP.\n"
     ]
    }
   ],
   "source": [
    "include(\"../src/SpectralPOP.jl\")\n",
    "using .SpectralPOP\n",
    "\n",
    "g=Vector{Polynomial{true,Float64}}([])\n",
    "\n",
    "SpectralPOP.save_data(x,f,g,h,R)"
   ]
  },
  {
   "cell_type": "code",
   "execution_count": 14,
   "metadata": {
    "scrolled": true
   },
   "outputs": [],
   "source": [
    "# include(\"../src/SpectralPOP.jl\")\n",
    "# using .SpectralPOP\n",
    "\n",
    "# g=Vector{Polynomial{true,Float64}}([])\n",
    "\n",
    "# opt_val,opt_sol = SpectralPOP.SumofSquares_POP_WithExtraction(x,f,g,h,k) # SumOfSquares + Mosek"
   ]
  },
  {
   "cell_type": "code",
   "execution_count": null,
   "metadata": {},
   "outputs": [],
   "source": []
  }
 ],
 "metadata": {
  "kernelspec": {
   "display_name": "Julia 1.3.0",
   "language": "julia",
   "name": "julia-1.3"
  },
  "language_info": {
   "file_extension": ".jl",
   "mimetype": "application/julia",
   "name": "julia",
   "version": "1.3.0"
  }
 },
 "nbformat": 4,
 "nbformat_minor": 2
}
