{
 "cells": [
  {
   "cell_type": "code",
   "execution_count": 4,
   "metadata": {},
   "outputs": [
    {
     "name": "stdout",
     "output_type": "stream",
     "text": [
      "***Problem setting***\n",
      "Number of variable: n=2\n",
      "====================\n",
      "Number of equality constraints: l_h=1\n",
      "====================\n",
      "Relaxed order: k=2\n"
     ]
    },
    {
     "name": "stderr",
     "output_type": "stream",
     "text": [
      "WARNING: replacing module SpectralSOS.\n",
      "WARNING: Compat.Printf is deprecated, use Printf instead.\n",
      "  likely near /home/hoanganh/Desktop/math-topics/SpectralPOP/codes/SpectralSOS/solvers/ProximalBundleMethod/ProximalMethod.jl:389\n"
     ]
    }
   ],
   "source": [
    "using DynamicPolynomials\n",
    "\n",
    "println(\"***Problem setting***\")\n",
    "\n",
    "n=2\n",
    "d=2\n",
    "\n",
    "println(\"Number of variable: n=\",n)\n",
    "println(\"====================\")\n",
    "\n",
    "@polyvar x[1:2*n]# variables\n",
    "\n",
    "# random quadratic objective function f\n",
    "v=reverse(monomials(x[1:n],2*d))\n",
    "c=2*rand(Float64,length(v)).-1\n",
    "obj=c'*v\n",
    "\n",
    "grad=differentiate.(obj,x[1:n])\n",
    "\n",
    "f=obj(x[1:n]=>x[n+1:2*n])-obj-grad'*(x[n+1:2*n]-x[1:n])\n",
    "\n",
    "\n",
    "# unit sphere constraint\n",
    "R=1.0\n",
    "h=[R-sum(x.^2)] #type of coefficients of each polynomial must be float\n",
    "\n",
    "l_h=length(h)\n",
    "\n",
    "println(\"Number of equality constraints: l_h=\",l_h)\n",
    "println(\"====================\")\n",
    "\n",
    "k=Int64(d)\n",
    "\n",
    "println(\"Relaxed order: k=\",k)\n",
    "    \n",
    "include(\"../src/SpectralSOS.jl\")\n",
    "using .SpectralSOS\n",
    "\n",
    "g=Vector{Polynomial{true,Float64}}([]);\n",
    "\n",
    "#SpectralPOP.save_data(x,f,g,h,R)\n",
    "    \n"
   ]
  },
  {
   "cell_type": "code",
   "execution_count": 5,
   "metadata": {},
   "outputs": [
    {
     "name": "stdout",
     "output_type": "stream",
     "text": [
      "**SumOfSquares+Mosek:\n",
      "OPTIMAL\n",
      "opt_val=-3.0445104704799584\n",
      "  0.011022 seconds (36.52 k allocations: 4.067 MiB)\n"
     ]
    },
    {
     "name": "stderr",
     "output_type": "stream",
     "text": [
      "WARNING: replacing module SpectralSOS.\n",
      "WARNING: Compat.Printf is deprecated, use Printf instead.\n",
      "  likely near /home/hoanganh/Desktop/math-topics/SpectralPOP/codes/SpectralSOS/solvers/ProximalBundleMethod/ProximalMethod.jl:389\n"
     ]
    },
    {
     "data": {
      "text/plain": [
       "-3.0445104704799584"
      ]
     },
     "execution_count": 5,
     "metadata": {},
     "output_type": "execute_result"
    }
   ],
   "source": [
    "include(\"../src/SpectralSOS.jl\")\n",
    "using .SpectralSOS\n",
    "\n",
    "g=Vector{Polynomial{true,Float64}}([])\n",
    "\n",
    "opt_val = SpectralSOS.SumofSquares_POP(x,f,g,h,k)"
   ]
  },
  {
   "cell_type": "code",
   "execution_count": 6,
   "metadata": {
    "scrolled": true
   },
   "outputs": [
    {
     "name": "stdout",
     "output_type": "stream",
     "text": [
      "**Constant trace property (CTP):\n",
      "**Convert moment relaxation to standard SDP:\n"
     ]
    },
    {
     "name": "stderr",
     "output_type": "stream",
     "text": [
      "WARNING: replacing module SpectralSOS.\n",
      "WARNING: Compat.Printf is deprecated, use Printf instead.\n",
      "  likely near /home/hoanganh/Desktop/math-topics/SpectralPOP/codes/SpectralSOS/solvers/ProximalBundleMethod/ProximalMethod.jl:389\n",
      "WARNING: Compat.norm is deprecated, use LinearAlgebra.norm instead.\n",
      "  likely near /home/hoanganh/.julia/packages/IJulia/a1SNk/src/kernel.jl:53\n"
     ]
    },
    {
     "name": "stdout",
     "output_type": "stream",
     "text": [
      "  Size of psd matrix: sk=15\n",
      "  Number of equality trace constraints: m=66\n",
      "  3.234526 seconds (5.11 M allocations: 252.083 MiB, 3.35% gc time)\n",
      "**LMBM solver:\n",
      "---------------\n",
      "| Parameters: |\n",
      "---------------\n",
      "n:       66\n",
      "maxtime: 300000.000000\n",
      "na:      2\n",
      "mcu:     5\n",
      "mc:      7\n",
      "rpar: \n",
      "ipar: \n",
      "-----------\n",
      "| Output: |\n",
      "-----------\n",
      "Termination:     1\n",
      "N. iter.:        67\n",
      "N. func. eval.:  218\n",
      "Final value:     0.228813\n",
      "Execution time:  0.377274\n",
      "  2.293954 seconds (1.30 M allocations: 71.407 MiB, 1.81% gc time)\n",
      "------------------------------------\n",
      "**Numerical result:\n",
      "====================================\n",
      "opt_val=-3.0445425148730556\n",
      "====================================\n",
      "Dimension of the null space of Gram matrix = 2\n",
      "------------------------------------\n",
      "atom 1 = [0.12895376368506634, 0.9616578343991495, -0.034615065043110765, -0.2578497427099646]\n",
      "  check gap of lower bound  = 0.05562720128097354\n",
      "  check equality constraint 1 = 0.009099556173339796\n",
      "####################################\n",
      "Optimal solution: opt_sol = [0.12895376368506634, 0.9616578343991495, -0.034615065043110765, -0.2578497427099646]\n",
      "####################################\n",
      "------------------------------------\n",
      "atom 2 = [-0.1291299159641627, -0.9623749641145384, 0.03471897283643152, 0.2569817705935054]\n",
      "  check gap of lower bound  = 0.061680812179817135\n",
      "  check equality constraint 1 = 0.010085144243560773\n",
      "####################################\n",
      "Optimal solution: opt_sol = [-0.1291299159641627, -0.9623749641145384, 0.03471897283643152, 0.2569817705935054]\n",
      "####################################\n",
      "  0.418757 seconds (525.82 k allocations: 25.946 MiB)\n",
      "  5.947897 seconds (6.94 M allocations: 349.468 MiB, 2.52% gc time)\n"
     ]
    },
    {
     "data": {
      "text/plain": [
       "(-3.0445425148730556, [-0.1291299159641627, -0.9623749641145384, 0.03471897283643152, 0.2569817705935054])"
      ]
     },
     "execution_count": 6,
     "metadata": {},
     "output_type": "execute_result"
    }
   ],
   "source": [
    "include(\"../src/SpectralSOS.jl\")\n",
    "using .SpectralSOS\n",
    "\n",
    "\n",
    "opt_val,opt_sol = SpectralSOS.CTP_POP(x,f,h,k,R;method=\"LMBM\",EigAlg=\"Mix\",tol=1e-5,scale=true)"
   ]
  },
  {
   "cell_type": "code",
   "execution_count": null,
   "metadata": {},
   "outputs": [],
   "source": []
  },
  {
   "cell_type": "code",
   "execution_count": 7,
   "metadata": {},
   "outputs": [],
   "source": [
    "# include(\"../src/SpectralSOS.jl\")\n",
    "# using .SpectralSOS\n",
    "\n",
    "# SpectralPOP.save_deciding_conv(n,d,c)"
   ]
  },
  {
   "cell_type": "code",
   "execution_count": null,
   "metadata": {},
   "outputs": [],
   "source": []
  }
 ],
 "metadata": {
  "kernelspec": {
   "display_name": "Julia 1.3.0",
   "language": "julia",
   "name": "julia-1.3"
  },
  "language_info": {
   "file_extension": ".jl",
   "mimetype": "application/julia",
   "name": "julia",
   "version": "1.3.0"
  }
 },
 "nbformat": 4,
 "nbformat_minor": 2
}
