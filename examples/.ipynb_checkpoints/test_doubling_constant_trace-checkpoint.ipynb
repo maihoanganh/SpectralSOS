{
 "cells": [
  {
   "cell_type": "code",
   "execution_count": 7,
   "metadata": {},
   "outputs": [
    {
     "name": "stdout",
     "output_type": "stream",
     "text": [
      "***Problem setting***\n",
      "Number of variable: n=10\n",
      "====================\n",
      "Number of inequality constraints: l_g=2\n",
      "====================\n",
      "Number of equality constraints: l_h=2\n",
      "====================\n",
      "Relaxed order: k=2\n"
     ]
    }
   ],
   "source": [
    "using DynamicPolynomials\n",
    "\n",
    "println(\"***Problem setting***\")\n",
    "\n",
    "\n",
    "\n",
    "n=10\n",
    "# N=[10;15;20;25;30;35]\n",
    "\n",
    "# for n in N\n",
    "l_g=ceil(Int32, n/8)\n",
    "l_h=ceil(Int32, n/8)\n",
    "\n",
    "println(\"Number of variable: n=\",n)\n",
    "println(\"====================\")\n",
    "\n",
    "@polyvar x[1:n]# variables\n",
    "\n",
    "\n",
    "\n",
    "# random quadratic objective function f\n",
    "v=reverse(monomials(x,0:2))\n",
    "c=2*rand(Float64,length(v)).-1\n",
    "f=c'*v\n",
    "\n",
    "\n",
    "# unit sphere constraint\n",
    "R=1.0\n",
    "g=[R-sum(x.^2)] #type of coefficients of each polynomial must be float\n",
    "\n",
    "\n",
    "\n",
    "# random quadratic equality constraints\n",
    "randx=2*rand(n).-1# create a feasible solution\n",
    "randx=randx./sqrt(sum(randx.^2))\n",
    "randx=randx.*rand(1)\n",
    "\n",
    "for j in 1:l_g-1\n",
    "    a=2*rand(Float64,length(v[2:end])).-1\n",
    "    push!(g,a'*v[2:end])\n",
    "    g[end]-=g[end](x => randx)#make constraints feasible\n",
    "    g[end]+=rand(1)[1]\n",
    "end\n",
    "#g=Polynomial{true,Float64}[]\n",
    "l_g=length(g)\n",
    "println(\"Number of inequality constraints: l_g=\",l_g)\n",
    "println(\"====================\")\n",
    "\n",
    "h=Polynomial{true,Float64}[]\n",
    "for j in 1:l_h\n",
    "    a=2*rand(Float64,length(v[2:end])).-1\n",
    "    push!(h,a'*v[2:end])\n",
    "    h[end]-=h[end](x => randx) #make constraints feasible\n",
    "end\n",
    "l_h=length(h)\n",
    "\n",
    "println(\"Number of equality constraints: l_h=\",l_h)\n",
    "println(\"====================\")\n",
    "\n",
    "k=2\n",
    "\n",
    "println(\"Relaxed order: k=\",k)\n",
    "    \n",
    "    \n",
    "# include(\"../src/SpectralPOP.jl\")\n",
    "# using .SpectralPOP\n",
    "\n",
    "# SpectralPOP.save_data(x,f,g,h,R)\n",
    "    \n",
    "# end"
   ]
  },
  {
   "cell_type": "code",
   "execution_count": 24,
   "metadata": {},
   "outputs": [
    {
     "name": "stderr",
     "output_type": "stream",
     "text": [
      "WARNING: replacing module SpectralPOP.\n"
     ]
    },
    {
     "data": {
      "text/plain": [
       "2"
      ]
     },
     "execution_count": 24,
     "metadata": {},
     "output_type": "execute_result"
    }
   ],
   "source": [
    "using SparseArrays, DynamicPolynomials\n",
    "\n",
    "include(\"../src/SpectralPOP.jl\")\n",
    "using .SpectralPOP\n",
    "\n",
    "data=\"/home/hoanganh/Desktop/math-topics/SpectralPOP/codes/dataPOP\"\n",
    "\n",
    "include(data*\"/densePOPsphere_deg2_var10_nineq2_neq2.jl\")\n",
    "\n",
    "x,f,g,h=SpectralPOP.get_POP(n,m,l,lmon_g,supp_g,coe_g,lmon_h,supp_h,coe_h,lmon_f,supp_f,coe_f);\n",
    "\n",
    "\n",
    "k=2"
   ]
  },
  {
   "cell_type": "code",
   "execution_count": 25,
   "metadata": {},
   "outputs": [
    {
     "name": "stdout",
     "output_type": "stream",
     "text": [
      "**SumOfSquares+Mosek:\n",
      "OPTIMAL\n",
      "opt_val=-3.177924554561931\n",
      "  0.511030 seconds (768.87 k allocations: 86.096 MiB, 6.61% gc time)\n"
     ]
    },
    {
     "name": "stderr",
     "output_type": "stream",
     "text": [
      "WARNING: replacing module SpectralPOP.\n"
     ]
    },
    {
     "data": {
      "text/plain": [
       "-3.177924554561931"
      ]
     },
     "execution_count": 25,
     "metadata": {},
     "output_type": "execute_result"
    }
   ],
   "source": [
    "include(\"../src/SpectralPOP.jl\")\n",
    "using .SpectralPOP\n",
    "\n",
    "opt_val = SpectralPOP.SumofSquares_POP(x,f,g,h,k)"
   ]
  },
  {
   "cell_type": "code",
   "execution_count": 26,
   "metadata": {
    "scrolled": true
   },
   "outputs": [
    {
     "name": "stdout",
     "output_type": "stream",
     "text": [
      "**Conpute upper bound 1\n",
      "**Constant trace property (CTP):\n",
      "**Convert moment relaxation to standard SDP:\n",
      "  Size of psd matrix: sk=78\n",
      "  Number of equality trace constraints: m=1951\n",
      "  0.124952 seconds (281.60 k allocations: 39.703 MiB, 20.14% gc time)\n",
      "**LMBM solver:\n",
      "---------------\n",
      "| Parameters: |\n",
      "---------------\n",
      "n:       1951\n",
      "maxtime: 300000.000000\n",
      "na:      2\n",
      "mcu:     5\n",
      "mc:      7\n",
      "rpar: \n",
      "ipar: \n",
      "-----------\n",
      "| Output: |\n",
      "-----------\n",
      "Termination:     3\n",
      "N. iter.:        31\n",
      "N. func. eval.:  122\n",
      "Final value:     0.132783\n",
      "Execution time:  0.185669\n",
      "  1.461026 seconds (761.59 k allocations: 64.827 MiB, 1.31% gc time)\n",
      "------------------------------------\n",
      "**Numerical result:\n",
      "====================================\n",
      "opt_val=-0.9936543360201805\n",
      "====================================\n",
      "Dimension of the null space of Gram matrix = 1\n",
      "------------------------------------\n",
      "atom 1 = [-0.01922206787686251, 0.005667767341357054, 0.0038351085348485667, 0.02915558146265634, -0.027961064149466263, -0.008934946803438863, 0.0091226818954591, -0.015128791886876422, 0.02100190990205292, 0.024752388038822792, 1.6021549578913931e-12]\n",
      "  check gap of lower bound  = 0.0028517775269899515\n",
      "  check equality constraint 1 = 0.029883213440988335\n",
      "  check equality constraint 2 = 0.017305867751159318\n",
      "  check equality constraint 3 = 0.9965061135471704\n",
      "  0.012997 seconds (2.44 k allocations: 637.422 KiB)\n",
      "  1.599528 seconds (1.05 M allocations: 105.175 MiB, 2.77% gc time)\n",
      "--------------------------\n",
      "**Conpute upper bound 2\n",
      "**Constant trace property (CTP):\n",
      "**Convert moment relaxation to standard SDP:\n",
      "  Size of psd matrix: sk=78\n",
      "  Number of equality trace constraints: m=1951\n",
      "  0.061994 seconds (232.63 k allocations: 37.321 MiB)\n",
      "**LMBM solver:\n",
      "---------------\n",
      "| Parameters: |\n",
      "---------------\n",
      "n:       1951\n",
      "maxtime: 300000.000000\n",
      "na:      2\n",
      "mcu:     5\n",
      "mc:      7\n",
      "rpar: \n",
      "ipar: \n",
      "-----------\n",
      "| Output: |\n",
      "-----------\n",
      "Termination:     1\n",
      "N. iter.:        58\n",
      "N. func. eval.:  72\n",
      "Final value:     0.401109\n",
      "Execution time:  0.138428\n",
      "  0.083381 seconds (30.55 k allocations: 15.225 MiB, 10.68% gc time)\n",
      "------------------------------------\n",
      "**Numerical result:\n",
      "====================================\n",
      "opt_val=-2.457436793434011\n",
      "====================================\n",
      "Dimension of the null space of Gram matrix = 1\n",
      "------------------------------------\n",
      "atom 1 = [-0.4399962979747628, -0.17232901959294786, -0.17803204168413875, -0.01977238006865582, -0.2206920688196113, 0.10346199934224368, 0.7767108561990042, 0.012855859827372342, 0.11951809552995946, -0.23922404103155273, 1.818927573005911e-16]\n",
      "  check gap of lower bound  = 0.02056185331841265\n",
      "  check equality constraint 1 = 0.004242721955269493\n",
      "  check equality constraint 2 = 0.002656699550454965\n",
      "  check equality constraint 3 = 0.010252493111194694\n",
      "####################################\n",
      "Optimal solution: opt_sol = [-0.4399962979747628, -0.17232901959294786, -0.17803204168413875, -0.01977238006865582, -0.2206920688196113, 0.10346199934224368, 0.7767108561990042, 0.012855859827372342, 0.11951809552995946, -0.23922404103155273, 1.818927573005911e-16]\n",
      "####################################\n",
      "  0.004279 seconds (3.25 k allocations: 652.641 KiB)\n",
      "  0.150176 seconds (267.49 k allocations: 53.206 MiB, 5.93% gc time)\n",
      "--------------------------\n",
      "  Radius of big ball: R_bar=4.451091129454191\n",
      "**Constant trace property (CTP):\n",
      "**Convert moment relaxation to standard SDP:\n",
      "  Size of psd matrix: sk=105\n",
      "  Number of equality trace constraints: m=3711\n",
      "  0.159115 seconds (491.63 k allocations: 81.247 MiB, 13.44% gc time)\n",
      "**LMBM solver:\n",
      "---------------\n",
      "| Parameters: |\n",
      "---------------\n",
      "n:       3711\n",
      "maxtime: 300000.000000\n",
      "na:      2\n",
      "mcu:     5\n",
      "mc:      7\n",
      "rpar: \n",
      "ipar: \n",
      "-----------\n",
      "| Output: |\n",
      "-----------\n",
      "Termination:     2\n",
      "N. iter.:        1499\n",
      "N. func. eval.:  4334\n",
      "Final value:     0.107297\n",
      "Execution time:  91.345764\n",
      " 89.898944 seconds (4.79 M allocations: 1.647 GiB, 0.38% gc time)\n",
      "------------------------------------\n",
      "**Numerical result:\n",
      "====================================\n",
      "opt_val=-3.1882682047275144\n",
      "====================================\n",
      "Dimension of the null space of Gram matrix = 4\n",
      "------------------------------------\n",
      "atom 1 = [-0.2164123255179695, -0.07288374004345174, -0.4699308994314538, -0.21449695061617713, -0.11050291310373606, 0.5578551963418749, 0.6064633993782846, 0.062286795767689834, -0.11775647426022634, 0.15046894695531465, 2.809023023344704e-16, -1.377333817743389, -1.4701549490202233]\n",
      "  check gap of lower bound  = 0.11157477456079734\n",
      "  check equality constraint 1 = 0.007512288413519447\n",
      "  check equality constraint 2 = 0.04563509229230891\n",
      "  check equality constraint 3 = 0.050588631093465786\n",
      "  check equality constraint 4 = 0.5254878123311514\n",
      "  check equality constraint 5 = 0.6579015212675081\n",
      "------------------------------------\n",
      "atom 2 = [-0.2156807829127832, -0.08976690646615672, -0.523710959066637, -0.2307818825898031, -0.1417008005745699, 0.6238983657447571, 0.6323249970005377, 0.08041420668616861, -0.11574977423810884, 0.17702993295788857, 9.943305577033595e-16, 1.228551828773235, 1.4885653028755859]\n",
      "  check gap of lower bound  = 0.561053703281229\n",
      "  check equality constraint 1 = 0.014916294718016573\n",
      "  check equality constraint 2 = 0.013073744981594727\n",
      "  check equality constraint 3 = 0.24247698512296156\n",
      "  check equality constraint 4 = 0.05737618423536288\n",
      "  check equality constraint 5 = 0.5165521125759156\n",
      "------------------------------------\n",
      "atom 3 = [-0.2223204264106451, -0.06921755189912433, -0.45503655415903643, -0.2090154561386337, -0.12062063984482799, 0.5443992213117126, 0.6163766154275135, 0.05621697631582709, -0.11252139861903986, 0.12441941090278866, 1.198664444155015e-18, 2.486935137749313, -2.78714157099481]\n",
      "  check gap of lower bound  = 0.05301376942436198\n",
      "  check equality constraint 1 = 0.0038305891327007485\n",
      "  check equality constraint 2 = 0.011110903570228231\n",
      "  check equality constraint 3 = 0.02710475436601767\n",
      "  check equality constraint 4 = 4.747564555002214\n",
      "  check equality constraint 5 = 10.52901814105144\n",
      "------------------------------------\n",
      "atom 4 = [-0.5262343299141269, 1.089374768720402, 0.44594488716012587, 0.22735613822587789, 0.1366906810319684, -0.47516438851954557, 0.3872077868104629, -0.459857062969782, -0.042132410533091365, -0.2775220401674268, 5.3137581609438264e-15, -2.115114128588331, 1.2635470842553842]\n",
      "  check gap of lower bound  = 0.4054440567881721\n",
      "  check equality constraint 1 = 0.43335605778538655\n",
      "  check equality constraint 2 = 0.6746588811716272\n",
      "  check equality constraint 3 = 1.3988751624020495\n",
      "  check equality constraint 4 = 5.080852421269395\n",
      "  check equality constraint 5 = 4.018043044032115\n",
      "  0.042038 seconds (13.33 k allocations: 1.837 MiB)\n",
      " 90.100656 seconds (5.30 M allocations: 1.728 GiB, 0.40% gc time)\n",
      " 91.851417 seconds (6.62 M allocations: 1.883 GiB, 0.45% gc time)\n"
     ]
    },
    {
     "name": "stderr",
     "output_type": "stream",
     "text": [
      "WARNING: replacing module SpectralPOP.\n"
     ]
    },
    {
     "data": {
      "text/plain": [
       "(-3.1882682047275144, Array{Float64,1}[])"
      ]
     },
     "execution_count": 26,
     "metadata": {},
     "output_type": "execute_result"
    }
   ],
   "source": [
    "include(\"../src/SpectralPOP.jl\")\n",
    "using .SpectralPOP    \n",
    "\n",
    "opt_val,opt_sol = SpectralPOP.CTP_POP_on_Ball(x,f,g,h,k,R,EigAlg=\"Mix\",scale=true)"
   ]
  },
  {
   "cell_type": "code",
   "execution_count": 44,
   "metadata": {},
   "outputs": [
    {
     "name": "stderr",
     "output_type": "stream",
     "text": [
      "WARNING: replacing module SpectralPOP.\n"
     ]
    },
    {
     "data": {
      "text/plain": [
       "1.0"
      ]
     },
     "execution_count": 44,
     "metadata": {},
     "output_type": "execute_result"
    }
   ],
   "source": [
    "include(\"../src/SpectralPOP.jl\")\n",
    "using .SpectralPOP\n",
    "\n",
    "CT=1.0"
   ]
  },
  {
   "cell_type": "code",
   "execution_count": 45,
   "metadata": {},
   "outputs": [
    {
     "name": "stdout",
     "output_type": "stream",
     "text": [
      "**Bounded trace property (BTP):\n",
      "  Largest upper bound of psd matrix: bound_ak=571.2809733708643\n",
      "  Number of blocks: numBloc=4\n",
      "  Size of block-diagonal matrix: s=89\n",
      "  Size of blocks: [66, 11, 11, 1]\n",
      "  Number of equality trace constraints: m=1475\n",
      "  0.514208 seconds (536.79 k allocations: 130.381 MiB, 3.95% gc time)\n",
      "***LMBM solver:***\n",
      "---------------\n",
      "| Parameters: |\n",
      "---------------\n",
      "n:       1475\n",
      "maxtime: 300000.000000\n",
      "na:      2\n",
      "mcu:     5\n",
      "mc:      7\n",
      "rpar: \n",
      "ipar: \n"
     ]
    },
    {
     "ename": "InterruptException",
     "evalue": "InterruptException:",
     "output_type": "error",
     "traceback": [
      "InterruptException:",
      "",
      "Stacktrace:",
      " [1] _At_or_Ac_mul_B(::Function, ::SparseMatrixCSC{Float64,Int64}, ::SparseVector{Float64,Int64}) at /buildworker/worker/package_linux64/build/usr/share/julia/stdlib/v1.3/SparseArrays/src/sparsevector.jl:1752",
      " [2] *(::LinearAlgebra.Adjoint{Float64,SparseMatrixCSC{Float64,Int64}}, ::SparseVector{Float64,Int64}) at /buildworker/worker/package_linux64/build/usr/share/julia/stdlib/v1.3/SparseArrays/src/sparsevector.jl:1731",
      " [3] (::Main.SpectralPOP.var\"#phi#81\"{Bool,Int64,UInt64,SparseMatrixCSC{UInt64,Int64},Array{Array{UInt64,1},1},Float16,Main.SpectralPOP.var\"#my_eigs#80\"{String,Int64,Int64,Array{Int64,1},Int64,Int64}})(::Int32, ::Ptr{Float64}, ::Ptr{Float64}) at /home/hoanganh/Desktop/math-topics/SpectralPOP/codes/SpectralPOP/src/POP_BTP.jl:378",
      " [4] #lmbm#1(::Int64, ::Int64, ::Bool, ::Float64, ::Float64, ::typeof(Main.SpectralPOP.lmbm), ::Function, ::Array{Float64,1}) at /home/hoanganh/Desktop/math-topics/SpectralPOP/codes/SpectralPOP/solvers/LMBM/LMBM.jl:106",
      " [5] macro expansion at ./none:0 [inlined]",
      " [6] macro expansion at ./util.jl:155 [inlined]",
      " [7] #BTP_POP#58(::Float64, ::String, ::Float64, ::Bool, ::Bool, ::typeof(Main.SpectralPOP.BTP_POP), ::Array{PolyVar{true},1}, ::Polynomial{true,Float64}, ::Array{Polynomial{true,Float64},1}, ::Array{Polynomial{true,Float64},1}, ::Int64, ::Float64) at /home/hoanganh/Desktop/math-topics/SpectralPOP/codes/SpectralPOP/src/POP_BTP.jl:83",
      " [8] (::Main.SpectralPOP.var\"#kw##BTP_POP\")(::NamedTuple{(:EigAlg, :scale, :ak),Tuple{String,Bool,Float64}}, ::typeof(Main.SpectralPOP.BTP_POP), ::Array{PolyVar{true},1}, ::Polynomial{true,Float64}, ::Array{Polynomial{true,Float64},1}, ::Array{Polynomial{true,Float64},1}, ::Int64, ::Float64) at ./none:0",
      " [9] top-level scope at In[45]:1"
     ]
    }
   ],
   "source": [
    "opt_val,opt_sol = SpectralPOP.BTP_POP(x,f,g,h,k,R,EigAlg=\"Mix\",scale=true,ak=CT)"
   ]
  },
  {
   "cell_type": "code",
   "execution_count": 29,
   "metadata": {},
   "outputs": [
    {
     "data": {
      "text/plain": [
       "2.0"
      ]
     },
     "execution_count": 29,
     "metadata": {},
     "output_type": "execute_result"
    }
   ],
   "source": []
  },
  {
   "cell_type": "code",
   "execution_count": null,
   "metadata": {},
   "outputs": [],
   "source": [
    "# include(\"../src/SpectralPOP.jl\")\n",
    "# using .SpectralPOP\n",
    "\n",
    "# SpectralPOP.save_data(x,f,g,h,R)"
   ]
  },
  {
   "cell_type": "code",
   "execution_count": null,
   "metadata": {},
   "outputs": [],
   "source": []
  }
 ],
 "metadata": {
  "kernelspec": {
   "display_name": "Julia 1.3.0",
   "language": "julia",
   "name": "julia-1.3"
  },
  "language_info": {
   "file_extension": ".jl",
   "mimetype": "application/julia",
   "name": "julia",
   "version": "1.3.0"
  }
 },
 "nbformat": 4,
 "nbformat_minor": 2
}
