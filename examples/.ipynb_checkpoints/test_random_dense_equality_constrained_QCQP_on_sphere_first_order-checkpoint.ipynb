{
 "cells": [
  {
   "cell_type": "code",
   "execution_count": 7,
   "metadata": {},
   "outputs": [
    {
     "name": "stdout",
     "output_type": "stream",
     "text": [
      "***Problem setting***\n",
      "Number of variable: n=50\n",
      "====================\n",
      "Number of equality constraints: l_h=14\n",
      "====================\n",
      "Relaxed order: k=1\n"
     ]
    }
   ],
   "source": [
    "using DynamicPolynomials\n",
    "\n",
    "println(\"***Problem setting***\")\n",
    "\n",
    "n=50\n",
    "\n",
    "#N=[50;60;70;80;100;120;150;200;300;400]\n",
    "\n",
    "l=ceil(Int32, n/4)\n",
    "\n",
    "println(\"Number of variable: n=\",n)\n",
    "println(\"====================\")\n",
    "\n",
    "@polyvar x[1:n]# variables\n",
    "\n",
    "function generate_random_poly(v::Vector{Monomial{true}})\n",
    "    c=2*rand(Float64,length(v)).-1\n",
    "    return c'*v\n",
    "end\n",
    "\n",
    "R=1.0\n",
    "\n",
    "function generate_objective_and_constraints(x)\n",
    "    # random quadratic objective function f\n",
    "    v=reverse(monomials(x,0:2))\n",
    "    f=generate_random_poly(v)\n",
    "\n",
    "\n",
    "    # unit sphere constraint\n",
    "    h=[R-sum(x.^2)] #type of coefficients of each polynomial must be float\n",
    "\n",
    "    # random quadratic equality constraints\n",
    "    randx=2*rand(n).-1# create a feasible solution\n",
    "    randx=randx./sqrt(sum(randx.^2))\n",
    "\n",
    "\n",
    "    for j in 1:l\n",
    "        push!(h,generate_random_poly(v[2:end]))\n",
    "        h[end]-=h[end](x => randx) #make constraints feasible\n",
    "    end\n",
    "    l_h=length(h)\n",
    "\n",
    "    println(\"Number of equality constraints: l_h=\",l_h)\n",
    "    println(\"====================\")\n",
    "    return f,h\n",
    "end\n",
    "\n",
    "\n",
    "f,h=generate_objective_and_constraints(x)\n",
    "\n",
    "k=Int64(1)\n",
    "\n",
    "println(\"Relaxed order: k=\",k)\n",
    "\n",
    "\n",
    "# include(\"../src/SpectralPOP.jl\")\n",
    "# using .SpectralPOP\n",
    "\n",
    "# g=Vector{Polynomial{true,Float64}}([])\n",
    "\n",
    "# SpectralPOP.save_data(x,f,g,h,R)"
   ]
  },
  {
   "cell_type": "code",
   "execution_count": 2,
   "metadata": {},
   "outputs": [],
   "source": [
    "using SparseArrays\n",
    "\n",
    "include(\"../src/SpectralPOP.jl\")\n",
    "using .SpectralPOP\n",
    "\n",
    "\n",
    "data=\"/home/hoanganh/Desktop/math-topics/SpectralPOP/codes/dataPOP\"\n",
    "include(data*\"/densePOPsphere_deg2_var50_nineq0_neq14.jl\")\n",
    "\n",
    "x,f,g,h=SpectralPOP.get_POP(n,m,l,lmon_g,supp_g,coe_g,lmon_h,supp_h,coe_h,lmon_f,supp_f,coe_f);\n",
    "\n",
    "\n",
    "k=1"
   ]
  },
  {
   "cell_type": "code",
   "execution_count": 4,
   "metadata": {},
   "outputs": [
    {
     "name": "stdout",
     "output_type": "stream",
     "text": [
      "**SumOfSquares+Mosek:\n",
      "OPTIMAL\n",
      "opt_val=0.8137066439048567\n",
      " 12.620015 seconds (36.44 M allocations: 1.806 GiB, 5.37% gc time)\n"
     ]
    },
    {
     "data": {
      "text/plain": [
       "0.8137066439048567"
      ]
     },
     "execution_count": 4,
     "metadata": {},
     "output_type": "execute_result"
    }
   ],
   "source": [
    "include(\"../src/SpectralPOP.jl\")\n",
    "using .SpectralPOP\n",
    "\n",
    "g=Vector{Polynomial{true,Float64}}([])\n",
    "opt_val = SpectralPOP.SumofSquares_POP(x,f,g,h,k) # SumOfSquares.jl + Mosek"
   ]
  },
  {
   "cell_type": "code",
   "execution_count": 5,
   "metadata": {},
   "outputs": [
    {
     "name": "stdout",
     "output_type": "stream",
     "text": [
      "**Constant trace property (CTP):\n",
      "**Convert moment relaxation to standard SDP:\n"
     ]
    },
    {
     "name": "stderr",
     "output_type": "stream",
     "text": [
      "WARNING: replacing module SpectralPOP.\n"
     ]
    },
    {
     "name": "stdout",
     "output_type": "stream",
     "text": [
      "  Size of psd matrix: sk=3\n",
      "  Number of equality trace constraints: m=3\n",
      "  1.981239 seconds (5.14 M allocations: 252.451 MiB, 5.18% gc time)\n",
      "**LMBM solver:\n",
      "---------------\n",
      "| Parameters: |\n",
      "---------------\n",
      "n:       3\n",
      "maxtime: 300000.000000\n",
      "na:      2\n",
      "mcu:     5\n",
      "mc:      7\n",
      "rpar: \n",
      "ipar: \n",
      "-----------\n",
      "| Output: |\n",
      "-----------\n",
      "Termination:     1\n",
      "N. iter.:        9\n",
      "N. func. eval.:  10\n",
      "Final value:     -0.338716\n",
      "Execution time:  0.214966\n",
      "  1.506111 seconds (1.29 M allocations: 68.917 MiB, 3.27% gc time)\n",
      "------------------------------------\n",
      "**Numerical result:\n",
      "====================================\n",
      "opt_val=0.8137060974734732\n",
      "====================================\n",
      "Dimension of the null space of Gram matrix = 1\n",
      "------------------------------------\n",
      "atom 1 = [0.13970485257213947, 0.9901031527898133]\n",
      "  check gap of lower bound  = 0.0005162968175550509\n",
      "  check equality constraint 1 = 0.00017830100346827304\n",
      "  check equality constraint 2 = 5.337184901921255e-5\n",
      "####################################\n",
      "Optimal solution: opt_sol = [0.13970485257213947, 0.9901031527898133]\n",
      "####################################\n",
      "  0.303334 seconds (852.93 k allocations: 41.884 MiB)\n",
      "  3.791105 seconds (7.28 M allocations: 363.284 MiB, 4.00% gc time)\n"
     ]
    },
    {
     "data": {
      "text/plain": [
       "(0.8137060974734732, [0.13970485257213947, 0.9901031527898133])"
      ]
     },
     "execution_count": 5,
     "metadata": {},
     "output_type": "execute_result"
    }
   ],
   "source": [
    "include(\"../src/SpectralPOP.jl\")\n",
    "using .SpectralPOP \n",
    "\n",
    "opt_val,opt_sol = SpectralPOP.CTP_POP(x,f,h,k,R;method=\"LMBM\",EigAlg=\"Mix\",tol=1e-5,scale=true) #Limited memory bundle method"
   ]
  },
  {
   "cell_type": "code",
   "execution_count": null,
   "metadata": {},
   "outputs": [],
   "source": []
  },
  {
   "cell_type": "code",
   "execution_count": 6,
   "metadata": {
    "scrolled": true
   },
   "outputs": [
    {
     "name": "stdout",
     "output_type": "stream",
     "text": [
      "**Constant trace property (CTP):\n",
      "**Convert moment relaxation to standard SDP:\n",
      "  Size of psd matrix: sk=3\n",
      "  Number of equality trace constraints: m=3\n",
      "  0.024139 seconds (50.97 k allocations: 2.547 MiB)\n"
     ]
    },
    {
     "name": "stderr",
     "output_type": "stream",
     "text": [
      "WARNING: replacing module SpectralPOP.\n"
     ]
    },
    {
     "name": "stdout",
     "output_type": "stream",
     "text": [
      "**SketchyCGAL solver:\n",
      "- SketchyCGAL SDP Solver - Beta.V.0.0\n",
      "--------------------------\n",
      " iter=1 \n",
      " stopObj=0.9791761479155586 \n",
      " stopFeas=0.3923970326444792 \n",
      " primalObj=-0.6750900652463248 \n",
      "--------------------------\n",
      " iter=2 \n",
      " stopObj=-0.12398112809698036 \n",
      " stopFeas=0.6053774498946698 \n",
      " primalObj=-0.1618105328879731 \n",
      "--------------------------\n",
      " iter=4 \n",
      " stopObj=-0.23721322976880566 \n",
      " stopFeas=0.2687643462781005 \n",
      " primalObj=-0.30850074941801375 \n",
      "--------------------------\n",
      " iter=8 \n",
      " stopObj=-0.2868732868712213 \n",
      " stopFeas=0.21825474515363374 \n",
      " primalObj=-0.31749537598985766 \n",
      "--------------------------\n",
      " iter=16 \n",
      " stopObj=-0.573006844796745 \n",
      " stopFeas=0.1569660464132771 \n",
      " primalObj=-0.07535092765893267 \n",
      "--------------------------\n",
      " iter=32 \n",
      " stopObj=-0.20988663586390416 \n",
      " stopFeas=0.09515102290650941 \n",
      " primalObj=-0.02494251659554085 \n",
      "--------------------------\n",
      " iter=64 \n",
      " stopObj=0.05383564763581511 \n",
      " stopFeas=0.09114036819737234 \n",
      " primalObj=0.04235851800531557 \n",
      "--------------------------\n",
      " iter=128 \n",
      " stopObj=-0.38880280065189454 \n",
      " stopFeas=0.08087174176762743 \n",
      " primalObj=0.05879224857475962 \n",
      "--------------------------\n",
      " iter=256 \n",
      " stopObj=-3.1176577355495194 \n",
      " stopFeas=0.08322143617769692 \n",
      " primalObj=0.08769764080277791 \n",
      "--------------------------\n",
      " iter=512 \n",
      " stopObj=0.07443348994176163 \n",
      " stopFeas=0.09025889979804583 \n",
      " primalObj=0.0448638625688144 \n",
      "--------------------------\n",
      " iter=1024 \n",
      " stopObj=-8.488592215482067 \n",
      " stopFeas=0.0925731355310438 \n",
      " primalObj=0.054896926383342655 \n",
      "--------------------------\n",
      " iter=2048 \n",
      " stopObj=-10.28219181688261 \n",
      " stopFeas=0.09140952474026894 \n",
      " primalObj=0.07350279854808468 \n",
      "--------------------------\n",
      " iter=4096 \n",
      " stopObj=-0.7150033228484602 \n",
      " stopFeas=0.08611094135678572 \n",
      " primalObj=0.06345193341578469 \n",
      "--------------------------\n",
      " iter=8192 \n",
      " stopObj=-1.8478077778786026 \n",
      " stopFeas=0.08526709805958375 \n",
      " primalObj=0.07091699560074487 \n",
      "--------------------------\n",
      " iter=16384 \n",
      " stopObj=1.4111773314961364 \n",
      " stopFeas=0.08456159754739714 \n",
      " primalObj=0.07127639717091794 \n",
      "--------------------------\n",
      " iter=32768 \n",
      " stopObj=-12.47278306720169 \n",
      " stopFeas=0.08535225957132314 \n",
      " primalObj=0.07277398977354282 \n",
      "--------------------------\n",
      " iter=65536 \n",
      " stopObj=2.1648100816939664 \n",
      " stopFeas=0.08507650017302908 \n",
      " primalObj=0.07494959188248113 \n",
      "--------------------------\n",
      " iter=131072 \n",
      " stopObj=-12.532962869608635 \n",
      " stopFeas=0.08466292598481018 \n",
      " primalObj=0.0766993205988236 \n",
      "--------------------------\n",
      " iter=262144 \n",
      " stopObj=3.981362717161943 \n",
      " stopFeas=0.08478223886768792 \n",
      " primalObj=0.0754287943733521 \n",
      "--------------------------\n",
      " iter=524288 \n",
      " stopObj=-5.627928266012344 \n",
      " stopFeas=0.08497271336038575 \n",
      " primalObj=0.07525246005571093 \n",
      "--------------------------\n",
      " iter=1000000 \n",
      " stopObj=-25.05658632344725 \n",
      " stopFeas=0.08459332960129697 \n",
      " primalObj=0.07630104629429237 \n",
      "* status = maximum number of iterations achieved\n",
      " 20.466198 seconds (186.21 M allocations: 13.314 GiB, 12.48% gc time)\n",
      "------------------------------------\n",
      "**Numerical result:\n",
      "====================================\n",
      "opt_val=0.18330011071089444\n",
      "====================================\n",
      "Rank of moment matrix = 3\n",
      "  0.002066 seconds (376 allocations: 22.469 KiB)\n",
      " 20.495634 seconds (186.26 M allocations: 13.316 GiB, 12.46% gc time)\n"
     ]
    },
    {
     "data": {
      "text/plain": [
       "(0.18330011071089444, Array{Float64,1}[])"
      ]
     },
     "execution_count": 6,
     "metadata": {},
     "output_type": "execute_result"
    }
   ],
   "source": [
    "include(\"../src/SpectralPOP.jl\")\n",
    "using .SpectralPOP\n",
    "\n",
    "opt_val,opt_sol = SpectralPOP.CTP_POP(x,f,h,k,R;method=\"SketchyCGAL\",EigAlg=\"Normal\",tol=1e-3,scale=true)"
   ]
  },
  {
   "cell_type": "code",
   "execution_count": null,
   "metadata": {},
   "outputs": [],
   "source": []
  },
  {
   "cell_type": "code",
   "execution_count": 11,
   "metadata": {},
   "outputs": [
    {
     "name": "stderr",
     "output_type": "stream",
     "text": [
      "WARNING: replacing module SpectralPOP.\n"
     ]
    }
   ],
   "source": [
    "include(\"../src/SpectralPOP.jl\")\n",
    "using .SpectralPOP\n",
    "\n",
    "g=Vector{Polynomial{true,Float64}}([])\n",
    "\n",
    "SpectralPOP.save_data(x,f,g,h,R)"
   ]
  },
  {
   "cell_type": "code",
   "execution_count": 5,
   "metadata": {
    "scrolled": true
   },
   "outputs": [],
   "source": [
    "# include(\"../src/SpectralPOP.jl\")\n",
    "# using .SpectralPOP\n",
    "\n",
    "# g=Vector{Polynomial{true,Float64}}([])\n",
    "\n",
    "# opt_val,opt_sol = SpectralPOP.SumofSquares_POP_WithExtraction(x,f,g,h,k) # SumOfSquares + Mosek"
   ]
  },
  {
   "cell_type": "code",
   "execution_count": null,
   "metadata": {},
   "outputs": [],
   "source": []
  }
 ],
 "metadata": {
  "kernelspec": {
   "display_name": "Julia 1.3.0",
   "language": "julia",
   "name": "julia-1.3"
  },
  "language_info": {
   "file_extension": ".jl",
   "mimetype": "application/julia",
   "name": "julia",
   "version": "1.3.0"
  }
 },
 "nbformat": 4,
 "nbformat_minor": 2
}
