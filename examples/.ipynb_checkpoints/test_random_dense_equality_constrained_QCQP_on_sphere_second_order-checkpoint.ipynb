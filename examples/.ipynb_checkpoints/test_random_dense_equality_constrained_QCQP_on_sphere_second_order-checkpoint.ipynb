{
 "cells": [
  {
   "cell_type": "code",
   "execution_count": 1,
   "metadata": {},
   "outputs": [
    {
     "name": "stdout",
     "output_type": "stream",
     "text": [
      "***Problem setting***\n",
      "Number of variable: n=2\n",
      "====================\n",
      "Number of equality constraints: l_h=2\n",
      "====================\n",
      "Relaxed order: k=2\n"
     ]
    }
   ],
   "source": [
    "using DynamicPolynomials\n",
    "\n",
    "println(\"***Problem setting***\")\n",
    "\n",
    "n=2\n",
    "\n",
    "#N=[5;10;15;20;25;30;35;40;45;50;55;60;65]\n",
    "\n",
    "l=ceil(Int32, n/4)\n",
    "\n",
    "println(\"Number of variable: n=\",n)\n",
    "println(\"====================\")\n",
    "\n",
    "@polyvar x[1:n]# variables\n",
    "\n",
    "function generate_random_poly(v::Vector{Monomial{true}})\n",
    "    c=2*rand(Float64,length(v)).-1\n",
    "    return c'*v\n",
    "end\n",
    "\n",
    "R=1.0\n",
    "\n",
    "function generate_objective_and_constraints(x)\n",
    "    # random quadratic objective function f\n",
    "    v=reverse(monomials(x,0:2))\n",
    "    f=generate_random_poly(v)\n",
    "\n",
    "\n",
    "    # unit sphere constraint\n",
    "    h=[R-sum(x.^2)] #type of coefficients of each polynomial must be float\n",
    "\n",
    "    # random quadratic equality constraints\n",
    "    randx=2*rand(n).-1# create a feasible solution\n",
    "    randx=randx./sqrt(sum(randx.^2))\n",
    "\n",
    "\n",
    "    for j in 1:l\n",
    "        push!(h,generate_random_poly(v[2:end]))\n",
    "        h[end]-=h[end](x => randx) #make constraints feasible\n",
    "    end\n",
    "    l_h=length(h)\n",
    "\n",
    "    println(\"Number of equality constraints: l_h=\",l_h)\n",
    "    println(\"====================\")\n",
    "    return f,h\n",
    "end\n",
    "\n",
    "\n",
    "f,h=generate_objective_and_constraints(x)\n",
    "\n",
    "k=Int64(2)\n",
    "\n",
    "println(\"Relaxed order: k=\",k)\n",
    "\n",
    "\n",
    "# include(\"../src/SpectralSOS.jl\")\n",
    "# using .SpectralSOS\n",
    "\n",
    "# g=Vector{Polynomial{true,Float64}}([])\n",
    "\n",
    "# SpectralSOS.save_data(x,f,g,h,R)"
   ]
  },
  {
   "cell_type": "code",
   "execution_count": 2,
   "metadata": {},
   "outputs": [],
   "source": [
    "# using SparseArrays\n",
    "\n",
    "# include(\"../src/SpectralSOS.jl\")\n",
    "# using .SpectralSOS\n",
    "\n",
    "\n",
    "\n",
    "# include(\"../examples/densePOPsphere_deg2_var50_nineq0_neq14.jl\")\n",
    "\n",
    "# x,f,g,h=SpectralSOS.get_POP(n,m,l,lmon_g,supp_g,coe_g,lmon_h,supp_h,coe_h,lmon_f,supp_f,coe_f);\n",
    "\n",
    "\n",
    "# k=1"
   ]
  },
  {
   "cell_type": "code",
   "execution_count": 3,
   "metadata": {},
   "outputs": [
    {
     "name": "stdout",
     "output_type": "stream",
     "text": [
      "**SumOfSquares+Mosek:\n"
     ]
    },
    {
     "name": "stderr",
     "output_type": "stream",
     "text": [
      "WARNING: Compat.Printf is deprecated, use Printf instead.\n",
      "  likely near /home/hoanganh/Desktop/math-topics/SpectralPOP/codes/SpectralSOS/solvers/ProximalBundleMethod/ProximalMethod.jl:389\n"
     ]
    },
    {
     "name": "stdout",
     "output_type": "stream",
     "text": [
      "OPTIMAL\n",
      "opt_val=0.6414808070560406\n",
      " 22.547993 seconds (37.45 M allocations: 1.856 GiB, 4.82% gc time)\n"
     ]
    },
    {
     "data": {
      "text/plain": [
       "0.6414808070560406"
      ]
     },
     "execution_count": 3,
     "metadata": {},
     "output_type": "execute_result"
    }
   ],
   "source": [
    "include(\"../src/SpectralSOS.jl\")\n",
    "using .SpectralSOS\n",
    "\n",
    "g=Vector{Polynomial{true,Float64}}([])\n",
    "opt_val = SpectralSOS.SumofSquares_POP(x,f,g,h,k) # SumOfSquares.jl + Mosek"
   ]
  },
  {
   "cell_type": "code",
   "execution_count": 5,
   "metadata": {},
   "outputs": [
    {
     "name": "stdout",
     "output_type": "stream",
     "text": [
      "**Constant trace property (CTP):\n",
      "**Convert moment relaxation to standard SDP:\n",
      "  Size of psd matrix: sk=6\n",
      "  Number of equality trace constraints: m=19\n",
      "  0.042740 seconds (51.66 k allocations: 2.618 MiB)\n",
      "**LMBM solver:"
     ]
    },
    {
     "name": "stderr",
     "output_type": "stream",
     "text": [
      "WARNING: replacing module SpectralSOS.\n",
      "WARNING: Compat.Printf is deprecated, use Printf instead.\n",
      "  likely near /home/hoanganh/Desktop/math-topics/SpectralPOP/codes/SpectralSOS/solvers/ProximalBundleMethod/ProximalMethod.jl:389\n",
      "WARNING: Compat.norm is deprecated, use LinearAlgebra.norm instead.\n",
      "  likely near /home/hoanganh/.julia/packages/IJulia/a1SNk/src/kernel.jl:53\n"
     ]
    },
    {
     "name": "stdout",
     "output_type": "stream",
     "text": [
      "\n",
      "---------------\n",
      "| Parameters: |\n",
      "---------------\n",
      "n:       19\n",
      "maxtime: 300000.000000\n",
      "na:      2\n",
      "mcu:     5\n",
      "mc:      7\n",
      "rpar: \n",
      "ipar: \n",
      "-----------\n",
      "| Output: |\n",
      "-----------\n",
      "Termination:     1\n",
      "N. iter.:        16\n",
      "N. func. eval.:  97\n",
      "Final value:     -0.180446\n",
      "Execution time:  0.329086\n",
      "  1.674958 seconds (1.22 M allocations: 65.677 MiB)\n",
      "------------------------------------\n",
      "**Numerical result:\n",
      "====================================\n",
      "opt_val=0.6414743843632409\n",
      "====================================\n",
      "Dimension of the null space of Gram matrix = 1\n",
      "------------------------------------\n",
      "atom 1 = [0.62670034116493, 0.7790438049855484]\n",
      "  check gap of lower bound  = 0.0010684751003456894\n",
      "  check equality constraint 1 = 0.00033743229739924274\n",
      "  check equality constraint 2 = 0.003497820325763068\n",
      "####################################\n",
      "Optimal solution: opt_sol = [0.62670034116493, 0.7790438049855484]\n",
      "####################################\n",
      "  0.543075 seconds (849.94 k allocations: 41.695 MiB, 8.23% gc time)\n",
      "  2.261336 seconds (2.12 M allocations: 110.011 MiB, 1.98% gc time)\n"
     ]
    },
    {
     "data": {
      "text/plain": [
       "(0.6414743843632409, [0.62670034116493, 0.7790438049855484])"
      ]
     },
     "execution_count": 5,
     "metadata": {},
     "output_type": "execute_result"
    }
   ],
   "source": [
    "include(\"../src/SpectralSOS.jl\")\n",
    "using .SpectralSOS\n",
    "\n",
    "opt_val,opt_sol = SpectralSOS.CTP_POP(x,f,h,k,R;method=\"LMBM\",EigAlg=\"Mix\",tol=1e-5,scale=true) #Limited memory bundle method"
   ]
  },
  {
   "cell_type": "code",
   "execution_count": 4,
   "metadata": {
    "scrolled": true
   },
   "outputs": [
    {
     "name": "stdout",
     "output_type": "stream",
     "text": [
      "**Constant trace property (CTP):\n",
      "**Convert moment relaxation to standard SDP:\n"
     ]
    },
    {
     "name": "stderr",
     "output_type": "stream",
     "text": [
      "WARNING: replacing module SpectralSOS.\n",
      "WARNING: Compat.Printf is deprecated, use Printf instead.\n",
      "  likely near /home/hoanganh/Desktop/math-topics/SpectralPOP/codes/SpectralSOS/solvers/ProximalBundleMethod/ProximalMethod.jl:389\n",
      "WARNING: Compat.norm is deprecated, use LinearAlgebra.norm instead.\n",
      "  likely near /home/hoanganh/.julia/packages/IJulia/a1SNk/src/kernel.jl:53\n"
     ]
    },
    {
     "name": "stdout",
     "output_type": "stream",
     "text": [
      "  Size of psd matrix: sk=6\n",
      "  Number of equality trace constraints: m=19\n",
      "  3.688167 seconds (5.15 M allocations: 254.284 MiB, 3.53% gc time)\n",
      "**SketchyCGAL solver:\n",
      "- SketchyCGAL SDP Solver - Beta.V.0.0\n",
      "--------------------------\n",
      " iter=1 \n",
      " stopObj=-0.07732692855649206 \n",
      " stopFeas=0.16274548464985508 \n",
      " primalObj=0.058780314308636415 \n",
      "--------------------------\n",
      " iter=2 \n",
      " stopObj=1.5830691219109059 \n",
      " stopFeas=0.947843107523451 \n",
      " primalObj=0.08772373416494939 \n",
      "--------------------------\n",
      " iter=4 \n",
      " stopObj=0.05138708940064464 \n",
      " stopFeas=0.3769672656774617 \n",
      " primalObj=0.1357855447088588 \n",
      "--------------------------\n",
      " iter=8 \n",
      " stopObj=0.14912146701459228 \n",
      " stopFeas=0.19100671579764852 \n",
      " primalObj=0.22829527789441043 \n",
      "--------------------------\n",
      " iter=16 \n",
      " stopObj=0.03399904456606592 \n",
      " stopFeas=0.055929308560843015 \n",
      " primalObj=0.22274459794095935 \n",
      "--------------------------\n",
      " iter=32 \n",
      " stopObj=-0.014777002084342211 \n",
      " stopFeas=0.021272745118330914 \n",
      " primalObj=0.20970331673509615 \n",
      "--------------------------\n",
      " iter=64 \n",
      " stopObj=0.03739561827025871 \n",
      " stopFeas=0.010909163979178408 \n",
      " primalObj=0.21499486431964343 \n",
      "--------------------------\n",
      " iter=128 \n",
      " stopObj=0.006573784888812884 \n",
      " stopFeas=0.002349408112704503 \n",
      " primalObj=0.20694319020747692 \n",
      "--------------------------\n",
      " iter=256 \n",
      " stopObj=0.024035136587114078 \n",
      " stopFeas=0.001401844740261742 \n",
      " primalObj=0.20417903979895768 \n",
      "* status = stopping criteria met\n",
      "  3.824331 seconds (4.38 M allocations: 220.623 MiB, 2.49% gc time)\n",
      "------------------------------------\n",
      "**Numerical result:\n",
      "====================================\n",
      "opt_val=0.7183092353895763\n",
      "====================================\n",
      "Rank of moment matrix = 6\n",
      "  0.008880 seconds (546 allocations: 32.422 KiB)\n",
      "  7.532006 seconds (9.54 M allocations: 475.032 MiB, 3.00% gc time)\n"
     ]
    },
    {
     "data": {
      "text/plain": [
       "(0.7183092353895763, Array{Float64,1}[])"
      ]
     },
     "execution_count": 4,
     "metadata": {},
     "output_type": "execute_result"
    }
   ],
   "source": [
    "include(\"../src/SpectralSOS.jl\")\n",
    "using .SpectralSOS\n",
    "\n",
    "opt_val,opt_sol = SpectralSOS.CTP_POP(x,f,h,k,R;method=\"SketchyCGAL\",EigAlg=\"Normal\",tol=1e-3,scale=true)"
   ]
  },
  {
   "cell_type": "code",
   "execution_count": null,
   "metadata": {},
   "outputs": [],
   "source": []
  },
  {
   "cell_type": "code",
   "execution_count": 47,
   "metadata": {},
   "outputs": [
    {
     "name": "stderr",
     "output_type": "stream",
     "text": [
      "WARNING: replacing module SpectralPOP.\n"
     ]
    }
   ],
   "source": [
    "include(\"../src/SpectralSOS.jl\")\n",
    "using .SpectralSOS\n",
    "\n",
    "g=Vector{Polynomial{true,Float64}}([])\n",
    "\n",
    "SpectralSOS.save_data(x,f,g,h,R)"
   ]
  },
  {
   "cell_type": "code",
   "execution_count": 14,
   "metadata": {
    "scrolled": true
   },
   "outputs": [],
   "source": [
    "# include(\"../src/SpectralPOP.jl\")\n",
    "# using .SpectralPOP\n",
    "\n",
    "# g=Vector{Polynomial{true,Float64}}([])\n",
    "\n",
    "# opt_val,opt_sol = SpectralPOP.SumofSquares_POP_WithExtraction(x,f,g,h,k) # SumOfSquares + Mosek"
   ]
  },
  {
   "cell_type": "code",
   "execution_count": null,
   "metadata": {},
   "outputs": [],
   "source": []
  }
 ],
 "metadata": {
  "kernelspec": {
   "display_name": "Julia 1.3.0",
   "language": "julia",
   "name": "julia-1.3"
  },
  "language_info": {
   "file_extension": ".jl",
   "mimetype": "application/julia",
   "name": "julia",
   "version": "1.3.0"
  }
 },
 "nbformat": 4,
 "nbformat_minor": 2
}
