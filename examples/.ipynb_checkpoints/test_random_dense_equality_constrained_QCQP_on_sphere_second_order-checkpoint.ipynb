{
 "cells": [
  {
   "cell_type": "code",
   "execution_count": 8,
   "metadata": {},
   "outputs": [
    {
     "name": "stdout",
     "output_type": "stream",
     "text": [
      "***Problem setting***\n",
      "Number of variable: n=30\n",
      "====================\n",
      "Number of equality constraints: l_h=9\n",
      "====================\n",
      "Relaxed order: k=2\n"
     ]
    }
   ],
   "source": [
    "using DynamicPolynomials\n",
    "\n",
    "println(\"***Problem setting***\")\n",
    "\n",
    "n=35\n",
    "\n",
    "#N=[5;10;15;20;25;30;35;40;45;50;55;60;65]\n",
    "\n",
    "l=ceil(Int32, n/4)\n",
    "\n",
    "println(\"Number of variable: n=\",n)\n",
    "println(\"====================\")\n",
    "\n",
    "@polyvar x[1:n]# variables\n",
    "\n",
    "function generate_random_poly(v::Vector{Monomial{true}})\n",
    "    c=2*rand(Float64,length(v)).-1\n",
    "    return c'*v\n",
    "end\n",
    "\n",
    "R=1.0\n",
    "\n",
    "function generate_objective_and_constraints(x)\n",
    "    # random quadratic objective function f\n",
    "    v=reverse(monomials(x,0:2))\n",
    "    f=generate_random_poly(v)\n",
    "\n",
    "\n",
    "    # unit sphere constraint\n",
    "    h=[R-sum(x.^2)] #type of coefficients of each polynomial must be float\n",
    "\n",
    "    # random quadratic equality constraints\n",
    "    randx=2*rand(n).-1# create a feasible solution\n",
    "    randx=randx./sqrt(sum(randx.^2))\n",
    "\n",
    "\n",
    "    for j in 1:l\n",
    "        push!(h,generate_random_poly(v[2:end]))\n",
    "        h[end]-=h[end](x => randx) #make constraints feasible\n",
    "    end\n",
    "    l_h=length(h)\n",
    "\n",
    "    println(\"Number of equality constraints: l_h=\",l_h)\n",
    "    println(\"====================\")\n",
    "    return f,h\n",
    "end\n",
    "\n",
    "\n",
    "f,h=generate_objective_and_constraints(x)\n",
    "\n",
    "k=Int64(2)\n",
    "\n",
    "println(\"Relaxed order: k=\",k)\n",
    "\n",
    "\n",
    "# include(\"../src/SpectralPOP.jl\")\n",
    "# using .SpectralPOP\n",
    "\n",
    "# g=Vector{Polynomial{true,Float64}}([])\n",
    "\n",
    "# SpectralPOP.save_data(x,f,g,h,R)"
   ]
  },
  {
   "cell_type": "code",
   "execution_count": 2,
   "metadata": {},
   "outputs": [],
   "source": [
    "# using SparseArrays\n",
    "\n",
    "# include(\"../src/SpectralPOP.jl\")\n",
    "# using .SpectralPOP\n",
    "\n",
    "\n",
    "\n",
    "# include(\"../examples/densePOPsphere_deg2_var50_nineq0_neq14.jl\")\n",
    "\n",
    "# x,f,g,h=SpectralPOP.get_POP(n,m,l,lmon_g,supp_g,coe_g,lmon_h,supp_h,coe_h,lmon_f,supp_f,coe_f);\n",
    "\n",
    "\n",
    "# k=1"
   ]
  },
  {
   "cell_type": "code",
   "execution_count": 12,
   "metadata": {},
   "outputs": [
    {
     "name": "stdout",
     "output_type": "stream",
     "text": [
      "**SumOfSquares+Mosek:\n"
     ]
    },
    {
     "name": "stderr",
     "output_type": "stream",
     "text": [
      "WARNING: replacing module SpectralPOP.\n"
     ]
    },
    {
     "name": "stdout",
     "output_type": "stream",
     "text": [
      "OPTIMAL\n",
      "opt_val=-4.3439831639392885\n",
      "4678.119201 seconds (72.84 M allocations: 7.833 GiB, 0.08% gc time)\n"
     ]
    },
    {
     "data": {
      "text/plain": [
       "-4.3439831639392885"
      ]
     },
     "execution_count": 12,
     "metadata": {},
     "output_type": "execute_result"
    }
   ],
   "source": [
    "# include(\"../src/SpectralPOP.jl\")\n",
    "# using .SpectralPOP\n",
    "\n",
    "# g=Vector{Polynomial{true,Float64}}([])\n",
    "# opt_val = SpectralPOP.SumofSquares_POP(x,f,g,h,k) # SumOfSquares.jl + Mosek"
   ]
  },
  {
   "cell_type": "code",
   "execution_count": 9,
   "metadata": {},
   "outputs": [
    {
     "name": "stdout",
     "output_type": "stream",
     "text": [
      "**Constant trace property (CTP):\n",
      "**Convert moment relaxation to standard SDP:\n"
     ]
    },
    {
     "name": "stderr",
     "output_type": "stream",
     "text": [
      "WARNING: replacing module SpectralPOP.\n"
     ]
    },
    {
     "name": "stdout",
     "output_type": "stream",
     "text": [
      "  Size of psd matrix: sk=496\n",
      "  Number of equality trace constraints: m=81345\n",
      " 19.300279 seconds (42.55 M allocations: 12.194 GiB, 9.77% gc time)\n",
      "**LMBM solver:\n",
      "---------------\n",
      "| Parameters: |\n",
      "---------------\n",
      "n:       81345\n",
      "maxtime: 300000.000000\n",
      "na:      2\n",
      "mcu:     5\n",
      "mc:      7\n",
      "rpar: \n",
      "ipar: \n",
      "-----------\n",
      "| Output: |\n",
      "-----------\n",
      "Termination:     1\n",
      "N. iter.:        484\n",
      "N. func. eval.:  880\n",
      "Final value:     0.297799\n",
      "Execution time:  108.990173\n",
      " 40.756967 seconds (2.03 M allocations: 5.667 GiB, 0.45% gc time)\n",
      "------------------------------------\n",
      "**Numerical result:\n",
      "====================================\n",
      "opt_val=-4.344071229672611\n",
      "====================================\n",
      "Dimension of the null space of Gram matrix = 1\n",
      "------------------------------------\n",
      "atom 1 = [0.08665550181281484, -0.34075129851073643, 0.13917301683676433, -0.1689413066794413, 0.29152166346134123, -0.1869487098503367, -0.15907409397096853, 0.23909476884745873, 0.11479917501019132, 0.0126797783324519, -0.12064461893652917, -0.21048749740755113, -0.12239177786769008, -0.10404167850098957, -0.07150343130357341, -0.33585724396266853, -0.13760197279399286, 0.0255936070769102, 0.04993170754648878, -0.007895017063140162, 0.06694156870115325, 0.016758359965480328, -0.33479425913744815, -0.36422219328036826, 0.26429763910529086, -0.017332084983324645, 0.09469395668534944, 0.09350739772055634, 0.09878944916326857, -0.21228164272985756]\n",
      "  check gap of lower bound  = 0.002192603276624183\n",
      "  check equality constraint 1 = 0.004192412369146359\n",
      "  check equality constraint 2 = 0.0022943091695259987\n",
      "  check equality constraint 3 = 0.0026834880768191183\n",
      "  check equality constraint 4 = 0.0026323925493954015\n",
      "  check equality constraint 5 = 0.009107469422142134\n",
      "  check equality constraint 6 = 0.015283322719874981\n",
      "  check equality constraint 7 = 0.005264417470288052\n",
      "  check equality constraint 8 = 0.004985435920912551\n",
      "  check equality constraint 9 = 0.028451854869976922\n",
      "####################################\n",
      "Optimal solution: opt_sol = [0.08665550181281484, -0.34075129851073643, 0.13917301683676433, -0.1689413066794413, 0.29152166346134123, -0.1869487098503367, -0.15907409397096853, 0.23909476884745873, 0.11479917501019132, 0.0126797783324519, -0.12064461893652917, -0.21048749740755113, -0.12239177786769008, -0.10404167850098957, -0.07150343130357341, -0.33585724396266853, -0.13760197279399286, 0.0255936070769102, 0.04993170754648878, -0.007895017063140162, 0.06694156870115325, 0.016758359965480328, -0.33479425913744815, -0.36422219328036826, 0.26429763910529086, -0.017332084983324645, 0.09469395668534944, 0.09350739772055634, 0.09878944916326857, -0.21228164272985756]\n",
      "####################################\n",
      "  0.123663 seconds (9.63 k allocations: 21.229 MiB)\n",
      " 60.181844 seconds (44.59 M allocations: 17.882 GiB, 3.44% gc time)\n"
     ]
    },
    {
     "data": {
      "text/plain": [
       "(-4.344071229672611, [0.08665550181281484, -0.34075129851073643, 0.13917301683676433, -0.1689413066794413, 0.29152166346134123, -0.1869487098503367, -0.15907409397096853, 0.23909476884745873, 0.11479917501019132, 0.0126797783324519  …  0.06694156870115325, 0.016758359965480328, -0.33479425913744815, -0.36422219328036826, 0.26429763910529086, -0.017332084983324645, 0.09469395668534944, 0.09350739772055634, 0.09878944916326857, -0.21228164272985756])"
      ]
     },
     "execution_count": 9,
     "metadata": {},
     "output_type": "execute_result"
    }
   ],
   "source": [
    "include(\"../src/SpectralPOP.jl\")\n",
    "using .SpectralPOP \n",
    "\n",
    "opt_val,opt_sol = SpectralPOP.CTP_POP(x,f,h,k,R;method=\"LMBM\",EigAlg=\"Mix\",tol=1e-5,scale=true) #Limited memory bundle method"
   ]
  },
  {
   "cell_type": "code",
   "execution_count": 11,
   "metadata": {
    "scrolled": true
   },
   "outputs": [
    {
     "name": "stdout",
     "output_type": "stream",
     "text": [
      "**Constant trace property (CTP):\n",
      "**Convert moment relaxation to standard SDP:\n"
     ]
    },
    {
     "name": "stderr",
     "output_type": "stream",
     "text": [
      "WARNING: replacing module SpectralPOP.\n"
     ]
    },
    {
     "name": "stdout",
     "output_type": "stream",
     "text": [
      "  Size of psd matrix: sk=496\n",
      "  Number of equality trace constraints: m=81345\n",
      " 20.319967 seconds (42.55 M allocations: 12.194 GiB, 9.85% gc time)\n",
      "**SketchyCGAL solver:\n",
      "- SketchyCGAL SDP Solver - Beta.V.0.0\n",
      "--------------------------\n",
      " iter=1 \n",
      " stopObj=0.5359728633045965 \n",
      " stopFeas=0.14008335723493884 \n",
      " primalObj=-0.4986999163418166 \n",
      "--------------------------\n",
      " iter=2 \n",
      " stopObj=0.07030263413063514 \n",
      " stopFeas=0.37007760047108557 \n",
      " primalObj=-0.38802318611147535 \n",
      "--------------------------\n",
      " iter=4 \n",
      " stopObj=0.11912244155966029 \n",
      " stopFeas=0.18613781124533965 \n",
      " primalObj=-0.35109145770271444 \n",
      "--------------------------\n",
      " iter=8 \n",
      " stopObj=0.08597972874269261 \n",
      " stopFeas=0.12161230811798851 \n",
      " primalObj=-0.3289068267380297 \n",
      "--------------------------\n",
      " iter=16 \n",
      " stopObj=0.01213290194912564 \n",
      " stopFeas=0.06898994541955927 \n",
      " primalObj=-0.31247398021984174 \n",
      "--------------------------\n",
      " iter=32 \n",
      " stopObj=-0.00524322276913175 \n",
      " stopFeas=0.03395730351629427 \n",
      " primalObj=-0.30917055590218534 \n",
      "--------------------------\n",
      " iter=64 \n",
      " stopObj=0.004323154411963848 \n",
      " stopFeas=0.011847032709583613 \n",
      " primalObj=-0.2949032744296993 \n",
      "--------------------------\n",
      " iter=128 \n",
      " stopObj=0.0043796809588086405 \n",
      " stopFeas=0.004815954656057394 \n",
      " primalObj=-0.29367584281985226 \n",
      "--------------------------\n",
      " iter=256 \n",
      " stopObj=0.0012969120538084966 \n",
      " stopFeas=0.00211590198044944 \n",
      " primalObj=-0.2964630835859423 \n",
      "* status = stopping criteria met\n",
      "274.080597 seconds (1.49 M allocations: 432.024 GiB, 4.77% gc time)\n",
      "------------------------------------\n",
      "**Numerical result:\n",
      "====================================\n",
      "opt_val=-4.329740708937791\n",
      "====================================\n",
      "Rank of moment matrix = 496\n",
      "  0.013030 seconds (1.06 k allocations: 11.386 MiB)\n",
      "294.414710 seconds (44.04 M allocations: 444.231 GiB, 5.12% gc time)\n"
     ]
    },
    {
     "data": {
      "text/plain": [
       "(-4.329740708937791, Array{Float64,1}[])"
      ]
     },
     "execution_count": 11,
     "metadata": {},
     "output_type": "execute_result"
    }
   ],
   "source": [
    "include(\"../src/SpectralPOP.jl\")\n",
    "using .SpectralPOP\n",
    "\n",
    "opt_val,opt_sol = SpectralPOP.CTP_POP(x,f,h,k,R;method=\"SketchyCGAL\",EigAlg=\"Normal\",tol=1e-3,scale=true)"
   ]
  },
  {
   "cell_type": "code",
   "execution_count": null,
   "metadata": {},
   "outputs": [],
   "source": []
  },
  {
   "cell_type": "code",
   "execution_count": 10,
   "metadata": {},
   "outputs": [
    {
     "name": "stderr",
     "output_type": "stream",
     "text": [
      "WARNING: replacing module SpectralPOP.\n"
     ]
    }
   ],
   "source": [
    "include(\"../src/SpectralPOP.jl\")\n",
    "using .SpectralPOP\n",
    "\n",
    "g=Vector{Polynomial{true,Float64}}([])\n",
    "\n",
    "SpectralPOP.save_data(x,f,g,h,R)"
   ]
  },
  {
   "cell_type": "code",
   "execution_count": 14,
   "metadata": {
    "scrolled": true
   },
   "outputs": [],
   "source": [
    "# include(\"../src/SpectralPOP.jl\")\n",
    "# using .SpectralPOP\n",
    "\n",
    "# g=Vector{Polynomial{true,Float64}}([])\n",
    "\n",
    "# opt_val,opt_sol = SpectralPOP.SumofSquares_POP_WithExtraction(x,f,g,h,k) # SumOfSquares + Mosek"
   ]
  },
  {
   "cell_type": "code",
   "execution_count": null,
   "metadata": {},
   "outputs": [],
   "source": []
  }
 ],
 "metadata": {
  "kernelspec": {
   "display_name": "Julia 1.3.0",
   "language": "julia",
   "name": "julia-1.3"
  },
  "language_info": {
   "file_extension": ".jl",
   "mimetype": "application/julia",
   "name": "julia",
   "version": "1.3.0"
  }
 },
 "nbformat": 4,
 "nbformat_minor": 2
}
