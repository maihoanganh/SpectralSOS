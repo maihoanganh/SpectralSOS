{
 "cells": [
  {
   "cell_type": "code",
   "execution_count": 30,
   "metadata": {},
   "outputs": [
    {
     "name": "stdout",
     "output_type": "stream",
     "text": [
      "***Problem setting***\n",
      "Number of variable: n=20\n",
      "====================\n",
      "Number of equality constraints: l_h=1\n",
      "====================\n",
      "Relaxed order: k=2\n"
     ]
    }
   ],
   "source": [
    "using DynamicPolynomials\n",
    "\n",
    "println(\"***Problem setting***\")\n",
    "\n",
    "n=20\n",
    "#N=[5;10;15;20;25;30]\n",
    "\n",
    "#for n in N\n",
    "\n",
    "println(\"Number of variable: n=\",n)\n",
    "println(\"====================\")\n",
    "\n",
    "@polyvar x[1:n]# variables\n",
    "\n",
    "# random quadratic objective function f\n",
    "v=reverse(monomials(x,0:4))\n",
    "c=2*rand(Float64,length(v)).-1\n",
    "f=c'*v\n",
    "\n",
    "\n",
    "# unit sphere constraint\n",
    "R=1.0\n",
    "h=[R-sum(x.^2)] #type of coefficients of each polynomial must be float\n",
    "\n",
    "l_h=length(h)\n",
    "\n",
    "println(\"Number of equality constraints: l_h=\",l_h)\n",
    "println(\"====================\")\n",
    "\n",
    "k=Int64(2)\n",
    "\n",
    "println(\"Relaxed order: k=\",k)\n",
    "    \n",
    "\n",
    "    \n",
    "#end"
   ]
  },
  {
   "cell_type": "code",
   "execution_count": 18,
   "metadata": {},
   "outputs": [],
   "source": [
    "# using SparseArrays\n",
    "\n",
    "# include(\"../src/SpectralPOP.jl\")\n",
    "# using .SpectralPOP\n",
    "\n",
    "\n",
    "\n",
    "# include(\"../examples/densePOPsphere_deg4_var5_nineq0_neq1.jl\")\n",
    "\n",
    "# x,f,g,h=SpectralPOP.get_POP(n,m,l,lmon_g,supp_g,coe_g,lmon_h,supp_h,coe_h,lmon_f,supp_f,coe_f);\n",
    "\n",
    "\n",
    "# k=2"
   ]
  },
  {
   "cell_type": "code",
   "execution_count": 26,
   "metadata": {},
   "outputs": [
    {
     "name": "stdout",
     "output_type": "stream",
     "text": [
      "**SumOfSquares+Mosek:\n"
     ]
    },
    {
     "name": "stderr",
     "output_type": "stream",
     "text": [
      "WARNING: replacing module SpectralPOP.\n"
     ]
    },
    {
     "name": "stdout",
     "output_type": "stream",
     "text": [
      "OPTIMAL\n",
      "opt_val=-4.18773165964185\n",
      "  7.788120 seconds (2.86 M allocations: 326.184 MiB, 1.38% gc time)\n"
     ]
    },
    {
     "data": {
      "text/plain": [
       "-4.18773165964185"
      ]
     },
     "execution_count": 26,
     "metadata": {},
     "output_type": "execute_result"
    }
   ],
   "source": [
    "include(\"../src/SpectralPOP.jl\")\n",
    "using .SpectralPOP\n",
    "\n",
    "g=Vector{Polynomial{true,Float64}}([])\n",
    "\n",
    "opt_val = SpectralPOP.SumofSquares_POP(x,f,g,h,k)"
   ]
  },
  {
   "cell_type": "code",
   "execution_count": null,
   "metadata": {
    "scrolled": true
   },
   "outputs": [
    {
     "name": "stdout",
     "output_type": "stream",
     "text": [
      "**Constant trace property (CTP):\n",
      "**Convert moment relaxation to standard SDP:\n",
      "  Size of psd matrix: sk=231\n",
      "  Number of equality trace constraints: m=16402\n"
     ]
    },
    {
     "name": "stderr",
     "output_type": "stream",
     "text": [
      "WARNING: replacing module SpectralPOP.\n"
     ]
    },
    {
     "name": "stdout",
     "output_type": "stream",
     "text": [
      "  0.430306 seconds (1.23 M allocations: 217.468 MiB, 17.46% gc time)\n",
      "**LMBM solver:\n"
     ]
    }
   ],
   "source": [
    "include(\"../src/SpectralPOP.jl\")\n",
    "using .SpectralPOP\n",
    "\n",
    "\n",
    "opt_val,opt_sol = SpectralPOP.CTP_POP(x,f,h,k,R;method=\"LMBM\",EigAlg=\"Mix\",tol=1e-5,scale=true)"
   ]
  },
  {
   "cell_type": "code",
   "execution_count": 27,
   "metadata": {
    "scrolled": true
   },
   "outputs": [
    {
     "name": "stdout",
     "output_type": "stream",
     "text": [
      "**Constant trace property (CTP):\n",
      "**Convert moment relaxation to standard SDP:\n",
      "  Size of psd matrix: sk=136\n",
      "  Number of equality trace constraints: m=5577\n"
     ]
    },
    {
     "name": "stderr",
     "output_type": "stream",
     "text": [
      "WARNING: replacing module SpectralPOP.\n"
     ]
    },
    {
     "name": "stdout",
     "output_type": "stream",
     "text": [
      "  0.116676 seconds (431.38 k allocations: 64.606 MiB)\n",
      "**SketchyCGAL solver:\n",
      "- SketchyCGAL SDP Solver - Beta.V.0.0\n",
      "--------------------------\n",
      " iter=1 \n",
      " stopObj=0.2376927980007462 \n",
      " stopFeas=0.16223200234979113 \n",
      " primalObj=-0.2559991083872862 \n",
      "--------------------------\n",
      " iter=2 \n",
      " stopObj=0.47685387437887433 \n",
      " stopFeas=0.6800990800115694 \n",
      " primalObj=-0.19554405773475564 \n",
      "--------------------------\n",
      " iter=4 \n",
      " stopObj=0.4739288699543861 \n",
      " stopFeas=0.34037081249474177 \n",
      " primalObj=-0.11584752647705202 \n",
      "--------------------------\n",
      " iter=8 \n",
      " stopObj=0.28029978422992224 \n",
      " stopFeas=0.22899714648383032 \n",
      " primalObj=-0.11308317711946193 \n",
      "--------------------------\n",
      " iter=16 \n",
      " stopObj=0.16951964868006159 \n",
      " stopFeas=0.130197829028035 \n",
      " primalObj=-0.09576539690472191 \n",
      "--------------------------\n",
      " iter=32 \n",
      " stopObj=0.12556225563140333 \n",
      " stopFeas=0.07695650606317542 \n",
      " primalObj=-0.07342093593500088 \n",
      "--------------------------\n",
      " iter=64 \n",
      " stopObj=0.09364870681676443 \n",
      " stopFeas=0.036102528066376816 \n",
      " primalObj=-0.06260736487680409 \n",
      "--------------------------\n",
      " iter=128 \n",
      " stopObj=0.06711434394765875 \n",
      " stopFeas=0.019724621298107963 \n",
      " primalObj=-0.06228361341598291 \n",
      "--------------------------\n",
      " iter=256 \n",
      " stopObj=0.02201384486851149 \n",
      " stopFeas=0.006927834202553644 \n",
      " primalObj=-0.07721564725266122 \n",
      "--------------------------\n",
      " iter=512 \n",
      " stopObj=0.009504004338486888 \n",
      " stopFeas=0.002054670263616767 \n",
      " primalObj=-0.0900885839611494 \n",
      "* status = stopping criteria met\n",
      " 18.830464 seconds (1.97 M allocations: 11.833 GiB, 3.45% gc time)\n",
      "------------------------------------\n",
      "**Numerical result:\n",
      "====================================\n",
      "opt_val=-4.038821337418059\n",
      "====================================\n",
      "Rank of moment matrix = 136\n",
      "  0.000769 seconds (343 allocations: 891.031 KiB)\n",
      " 18.948917 seconds (2.41 M allocations: 11.897 GiB, 3.43% gc time)\n"
     ]
    },
    {
     "data": {
      "text/plain": [
       "(-4.038821337418059, Array{Float64,1}[])"
      ]
     },
     "execution_count": 27,
     "metadata": {},
     "output_type": "execute_result"
    }
   ],
   "source": [
    "include(\"../src/SpectralPOP.jl\")\n",
    "using .SpectralPOP\n",
    "\n",
    "\n",
    "opt_val,opt_sol = SpectralPOP.CTP_POP(x,f,h,k,R;method=\"SketchyCGAL\",EigAlg=\"Normal\",tol=1e-3,scale=true)"
   ]
  },
  {
   "cell_type": "code",
   "execution_count": null,
   "metadata": {},
   "outputs": [],
   "source": []
  },
  {
   "cell_type": "code",
   "execution_count": 29,
   "metadata": {},
   "outputs": [
    {
     "name": "stderr",
     "output_type": "stream",
     "text": [
      "WARNING: replacing module SpectralPOP.\n"
     ]
    }
   ],
   "source": [
    "include(\"../src/SpectralPOP.jl\")\n",
    "using .SpectralPOP\n",
    "\n",
    "g=Vector{Polynomial{true,Float64}}([])\n",
    "\n",
    "SpectralPOP.save_data(x,f,g,h,R)"
   ]
  },
  {
   "cell_type": "code",
   "execution_count": null,
   "metadata": {},
   "outputs": [],
   "source": []
  }
 ],
 "metadata": {
  "kernelspec": {
   "display_name": "Julia 1.3.0",
   "language": "julia",
   "name": "julia-1.3"
  },
  "language_info": {
   "file_extension": ".jl",
   "mimetype": "application/julia",
   "name": "julia",
   "version": "1.3.0"
  }
 },
 "nbformat": 4,
 "nbformat_minor": 2
}
