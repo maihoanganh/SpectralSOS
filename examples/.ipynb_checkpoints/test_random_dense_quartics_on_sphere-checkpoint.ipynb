{
 "cells": [
  {
   "cell_type": "code",
   "execution_count": 1,
   "metadata": {},
   "outputs": [
    {
     "name": "stdout",
     "output_type": "stream",
     "text": [
      "***Problem setting***\n",
      "Number of variable: n=2\n",
      "====================\n",
      "Number of equality constraints: l_h=1\n",
      "====================\n",
      "Relaxed order: k=2\n"
     ]
    }
   ],
   "source": [
    "using DynamicPolynomials\n",
    "\n",
    "println(\"***Problem setting***\")\n",
    "\n",
    "n=2\n",
    "#N=[5;10;15;20;25;30]\n",
    "\n",
    "#for n in N\n",
    "\n",
    "println(\"Number of variable: n=\",n)\n",
    "println(\"====================\")\n",
    "\n",
    "@polyvar x[1:n]# variables\n",
    "\n",
    "# random quadratic objective function f\n",
    "v=reverse(monomials(x,0:4))\n",
    "c=2*rand(Float64,length(v)).-1\n",
    "f=c'*v\n",
    "\n",
    "\n",
    "# unit sphere constraint\n",
    "R=1.0\n",
    "h=[R-sum(x.^2)] #type of coefficients of each polynomial must be float\n",
    "\n",
    "l_h=length(h)\n",
    "\n",
    "println(\"Number of equality constraints: l_h=\",l_h)\n",
    "println(\"====================\")\n",
    "\n",
    "k=Int64(2)\n",
    "\n",
    "println(\"Relaxed order: k=\",k)\n",
    "    \n",
    "\n",
    "    \n",
    "#end"
   ]
  },
  {
   "cell_type": "code",
   "execution_count": 2,
   "metadata": {},
   "outputs": [],
   "source": [
    "# using SparseArrays\n",
    "\n",
    "# include(\"../src/SpectralSOS.jl\")\n",
    "# using .SpectralSOS\n",
    "\n",
    "\n",
    "\n",
    "# include(\"../examples/densePOPsphere_deg4_var5_nineq0_neq1.jl\")\n",
    "\n",
    "# x,f,g,h=SpectralSOS.get_POP(n,m,l,lmon_g,supp_g,coe_g,lmon_h,supp_h,coe_h,lmon_f,supp_f,coe_f);\n",
    "\n",
    "\n",
    "# k=2"
   ]
  },
  {
   "cell_type": "code",
   "execution_count": 3,
   "metadata": {},
   "outputs": [
    {
     "name": "stdout",
     "output_type": "stream",
     "text": [
      "**SumOfSquares+Mosek:\n"
     ]
    },
    {
     "name": "stderr",
     "output_type": "stream",
     "text": [
      "WARNING: Compat.Printf is deprecated, use Printf instead.\n",
      "  likely near /home/hoanganh/Desktop/math-topics/SpectralPOP/codes/SpectralSOS/solvers/ProximalBundleMethod/ProximalMethod.jl:389\n"
     ]
    },
    {
     "name": "stdout",
     "output_type": "stream",
     "text": [
      "OPTIMAL\n",
      "opt_val=-2.4170259626667416\n",
      " 22.879881 seconds (37.51 M allocations: 1.859 GiB, 3.88% gc time)\n"
     ]
    },
    {
     "data": {
      "text/plain": [
       "-2.4170259626667416"
      ]
     },
     "execution_count": 3,
     "metadata": {},
     "output_type": "execute_result"
    }
   ],
   "source": [
    "include(\"../src/SpectralSOS.jl\")\n",
    "using .SpectralSOS\n",
    "\n",
    "g=Vector{Polynomial{true,Float64}}([])\n",
    "\n",
    "opt_val = SpectralSOS.SumofSquares_POP(x,f,g,h,k)"
   ]
  },
  {
   "cell_type": "code",
   "execution_count": 4,
   "metadata": {
    "scrolled": true
   },
   "outputs": [
    {
     "name": "stdout",
     "output_type": "stream",
     "text": [
      "**Constant trace property (CTP):\n",
      "**Convert moment relaxation to standard SDP:\n"
     ]
    },
    {
     "name": "stderr",
     "output_type": "stream",
     "text": [
      "WARNING: replacing module SpectralSOS.\n",
      "WARNING: Compat.Printf is deprecated, use Printf instead.\n",
      "  likely near /home/hoanganh/Desktop/math-topics/SpectralPOP/codes/SpectralSOS/solvers/ProximalBundleMethod/ProximalMethod.jl:389\n",
      "WARNING: Compat.norm is deprecated, use LinearAlgebra.norm instead.\n",
      "  likely near /home/hoanganh/.julia/packages/IJulia/a1SNk/src/kernel.jl:53\n"
     ]
    },
    {
     "name": "stdout",
     "output_type": "stream",
     "text": [
      "  Size of psd matrix: sk=6\n",
      "  Number of equality trace constraints: m=13\n",
      "  3.513790 seconds (5.16 M allocations: 254.431 MiB, 3.63% gc time)\n",
      "**LMBM solver:\n",
      "---------------\n",
      "| Parameters: |\n",
      "---------------\n",
      "n:       13\n",
      "maxtime: 300000.000000\n",
      "na:      2\n",
      "mcu:     5\n",
      "mc:      7\n",
      "rpar: \n",
      "ipar: \n",
      "-----------\n",
      "| Output: |\n",
      "-----------\n",
      "Termination:     1\n",
      "N. iter.:        14\n",
      "N. func. eval.:  14\n",
      "Final value:     0.433940\n",
      "Execution time:  0.468079\n",
      "  3.188110 seconds (1.30 M allocations: 69.282 MiB, 1.15% gc time)\n",
      "------------------------------------\n",
      "**Numerical result:\n",
      "====================================\n",
      "opt_val=-2.417026031790551\n",
      "====================================\n",
      "Dimension of the null space of Gram matrix = 1\n",
      "------------------------------------\n",
      "atom 1 = [-0.3617653173437061, 0.9320317302125525]\n",
      "  check gap of lower bound  = 0.000571941529238007\n",
      "  check equality constraint 1 = 0.0004427090442034043\n",
      "####################################\n",
      "Optimal solution: opt_sol = [-0.3617653173437061, 0.9320317302125525]\n",
      "####################################\n",
      "  0.516538 seconds (853.70 k allocations: 41.955 MiB)\n",
      "  7.219133 seconds (7.32 M allocations: 365.702 MiB, 2.28% gc time)\n"
     ]
    },
    {
     "data": {
      "text/plain": [
       "(-2.417026031790551, [-0.3617653173437061, 0.9320317302125525])"
      ]
     },
     "execution_count": 4,
     "metadata": {},
     "output_type": "execute_result"
    }
   ],
   "source": [
    "include(\"../src/SpectralSOS.jl\")\n",
    "using .SpectralSOS\n",
    "\n",
    "\n",
    "opt_val,opt_sol = SpectralSOS.CTP_POP(x,f,h,k,R;method=\"LMBM\",EigAlg=\"Mix\",tol=1e-5,scale=true)"
   ]
  },
  {
   "cell_type": "code",
   "execution_count": 5,
   "metadata": {
    "scrolled": true
   },
   "outputs": [
    {
     "name": "stdout",
     "output_type": "stream",
     "text": [
      "**Constant trace property (CTP):\n",
      "**Convert moment relaxation to standard SDP:\n",
      "  Size of psd matrix: sk=6\n",
      "  Number of equality trace constraints: m=13\n",
      "  0.042016 seconds (51.41 k allocations: 2.589 MiB)\n"
     ]
    },
    {
     "name": "stderr",
     "output_type": "stream",
     "text": [
      "WARNING: replacing module SpectralSOS.\n",
      "WARNING: Compat.Printf is deprecated, use Printf instead.\n",
      "  likely near /home/hoanganh/Desktop/math-topics/SpectralPOP/codes/SpectralSOS/solvers/ProximalBundleMethod/ProximalMethod.jl:389\n",
      "WARNING: Compat.norm is deprecated, use LinearAlgebra.norm instead.\n",
      "  likely near /home/hoanganh/.julia/packages/IJulia/a1SNk/src/kernel.jl:53\n"
     ]
    },
    {
     "name": "stdout",
     "output_type": "stream",
     "text": [
      "**SketchyCGAL solver:\n",
      "- SketchyCGAL SDP Solver - Beta.V.0.0\n",
      "--------------------------\n",
      " iter=1 \n",
      " stopObj=0.42749973042430045 \n",
      " stopFeas=0.1759025720071811 \n",
      " primalObj=-0.3986322471461267 \n",
      "--------------------------\n",
      " iter=2 \n",
      " stopObj=1.1823761962384327 \n",
      " stopFeas=0.6985246813488619 \n",
      " primalObj=-0.35113979237435256 \n",
      "--------------------------\n",
      " iter=4 \n",
      " stopObj=0.6417047788262269 \n",
      " stopFeas=0.3786584842860159 \n",
      " primalObj=-0.36209239931053705 \n",
      "--------------------------\n",
      " iter=8 \n",
      " stopObj=0.05125736741039849 \n",
      " stopFeas=0.19758883444100783 \n",
      " primalObj=-0.34549114329519803 \n",
      "--------------------------\n",
      " iter=16 \n",
      " stopObj=0.154618303058073 \n",
      " stopFeas=0.05213314976626092 \n",
      " primalObj=-0.3503613198503128 \n",
      "--------------------------\n",
      " iter=32 \n",
      " stopObj=0.03392989841054328 \n",
      " stopFeas=0.016766439930661313 \n",
      " primalObj=-0.3814509685413702 \n",
      "--------------------------\n",
      " iter=64 \n",
      " stopObj=0.031328962724114395 \n",
      " stopFeas=0.014830492815965254 \n",
      " primalObj=-0.4051153040122829 \n",
      "--------------------------\n",
      " iter=128 \n",
      " stopObj=0.01141374718675875 \n",
      " stopFeas=0.00277144997818782 \n",
      " primalObj=-0.4226733529198326 \n",
      "--------------------------\n",
      " iter=256 \n",
      " stopObj=0.010930368206359453 \n",
      " stopFeas=0.0020866101797525996 \n",
      " primalObj=-0.42286000286274966 \n",
      "--------------------------\n",
      " iter=512 \n",
      " stopObj=0.007907326629992661 \n",
      " stopFeas=0.0010570874632061507 \n",
      " primalObj=-0.42521368023321177 \n",
      "* status = stopping criteria met\n",
      "  2.748490 seconds (4.42 M allocations: 224.982 MiB, 3.81% gc time)\n",
      "------------------------------------\n",
      "**Numerical result:\n",
      "====================================\n",
      "opt_val=-2.3684224366176223\n",
      "====================================\n",
      "Rank of moment matrix = 6\n",
      "  0.003683 seconds (409 allocations: 24.391 KiB)\n",
      "  2.799759 seconds (4.47 M allocations: 227.658 MiB, 3.74% gc time)\n"
     ]
    },
    {
     "data": {
      "text/plain": [
       "(-2.3684224366176223, Array{Float64,1}[])"
      ]
     },
     "execution_count": 5,
     "metadata": {},
     "output_type": "execute_result"
    }
   ],
   "source": [
    "include(\"../src/SpectralSOS.jl\")\n",
    "using .SpectralSOS\n",
    "\n",
    "\n",
    "opt_val,opt_sol = SpectralSOS.CTP_POP(x,f,h,k,R;method=\"SketchyCGAL\",EigAlg=\"Normal\",tol=1e-3,scale=true)"
   ]
  },
  {
   "cell_type": "code",
   "execution_count": null,
   "metadata": {},
   "outputs": [],
   "source": []
  },
  {
   "cell_type": "code",
   "execution_count": 6,
   "metadata": {},
   "outputs": [
    {
     "name": "stderr",
     "output_type": "stream",
     "text": [
      "WARNING: replacing module SpectralSOS.\n",
      "WARNING: Compat.Printf is deprecated, use Printf instead.\n",
      "  likely near /home/hoanganh/Desktop/math-topics/SpectralPOP/codes/SpectralSOS/solvers/ProximalBundleMethod/ProximalMethod.jl:389\n"
     ]
    }
   ],
   "source": [
    "include(\"../src/SpectralSOS.jl\")\n",
    "using .SpectralSOS\n",
    "\n",
    "g=Vector{Polynomial{true,Float64}}([])\n",
    "\n",
    "SpectralSOS.save_data(x,f,g,h,R)"
   ]
  },
  {
   "cell_type": "code",
   "execution_count": null,
   "metadata": {},
   "outputs": [],
   "source": []
  }
 ],
 "metadata": {
  "kernelspec": {
   "display_name": "Julia 1.3.0",
   "language": "julia",
   "name": "julia-1.3"
  },
  "language_info": {
   "file_extension": ".jl",
   "mimetype": "application/julia",
   "name": "julia",
   "version": "1.3.0"
  }
 },
 "nbformat": 4,
 "nbformat_minor": 2
}
