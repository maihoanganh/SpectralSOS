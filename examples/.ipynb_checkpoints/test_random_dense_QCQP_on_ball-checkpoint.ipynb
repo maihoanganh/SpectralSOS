{
 "cells": [
  {
   "cell_type": "code",
   "execution_count": 1,
   "metadata": {},
   "outputs": [
    {
     "name": "stdout",
     "output_type": "stream",
     "text": [
      "***Problem setting***\n",
      "Number of variable: n=2\n",
      "====================\n",
      "Number of inequality constraints: l_g=1\n",
      "====================\n",
      "Number of equality constraints: l_h=1\n",
      "====================\n",
      "Relaxed order: k=2\n"
     ]
    }
   ],
   "source": [
    "using DynamicPolynomials\n",
    "\n",
    "println(\"***Problem setting***\")\n",
    "\n",
    "\n",
    "\n",
    "n=2\n",
    "# N=[10;15;20;25;30;35]\n",
    "\n",
    "# for n in N\n",
    "l_g=ceil(Int32, n/8)\n",
    "l_h=ceil(Int32, n/8)\n",
    "\n",
    "println(\"Number of variable: n=\",n)\n",
    "println(\"====================\")\n",
    "\n",
    "@polyvar x[1:n]# variables\n",
    "\n",
    "\n",
    "\n",
    "# random quadratic objective function f\n",
    "v=reverse(monomials(x,0:2))\n",
    "c=2*rand(Float64,length(v)).-1\n",
    "f=c'*v\n",
    "\n",
    "\n",
    "# unit sphere constraint\n",
    "R=1.0\n",
    "g=[R-sum(x.^2)] #type of coefficients of each polynomial must be float\n",
    "\n",
    "\n",
    "\n",
    "# random quadratic equality constraints\n",
    "randx=2*rand(n).-1# create a feasible solution\n",
    "randx=randx./sqrt(sum(randx.^2))\n",
    "randx=randx.*rand(1)\n",
    "\n",
    "for j in 1:l_g-1\n",
    "    a=2*rand(Float64,length(v[2:end])).-1\n",
    "    push!(g,a'*v[2:end])\n",
    "    g[end]-=g[end](x => randx)#make constraints feasible\n",
    "    g[end]+=rand(1)[1]\n",
    "end\n",
    "#g=Polynomial{true,Float64}[]\n",
    "l_g=length(g)\n",
    "println(\"Number of inequality constraints: l_g=\",l_g)\n",
    "println(\"====================\")\n",
    "\n",
    "h=Polynomial{true,Float64}[]\n",
    "for j in 1:l_h\n",
    "    a=2*rand(Float64,length(v[2:end])).-1\n",
    "    push!(h,a'*v[2:end])\n",
    "    h[end]-=h[end](x => randx) #make constraints feasible\n",
    "end\n",
    "l_h=length(h)\n",
    "\n",
    "println(\"Number of equality constraints: l_h=\",l_h)\n",
    "println(\"====================\")\n",
    "\n",
    "k=2\n",
    "\n",
    "println(\"Relaxed order: k=\",k)\n",
    "    \n",
    "    \n",
    "# include(\"../src/SpectralSOS.jl\")\n",
    "# using .SpectralSOS\n",
    "\n",
    "# SpectralSOS.save_data(x,f,g,h,R)\n",
    "    \n",
    "# end"
   ]
  },
  {
   "cell_type": "code",
   "execution_count": 2,
   "metadata": {},
   "outputs": [],
   "source": [
    "# using SparseArrays, DynamicPolynomials\n",
    "\n",
    "# include(\"../src/SpectralSOS.jl\")\n",
    "# using .SpectralSOS\n",
    "\n",
    "\n",
    "\n",
    "# include(\"../examples/densePOPsphere_deg2_var10_nineq2_neq2.jl\")\n",
    "\n",
    "# x,f,g,h=SpectralSOS.get_POP(n,m,l,lmon_g,supp_g,coe_g,lmon_h,supp_h,coe_h,lmon_f,supp_f,coe_f);\n",
    "\n",
    "\n",
    "# k=2"
   ]
  },
  {
   "cell_type": "code",
   "execution_count": 3,
   "metadata": {},
   "outputs": [
    {
     "name": "stdout",
     "output_type": "stream",
     "text": [
      "**SumOfSquares+Mosek:\n"
     ]
    },
    {
     "name": "stderr",
     "output_type": "stream",
     "text": [
      "WARNING: Compat.Printf is deprecated, use Printf instead.\n",
      "  likely near /home/hoanganh/Desktop/math-topics/SpectralPOP/codes/SpectralSOS/solvers/ProximalBundleMethod/ProximalMethod.jl:389\n"
     ]
    },
    {
     "name": "stdout",
     "output_type": "stream",
     "text": [
      "OPTIMAL\n",
      "opt_val=0.3858272886713175\n",
      " 22.758191 seconds (37.69 M allocations: 1.868 GiB, 5.32% gc time)\n"
     ]
    },
    {
     "data": {
      "text/plain": [
       "0.3858272886713175"
      ]
     },
     "execution_count": 3,
     "metadata": {},
     "output_type": "execute_result"
    }
   ],
   "source": [
    "include(\"../src/SpectralSOS.jl\")\n",
    "using .SpectralSOS\n",
    "\n",
    "opt_val = SpectralSOS.SumofSquares_POP(x,f,g,h,k)"
   ]
  },
  {
   "cell_type": "code",
   "execution_count": 4,
   "metadata": {},
   "outputs": [
    {
     "name": "stdout",
     "output_type": "stream",
     "text": [
      "**Conpute upper bound 1\n",
      "**Constant trace property (CTP):"
     ]
    },
    {
     "name": "stderr",
     "output_type": "stream",
     "text": [
      "WARNING: replacing module SpectralSOS.\n",
      "WARNING: Compat.Printf is deprecated, use Printf instead.\n",
      "  likely near /home/hoanganh/Desktop/math-topics/SpectralPOP/codes/SpectralSOS/solvers/ProximalBundleMethod/ProximalMethod.jl:389\n",
      "WARNING: Compat.norm is deprecated, use LinearAlgebra.norm instead.\n",
      "  likely near /home/hoanganh/.julia/packages/IJulia/a1SNk/src/kernel.jl:53\n"
     ]
    },
    {
     "name": "stdout",
     "output_type": "stream",
     "text": [
      "\n",
      "**Convert moment relaxation to standard SDP:\n",
      "  Size of psd matrix: sk=10\n",
      "  Number of equality trace constraints: m=41\n",
      "  3.635566 seconds (5.16 M allocations: 254.128 MiB, 3.55% gc time)\n",
      "**LMBM solver:\n",
      "---------------\n",
      "| Parameters: |\n",
      "---------------\n",
      "n:       41\n",
      "maxtime: 300000.000000\n",
      "na:      2\n",
      "mcu:     5\n",
      "mc:      7\n",
      "rpar: \n",
      "ipar: \n",
      "-----------\n",
      "| Output: |\n",
      "-----------\n",
      "Termination:     1\n",
      "N. iter.:        77\n",
      "N. func. eval.:  173\n",
      "Final value:     0.186644\n",
      "Execution time:  0.357704\n",
      "  2.321828 seconds (1.29 M allocations: 69.316 MiB, 2.07% gc time)\n",
      "------------------------------------\n",
      "**Numerical result:\n",
      "====================================\n",
      "opt_val=-0.9143633957358852\n",
      "====================================\n",
      "Dimension of the null space of Gram matrix = 2\n",
      "------------------------------------\n",
      "atom 1 = [0.21754156444941705, 0.19064281326962237, -0.9581067898947042]\n",
      "  check gap of lower bound  = 0.001967589749658827\n",
      "  check equality constraint 1 = 0.0016631500482460482\n",
      "  check equality constraint 2 = 0.0016376353567908453\n",
      "####################################\n",
      "Optimal solution: opt_sol = [0.21754156444941705, 0.19064281326962237, -0.9581067898947042]\n",
      "####################################\n",
      "------------------------------------\n",
      "atom 2 = [0.21747488347461424, 0.19039832775786913, 0.9576979269650683]\n",
      "  check gap of lower bound  = 0.0020897561088247807\n",
      "  check equality constraint 1 = 0.0017658387900726935\n",
      "  check equality constraint 2 = 0.0007321674684792612\n",
      "####################################\n",
      "Optimal solution: opt_sol = [0.21747488347461424, 0.19039832775786913, 0.9576979269650683]\n",
      "####################################\n",
      "  0.441820 seconds (525.70 k allocations: 25.940 MiB)\n",
      "  6.399898 seconds (6.97 M allocations: 349.416 MiB, 2.77% gc time)\n",
      "--------------------------\n",
      "  Radius of big ball: R_bar=1.9143633957358852\n",
      "**Constant trace property (CTP):\n",
      "**Convert moment relaxation to standard SDP:\n",
      "  Size of psd matrix: sk=15\n",
      "  Number of equality trace constraints: m=96\n",
      "  0.000817 seconds (5.03 k allocations: 497.156 KiB)\n",
      "**LMBM solver:\n",
      "---------------\n",
      "| Parameters: |\n",
      "---------------\n",
      "n:       96\n",
      "maxtime: 300000.000000\n",
      "na:      2\n",
      "mcu:     5\n",
      "mc:      7\n",
      "rpar: \n",
      "ipar: \n",
      "-----------\n",
      "| Output: |\n",
      "-----------\n",
      "Termination:     3\n",
      "N. iter.:        368\n",
      "N. func. eval.:  1287\n",
      "Final value:     -0.043508\n",
      "Execution time:  0.189178\n",
      "  0.194147 seconds (230.92 k allocations: 24.378 MiB)\n",
      "------------------------------------\n",
      "**Numerical result:\n",
      "====================================\n",
      "opt_val=0.3695318462564311\n",
      "====================================\n",
      "Dimension of the null space of Gram matrix = 3\n",
      "------------------------------------\n",
      "atom 1 = [0.15011954032950647, 0.16173244712697815, -0.5969696997075487, -9.237153362758837]\n",
      "  check gap of lower bound  = 0.10268835663796366\n",
      "  check equality constraint 1 = 0.036667855672358765\n",
      "  check equality constraint 2 = 0.594933916788656\n",
      "  check equality constraint 3 = 83.81570493460235\n",
      "------------------------------------\n",
      "atom 2 = [0.13411065983992454, 0.1581404328740376, 0.42201558274638107, -0.5200788033568353]\n",
      "  check gap of lower bound  = 0.1270186320188778\n",
      "  check equality constraint 1 = 0.04436310266291414\n",
      "  check equality constraint 2 = 0.7789087823269445\n",
      "  check equality constraint 3 = 1.4227902163617518\n",
      "------------------------------------\n",
      "atom 3 = [-0.9943678423585419, -3.2835035207553416, -0.2971290640024443, 6.365980254981962]\n",
      "  check gap of lower bound  = 11.301713448054466\n",
      "  check equality constraint 1 = 3.6892865847164154\n",
      "  check equality constraint 2 = 10.858448457404474\n",
      "  check equality constraint 3 = 50.469789668488794\n",
      "  0.230339 seconds (363.07 k allocations: 18.243 MiB, 26.16% gc time)\n",
      "  0.425722 seconds (600.02 k allocations: 43.128 MiB, 14.16% gc time)\n",
      "  7.244521 seconds (8.03 M allocations: 415.610 MiB, 3.28% gc time)\n"
     ]
    },
    {
     "data": {
      "text/plain": [
       "(0.3695318462564311, Array{Float64,1}[])"
      ]
     },
     "execution_count": 4,
     "metadata": {},
     "output_type": "execute_result"
    }
   ],
   "source": [
    "include(\"../src/SpectralSOS.jl\")\n",
    "using .SpectralSOS  \n",
    "\n",
    "opt_val,opt_sol = SpectralSOS.CTP_POP_on_Ball(x,f,g,h,k,R,EigAlg=\"Mix\",scale=true)"
   ]
  },
  {
   "cell_type": "code",
   "execution_count": 5,
   "metadata": {},
   "outputs": [
    {
     "name": "stdout",
     "output_type": "stream",
     "text": [
      "**Bounded trace property (BTP):\n",
      "  Largest upper bound of psd matrix: bound_ak=15.0\n",
      "  Number of blocks: numBloc=3\n",
      "  Size of block-diagonal matrix: s=10\n",
      "  Size of blocks: "
     ]
    },
    {
     "name": "stderr",
     "output_type": "stream",
     "text": [
      "WARNING: replacing module SpectralSOS.\n",
      "WARNING: Compat.Printf is deprecated, use Printf instead.\n",
      "  likely near /home/hoanganh/Desktop/math-topics/SpectralPOP/codes/SpectralSOS/solvers/ProximalBundleMethod/ProximalMethod.jl:389\n"
     ]
    },
    {
     "name": "stdout",
     "output_type": "stream",
     "text": [
      "[6, 3, 1]\n",
      "  Number of equality trace constraints: m=19\n",
      "  0.798077 seconds (1.06 M allocations: 52.774 MiB, 3.56% gc time)\n",
      "***LMBM solver:***\n",
      "---------------\n",
      "| Parameters: |\n",
      "---------------\n",
      "n:       19\n",
      "maxtime: 300000.000000\n",
      "na:      2\n",
      "mcu:     5\n",
      "mc:      7\n",
      "rpar: \n",
      "ipar: \n",
      "-----------\n",
      "| Output: |\n",
      "-----------\n",
      "Termination:     3\n",
      "N. iter.:        466\n",
      "N. func. eval.:  1152\n",
      "Final value:     -0.015635\n",
      "Execution time:  0.758148\n",
      "####################################\n",
      "opt_val = 0.30431621428112327\n",
      "####################################\n",
      "Dimension of the null space of Gram matrix = 1\n",
      "------------------------------------\n",
      "atom 1 = [0.0051439386904004476, 0.10037678718020229]\n",
      "  check gap of lower bound  = -0.25609553961753134\n",
      "  check inequality constraint 1 = 0.9898980404901297\n",
      "  check equality constraint 1 = -0.11910164678262676\n",
      "  2.188918 seconds (3.13 M allocations: 163.195 MiB, 3.80% gc time)\n"
     ]
    },
    {
     "data": {
      "text/plain": [
       "(0.30431621428112327, Array{Float64,1}[])"
      ]
     },
     "execution_count": 5,
     "metadata": {},
     "output_type": "execute_result"
    }
   ],
   "source": [
    "include(\"../src/SpectralSOS.jl\")\n",
    "using .SpectralSOS\n",
    "\n",
    "opt_val,opt_sol = SpectralSOS.BTP_POP(x,f,g,h,k,R,EigAlg=\"Mix\",scale=true)"
   ]
  },
  {
   "cell_type": "code",
   "execution_count": null,
   "metadata": {},
   "outputs": [],
   "source": []
  },
  {
   "cell_type": "code",
   "execution_count": null,
   "metadata": {},
   "outputs": [],
   "source": [
    "include(\"../src/SpectralSOS.jl\")\n",
    "using .SpectralSOS\n",
    "\n",
    "SpectralSOS.save_data(x,f,g,h,R)"
   ]
  },
  {
   "cell_type": "code",
   "execution_count": null,
   "metadata": {},
   "outputs": [],
   "source": []
  }
 ],
 "metadata": {
  "kernelspec": {
   "display_name": "Julia 1.3.0",
   "language": "julia",
   "name": "julia-1.3"
  },
  "language_info": {
   "file_extension": ".jl",
   "mimetype": "application/julia",
   "name": "julia",
   "version": "1.3.0"
  }
 },
 "nbformat": 4,
 "nbformat_minor": 2
}
