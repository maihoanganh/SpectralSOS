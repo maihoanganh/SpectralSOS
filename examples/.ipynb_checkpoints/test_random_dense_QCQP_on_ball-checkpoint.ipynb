{
 "cells": [
  {
   "cell_type": "code",
   "execution_count": null,
   "metadata": {},
   "outputs": [],
   "source": [
    "using DynamicPolynomials\n",
    "\n",
    "println(\"***Problem setting***\")\n",
    "\n",
    "\n",
    "\n",
    "n=25\n",
    "# N=[10;15;20;25;30;35]\n",
    "\n",
    "# for n in N\n",
    "l_g=ceil(Int32, n/8)\n",
    "l_h=ceil(Int32, n/8)\n",
    "\n",
    "println(\"Number of variable: n=\",n)\n",
    "println(\"====================\")\n",
    "\n",
    "@polyvar x[1:n]# variables\n",
    "\n",
    "\n",
    "\n",
    "# random quadratic objective function f\n",
    "v=reverse(monomials(x,0:2))\n",
    "c=2*rand(Float64,length(v)).-1\n",
    "f=c'*v\n",
    "\n",
    "\n",
    "# unit sphere constraint\n",
    "R=1.0\n",
    "g=[R-sum(x.^2)] #type of coefficients of each polynomial must be float\n",
    "\n",
    "\n",
    "\n",
    "# random quadratic equality constraints\n",
    "randx=2*rand(n).-1# create a feasible solution\n",
    "randx=randx./sqrt(sum(randx.^2))\n",
    "randx=randx.*rand(1)\n",
    "\n",
    "for j in 1:l_g-1\n",
    "    a=2*rand(Float64,length(v[2:end])).-1\n",
    "    push!(g,a'*v[2:end])\n",
    "    g[end]-=g[end](x => randx)#make constraints feasible\n",
    "    g[end]+=rand(1)[1]\n",
    "end\n",
    "#g=Polynomial{true,Float64}[]\n",
    "l_g=length(g)\n",
    "println(\"Number of inequality constraints: l_g=\",l_g)\n",
    "println(\"====================\")\n",
    "\n",
    "h=Polynomial{true,Float64}[]\n",
    "for j in 1:l_h\n",
    "    a=2*rand(Float64,length(v[2:end])).-1\n",
    "    push!(h,a'*v[2:end])\n",
    "    h[end]-=h[end](x => randx) #make constraints feasible\n",
    "end\n",
    "l_h=length(h)\n",
    "\n",
    "println(\"Number of equality constraints: l_h=\",l_h)\n",
    "println(\"====================\")\n",
    "\n",
    "k=2\n",
    "\n",
    "println(\"Relaxed order: k=\",k)\n",
    "    \n",
    "    \n",
    "# include(\"../src/SpectralPOP.jl\")\n",
    "# using .SpectralPOP\n",
    "\n",
    "# SpectralPOP.save_data(x,f,g,h,R)\n",
    "    \n",
    "# end"
   ]
  },
  {
   "cell_type": "code",
   "execution_count": null,
   "metadata": {},
   "outputs": [],
   "source": [
    "# using SparseArrays, DynamicPolynomials\n",
    "\n",
    "# include(\"../src/SpectralPOP.jl\")\n",
    "# using .SpectralPOP\n",
    "\n",
    "\n",
    "\n",
    "# include(\"../examples/densePOPsphere_deg2_var10_nineq2_neq2.jl\")\n",
    "\n",
    "# x,f,g,h=SpectralPOP.get_POP(n,m,l,lmon_g,supp_g,coe_g,lmon_h,supp_h,coe_h,lmon_f,supp_f,coe_f);\n",
    "\n",
    "\n",
    "# k=2"
   ]
  },
  {
   "cell_type": "code",
   "execution_count": null,
   "metadata": {},
   "outputs": [],
   "source": [
    "include(\"../src/SpectralPOP.jl\")\n",
    "using .SpectralPOP\n",
    "\n",
    "opt_val = SpectralPOP.SumofSquares_POP(x,f,g,h,k)"
   ]
  },
  {
   "cell_type": "code",
   "execution_count": null,
   "metadata": {},
   "outputs": [],
   "source": [
    "include(\"../src/SpectralPOP.jl\")\n",
    "using .SpectralPOP    \n",
    "\n",
    "opt_val,opt_sol = SpectralPOP.CTP_POP_on_Ball(x,f,g,h,k,R,EigAlg=\"Mix\",scale=true)"
   ]
  },
  {
   "cell_type": "code",
   "execution_count": null,
   "metadata": {},
   "outputs": [],
   "source": [
    "include(\"../src/SpectralPOP.jl\")\n",
    "using .SpectralPOP\n",
    "\n",
    "opt_val,opt_sol = SpectralPOP.BTP_POP(x,f,g,h,k,R,EigAlg=\"Mix\",scale=true)"
   ]
  },
  {
   "cell_type": "code",
   "execution_count": null,
   "metadata": {},
   "outputs": [],
   "source": []
  },
  {
   "cell_type": "code",
   "execution_count": 19,
   "metadata": {},
   "outputs": [
    {
     "name": "stderr",
     "output_type": "stream",
     "text": [
      "WARNING: replacing module SpectralPOP.\n"
     ]
    },
    {
     "ename": "LoadError",
     "evalue": "LoadError: InterruptException:\nin expression starting at /home/hoanganh/Desktop/math-topics/SpectralPOP/codes/SpectralPOP/solvers/ProximalBundleMethod/ProximalMethod.jl:0",
     "output_type": "error",
     "traceback": [
      "LoadError: InterruptException:\nin expression starting at /home/hoanganh/Desktop/math-topics/SpectralPOP/codes/SpectralPOP/solvers/ProximalBundleMethod/ProximalMethod.jl:0",
      "",
      "Stacktrace:",
      " [1] include at ./boot.jl:328 [inlined]",
      " [2] include_relative(::Module, ::String) at ./loading.jl:1105",
      " [3] include at ./Base.jl:31 [inlined]",
      " [4] include(::String) at /home/hoanganh/Desktop/math-topics/SpectralPOP/codes/SpectralPOP/src/SpectralPOP.jl:1",
      " [5] top-level scope at /home/hoanganh/Desktop/math-topics/SpectralPOP/codes/SpectralPOP/src/SpectralPOP.jl:14",
      " [6] include at ./boot.jl:328 [inlined]",
      " [7] include_relative(::Module, ::String) at ./loading.jl:1105",
      " [8] include(::Module, ::String) at ./Base.jl:31",
      " [9] include(::String) at ./client.jl:424",
      " [10] top-level scope at In[19]:1"
     ]
    }
   ],
   "source": [
    "include(\"../src/SpectralPOP.jl\")\n",
    "using .SpectralPOP\n",
    "\n",
    "SpectralPOP.save_data(x,f,g,h,R)"
   ]
  },
  {
   "cell_type": "code",
   "execution_count": null,
   "metadata": {},
   "outputs": [],
   "source": []
  }
 ],
 "metadata": {
  "kernelspec": {
   "display_name": "Julia 1.3.0",
   "language": "julia",
   "name": "julia-1.3"
  },
  "language_info": {
   "file_extension": ".jl",
   "mimetype": "application/julia",
   "name": "julia",
   "version": "1.3.0"
  }
 },
 "nbformat": 4,
 "nbformat_minor": 2
}
