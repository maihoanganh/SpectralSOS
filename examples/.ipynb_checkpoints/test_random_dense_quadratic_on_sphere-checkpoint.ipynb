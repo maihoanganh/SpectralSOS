{
 "cells": [
  {
   "cell_type": "markdown",
   "metadata": {},
   "source": [
    "The following codes is to set up random problem:"
   ]
  },
  {
   "cell_type": "code",
   "execution_count": 67,
   "metadata": {},
   "outputs": [
    {
     "name": "stdout",
     "output_type": "stream",
     "text": [
      "***Problem setting***\n",
      "Number of variable: n=50\n",
      "====================\n",
      "Number of equality constraints: l=1\n",
      "====================\n",
      "Relaxed order: k=1\n",
      "Number of variable: n=75\n",
      "====================\n",
      "Number of equality constraints: l=1\n",
      "====================\n",
      "Relaxed order: k=1\n",
      "Number of variable: n=100\n",
      "====================\n",
      "Number of equality constraints: l=1\n",
      "====================\n",
      "Relaxed order: k=1\n",
      "Number of variable: n=125\n",
      "====================\n",
      "Number of equality constraints: l=1\n",
      "====================\n",
      "Relaxed order: k=1\n",
      "Number of variable: n=150\n",
      "====================\n",
      "Number of equality constraints: l=1\n",
      "====================\n",
      "Relaxed order: k=1\n",
      "Number of variable: n=175\n",
      "====================\n",
      "Number of equality constraints: l=1\n",
      "====================\n",
      "Relaxed order: k=1\n",
      "Number of variable: n=200\n",
      "====================\n",
      "Number of equality constraints: l=1\n",
      "====================\n",
      "Relaxed order: k=1\n",
      "Number of variable: n=250\n",
      "====================\n",
      "Number of equality constraints: l=1\n",
      "====================\n",
      "Relaxed order: k=1\n",
      "Number of variable: n=300\n",
      "====================\n",
      "Number of equality constraints: l=1\n",
      "====================\n",
      "Relaxed order: k=1\n",
      "Number of variable: n=350\n",
      "====================\n",
      "Number of equality constraints: l=1\n",
      "====================\n",
      "Relaxed order: k=1\n",
      "Number of variable: n=400\n",
      "====================\n",
      "Number of equality constraints: l=1\n",
      "====================\n",
      "Relaxed order: k=1\n",
      "Number of variable: n=500\n",
      "====================\n",
      "Number of equality constraints: l=1\n",
      "====================\n",
      "Relaxed order: k=1\n",
      "Number of variable: n=700\n",
      "====================\n",
      "Number of equality constraints: l=1\n",
      "====================\n",
      "Relaxed order: k=1\n",
      "Number of variable: n=900\n",
      "====================\n",
      "Number of equality constraints: l=1\n",
      "====================\n",
      "Relaxed order: k=1\n",
      "Number of variable: n=1200\n",
      "====================\n",
      "Number of equality constraints: l=1\n",
      "====================\n",
      "Relaxed order: k=1\n",
      "Number of variable: n=1500\n",
      "====================\n",
      "Number of equality constraints: l=1\n",
      "====================\n",
      "Relaxed order: k=1\n"
     ]
    },
    {
     "name": "stderr",
     "output_type": "stream",
     "text": [
      "WARNING: replacing module SpectralPOP.\n",
      "WARNING: replacing module SpectralPOP.\n",
      "WARNING: replacing module SpectralPOP.\n",
      "WARNING: replacing module SpectralPOP.\n",
      "WARNING: replacing module SpectralPOP.\n",
      "WARNING: replacing module SpectralPOP.\n",
      "WARNING: replacing module SpectralPOP.\n",
      "WARNING: replacing module SpectralPOP.\n",
      "WARNING: replacing module SpectralPOP.\n",
      "WARNING: replacing module SpectralPOP.\n",
      "WARNING: replacing module SpectralPOP.\n",
      "WARNING: replacing module SpectralPOP.\n",
      "WARNING: replacing module SpectralPOP.\n",
      "WARNING: replacing module SpectralPOP.\n",
      "WARNING: replacing module SpectralPOP.\n",
      "WARNING: replacing module SpectralPOP.\n"
     ]
    }
   ],
   "source": [
    "using DynamicPolynomials\n",
    "\n",
    "println(\"***Problem setting***\")\n",
    "\n",
    "n=50\n",
    "\n",
    "\n",
    "println(\"Number of variable: n=\",n)\n",
    "println(\"====================\")\n",
    "\n",
    "@polyvar x[1:n] #variables\n",
    "\n",
    "\n",
    "v=reverse(monomials(x,0:2))\n",
    "c=2*rand(Float64,length(v)).-1\n",
    "f= c'*v #objective function\n",
    "\n",
    "\n",
    "\n",
    "R=1.0\n",
    "h=[R-sum(x.^2)] #sphere constraints\n",
    "\n",
    "l=length(h)\n",
    "\n",
    "println(\"Number of equality constraints: l=\",l)\n",
    "println(\"====================\")\n",
    "\n",
    "k=1 # relaxed order\n",
    "\n",
    "println(\"Relaxed order: k=\",k)\n",
    "\n",
    "\n",
    "# include(\"../src/SpectralPOP.jl\")\n",
    "# using .SpectralPOP\n",
    "\n",
    "# g=Vector{Polynomial{true,Float64}}([])\n",
    "\n",
    "# SpectralPOP.save_data(x,f,g,h,R)\n",
    "\n"
   ]
  },
  {
   "cell_type": "code",
   "execution_count": 65,
   "metadata": {},
   "outputs": [
    {
     "name": "stderr",
     "output_type": "stream",
     "text": [
      "WARNING: replacing module SpectralPOP.\n"
     ]
    }
   ],
   "source": [
    "using SparseArrays\n",
    "\n",
    "include(\"../src/SpectralPOP.jl\")\n",
    "using .SpectralPOP\n",
    "\n",
    "\n",
    "\n",
    "include(\"../examples/densePOPsphere_deg2_var50_nineq0_neq1.jl\")\n",
    "\n",
    "x,f,g,h=SpectralPOP.get_POP(n,m,l,lmon_g,supp_g,coe_g,lmon_h,supp_h,coe_h,lmon_f,supp_f,coe_f);"
   ]
  },
  {
   "cell_type": "markdown",
   "metadata": {},
   "source": [
    "We now use spectral minimization and Proximal bundle method to solve first order relaxation of above POP."
   ]
  },
  {
   "cell_type": "code",
   "execution_count": 66,
   "metadata": {},
   "outputs": [
    {
     "name": "stdout",
     "output_type": "stream",
     "text": [
      "**Convert moment relaxation to standard SDP:\n",
      "  Size of psd matrix: sk=51\n",
      "  Number of equality trace constraints: m=2\n",
      "  0.089545 seconds (114.13 k allocations: 27.441 MiB, 31.44% gc time)\n",
      "**PB solver:\n",
      "Iter 1: fx0 8.057886e+00, fx1 0.000000e+00, fy 8.057886e+00, v -9.325792e-03, u 1.000000e+03, i 0\n",
      "Iter 2: fx0 8.053243e+00, fx1 8.053243e+00, fy 8.053243e+00, v -6.873639e-03, u 1.000000e+03, i 1\n",
      "Iter 3: fx0 8.048601e+00, fx1 8.048601e+00, fy 8.048601e+00, v -7.410811e-03, u 6.491921e+02, i 1\n",
      "Iter 4: fx0 8.041451e+00, fx1 8.041451e+00, fy 8.041451e+00, v -7.077283e-02, u 6.491921e+01, i 1\n",
      "Iter 5: fx0 7.970047e+00, fx1 7.970047e+00, fy 7.970047e+00, v -7.143611e-01, u 6.491921e+00, i 1\n",
      "Iter 6: fx0 7.267853e+00, fx1 7.267853e+00, fy 7.267853e+00, v -6.605066e+00, u 6.491921e-01, i 1\n",
      "Iter 7: fx0 7.267853e+00, fx1 7.267853e+00, fy 9.001826e+00, v -2.277156e+00, u 6.491921e-01, i -1\n",
      "Iter 8: fx0 5.915501e+00, fx1 5.915501e+00, fy 5.915501e+00, v -1.360153e-01, u 6.491921e-01, i 1\n",
      "Iter 9: fx0 5.915501e+00, fx1 5.915501e+00, fy 6.029031e+00, v -7.189995e-02, u 6.491921e-01, i -1\n",
      "Iter 10: fx0 5.908317e+00, fx1 5.908317e+00, fy 5.908317e+00, v -2.834168e-02, u 6.491921e-01, i 1\n",
      "Iter 11: fx0 5.895771e+00, fx1 5.895771e+00, fy 5.895771e+00, v -5.358939e-03, u 6.491921e-01, i 2\n",
      "Iter 12: fx0 5.895771e+00, fx1 5.895771e+00, fy 5.896026e+00, v -7.835117e-03, u 6.491921e-01, i -1\n",
      "Iter 13: fx0 5.895771e+00, fx1 5.895771e+00, fy 5.895832e+00, v -6.231106e-03, u 6.491921e-01, i -2\n",
      "Iter 14: fx0 5.895771e+00, fx1 5.895771e+00, fy 5.895868e+00, v -2.303796e-03, u 6.491921e-01, i -3\n",
      "Iter 15: fx0 5.895771e+00, fx1 5.895771e+00, fy 5.895909e+00, v -1.656133e-03, u 6.491921e-01, i -4\n",
      "Iter 16: fx0 5.895771e+00, fx1 5.895771e+00, fy 5.896144e+00, v -2.099276e-04, u 6.491921e-01, i -5\n",
      "Iter 17: fx0 5.895769e+00, fx1 5.895769e+00, fy 5.895769e+00, v -3.822096e-04, u 6.491921e-01, i 1\n",
      "Iter 18: fx0 5.895752e+00, fx1 5.895752e+00, fy 5.895752e+00, v -1.381050e-04, u 6.491921e-01, i 2\n",
      "Iter 19: fx0 5.895752e+00, fx1 5.895752e+00, fy 5.895755e+00, v -1.215498e-04, u 6.491921e-01, i -1\n",
      "Iter 20: fx0 5.895751e+00, fx1 5.895751e+00, fy 5.895751e+00, v -1.083236e-04, u 6.491921e-01, i 1\n",
      "Iter 21: fx0 5.895751e+00, fx1 5.895751e+00, fy 5.895754e+00, v 5.491405e-05, u 6.491921e-01, i -1\n",
      "TERMINATION: Optimal: v = 5.491404872071115e-5\n",
      "  0.208902 seconds (131.23 k allocations: 8.781 MiB)\n",
      "------------------------------------\n",
      "**Numerical result:\n",
      "====================================\n",
      "opt_val=-5.8957507215864835\n",
      "====================================\n",
      "Dimension of the null space of Gram matrix = 1\n",
      "------------------------------------\n",
      "atom 1 = [-0.005278037506852557, 0.30381450160655754, 0.09899089977965672, -0.10173953913102256, 0.017954715346462733, 0.14857816060367576, -0.25964762525559404, -0.027551121674472084, 0.06865220427323517, -0.12467774014728145, -0.14243754215233656, 0.2557939431737239, 0.22999443748299275, 0.2526428419281765, 0.0006770141952683226, 0.08770896983449876, -0.11271318083113865, -0.204477340152267, -0.06429349078176318, -0.21453116855393164, -0.16771527196081423, -0.12623606927556322, -0.06698246080819197, 0.10151312692912297, 0.1490927797064627, -0.12330261287675218, -0.08266331285750476, -0.30218722292214634, -0.08882118497462782, 0.00809954852006829, 0.0063022103199201155, -0.12135842480273379, -0.2999933330238507, -0.13350053000148546, 0.07768832650402921, -0.06014010947550904, -0.07590913818799191, -0.04416694827154758, 0.048073362672040945, 0.04824758459225082, 0.05228373572852792, -0.15215732078640543, 0.06798745772926207, 0.04798398584342273, 0.141473666028443, 0.1168901726770417, -0.036170757421923695, -0.12906863797296741, 0.08656481310853956, 0.14795355490583137]\n",
      "  check gap of lower bound  = 0.0047138168724929486\n",
      "  check equality constraint 1 = 0.0010546116726589672\n",
      "####################################\n",
      "Optimal solution: opt_sol = [-0.005278037506852557, 0.30381450160655754, 0.09899089977965672, -0.10173953913102256, 0.017954715346462733, 0.14857816060367576, -0.25964762525559404, -0.027551121674472084, 0.06865220427323517, -0.12467774014728145, -0.14243754215233656, 0.2557939431737239, 0.22999443748299275, 0.2526428419281765, 0.0006770141952683226, 0.08770896983449876, -0.11271318083113865, -0.204477340152267, -0.06429349078176318, -0.21453116855393164, -0.16771527196081423, -0.12623606927556322, -0.06698246080819197, 0.10151312692912297, 0.1490927797064627, -0.12330261287675218, -0.08266331285750476, -0.30218722292214634, -0.08882118497462782, 0.00809954852006829, 0.0063022103199201155, -0.12135842480273379, -0.2999933330238507, -0.13350053000148546, 0.07768832650402921, -0.06014010947550904, -0.07590913818799191, -0.04416694827154758, 0.048073362672040945, 0.04824758459225082, 0.05228373572852792, -0.15215732078640543, 0.06798745772926207, 0.04798398584342273, 0.141473666028443, 0.1168901726770417, -0.036170757421923695, -0.12906863797296741, 0.08656481310853956, 0.14795355490583137]\n",
      "####################################\n",
      "  0.007124 seconds (11.04 k allocations: 1.129 MiB)\n",
      "  0.306066 seconds (257.44 k allocations: 37.372 MiB, 9.20% gc time)\n"
     ]
    },
    {
     "name": "stderr",
     "output_type": "stream",
     "text": [
      "WARNING: replacing module SpectralPOP.\n"
     ]
    },
    {
     "data": {
      "text/plain": [
       "(-5.8957507215864835, [-0.005278037506852557, 0.30381450160655754, 0.09899089977965672, -0.10173953913102256, 0.017954715346462733, 0.14857816060367576, -0.25964762525559404, -0.027551121674472084, 0.06865220427323517, -0.12467774014728145  …  0.05228373572852792, -0.15215732078640543, 0.06798745772926207, 0.04798398584342273, 0.141473666028443, 0.1168901726770417, -0.036170757421923695, -0.12906863797296741, 0.08656481310853956, 0.14795355490583137])"
      ]
     },
     "execution_count": 66,
     "metadata": {},
     "output_type": "execute_result"
    }
   ],
   "source": [
    "include(\"../src/SpectralPOP.jl\")\n",
    "using .SpectralPOP\n",
    "\n",
    "opt_val,opt_sol = SpectralPOP.CTP_POP(x,f,h,k,R;method=\"PB\",EigAlg=\"Arpack\",tol=1e-5) # Proximal Bundle method"
   ]
  },
  {
   "cell_type": "markdown",
   "metadata": {},
   "source": [
    "When using ```CTP_POP```, we have two options as follows:\n",
    "\n",
    "1) ```showEvaluation=true``` to display the following information for LMBM and SketchyCGAL:\n",
    "\n",
    "```linear_oper```:  the number of evaluations of the linear operator\n",
    "\n",
    "```adjoint_oper```:  the number of evaluations of the adjoint operator\n",
    "\n",
    "```max_size```: the largest size of symmetric matrices of which eigenvalues and eigenvec-tors are computed\n",
    "\n",
    "```num_eig```: the number of symmetric matrices of which eigenvalues and eigenvectorsare computed\n",
    "\n",
    "2) ```showNormGrad=true``` to display the norms of all subgradients when using LMBM"
   ]
  },
  {
   "cell_type": "code",
   "execution_count": 3,
   "metadata": {
    "scrolled": true
   },
   "outputs": [
    {
     "name": "stdout",
     "output_type": "stream",
     "text": [
      "**Convert moment relaxation to standard SDP:\n",
      "  Size of psd matrix: sk=51\n",
      "  Number of equality trace constraints: m=2\n",
      "  0.056232 seconds (114.14 k allocations: 27.379 MiB)\n",
      "**SketchyCGAL solver:\n"
     ]
    },
    {
     "name": "stderr",
     "output_type": "stream",
     "text": [
      "WARNING: replacing module SpectralPOP.\n"
     ]
    },
    {
     "name": "stdout",
     "output_type": "stream",
     "text": [
      "- SketchyCGAL SDP Solver - Beta.V.0.0\n",
      "--------------------------\n",
      " iter=1 \n",
      " stopObj=6.632288851764534 \n",
      " stopFeas=1.0 \n",
      " primalObj=-7.326671064534014 \n",
      "--------------------------\n",
      " iter=2 \n",
      " stopObj=12.114941185177823 \n",
      " stopFeas=2.215948607049622 \n",
      " primalObj=-4.01982289230731 \n",
      "--------------------------\n",
      " iter=4 \n",
      " stopObj=5.300878673540353 \n",
      " stopFeas=0.6809786622680896 \n",
      " primalObj=-4.639740686997932 \n",
      "--------------------------\n",
      " iter=8 \n",
      " stopObj=3.0886532495961054 \n",
      " stopFeas=0.24851314330365654 \n",
      " primalObj=-5.119747958847463 \n",
      "--------------------------\n",
      " iter=16 \n",
      " stopObj=0.9087880704635918 \n",
      " stopFeas=0.059005972823759405 \n",
      " primalObj=-5.685298600197332 \n",
      "--------------------------\n",
      " iter=32 \n",
      " stopObj=0.2263061789957339 \n",
      " stopFeas=0.006103939745221906 \n",
      " primalObj=-6.283396273173319 \n",
      "--------------------------\n",
      " iter=64 \n",
      " stopObj=0.1405260427063073 \n",
      " stopFeas=0.010180837235893452 \n",
      " primalObj=-6.3596301190667415 \n",
      "--------------------------\n",
      " iter=128 \n",
      " stopObj=0.03420472745204162 \n",
      " stopFeas=5.8043901343881923e-5 \n",
      " primalObj=-6.461395852006779 \n",
      "* status = stopping criteria met\n",
      "  0.247790 seconds (181.59 k allocations: 111.653 MiB, 18.26% gc time)\n",
      "------------------------------------\n",
      "**Numerical result:\n",
      "====================================\n",
      "opt_val=-6.478612183483389\n",
      "====================================\n",
      "Rank of moment matrix = 51\n",
      "  0.000305 seconds (645 allocations: 361.688 KiB)\n",
      "----------------------------\n",
      "linear_oper=184\n",
      "adjoint_oper=2431\n",
      "max_size=15\n",
      "num_eig=185\n",
      "----------------------------\n",
      "  0.318261 seconds (298.42 k allocations: 139.476 MiB, 14.22% gc time)\n"
     ]
    },
    {
     "data": {
      "text/plain": [
       "(-6.478612183483389, Array{Float64,1}[])"
      ]
     },
     "execution_count": 3,
     "metadata": {},
     "output_type": "execute_result"
    }
   ],
   "source": [
    "include(\"../src/SpectralPOP.jl\")\n",
    "using .SpectralPOP\n",
    "\n",
    "opt_val,opt_sol = SpectralPOP.CTP_POP(x,f,h,k,R;method=\"SketchyCGAL\",EigAlg=\"Normal\",tol=1e-4,showEvaluation=true)"
   ]
  },
  {
   "cell_type": "code",
   "execution_count": 49,
   "metadata": {
    "scrolled": true
   },
   "outputs": [
    {
     "name": "stdout",
     "output_type": "stream",
     "text": [
      "**Convert moment relaxation to standard SDP:\n",
      "  Size of psd matrix: sk=6\n",
      "  Number of equality trace constraints: m=2\n",
      "  0.042427 seconds (51.47 k allocations: 2.603 MiB)\n",
      "**LMBM solver:\n"
     ]
    },
    {
     "name": "stderr",
     "output_type": "stream",
     "text": [
      "WARNING: replacing module SpectralPOP.\n"
     ]
    },
    {
     "name": "stdout",
     "output_type": "stream",
     "text": [
      "---------------\n",
      "| Parameters: |\n",
      "---------------\n",
      "n:       2\n",
      "maxtime: 300000.000000\n",
      "na:      2\n",
      "mcu:     5\n",
      "mc:      7\n",
      "rpar: \n",
      "ipar: \n",
      "-----------\n",
      "| Output: |\n",
      "-----------\n",
      "Termination:     1\n",
      "N. iter.:        8\n",
      "N. func. eval.:  8\n",
      "Final value:     2.387928\n",
      "Execution time:  0.061249\n",
      "  0.222477 seconds (254.22 k allocations: 14.409 MiB)\n",
      "------------------------------------\n",
      "**Numerical result:\n",
      "====================================\n",
      "opt_val=-2.3879276746305087\n",
      "====================================\n",
      "Dimension of the null space of Gram matrix = 1\n",
      "------------------------------------\n",
      "atom 1 = [-0.671041783933286, -0.664264082414923, -0.23838563409910002, -0.03182900927995868, 0.22593234160823028]\n",
      "  check gap of lower bound  = 0.0005756733673929482\n",
      "  check equality constraint 1 = 0.000430066332058221\n",
      "####################################\n",
      "Optimal solution: opt_sol = [-0.671041783933286, -0.664264082414923, -0.23838563409910002, -0.03182900927995868, 0.22593234160823028]\n",
      "####################################\n",
      "  0.000715 seconds (1.56 k allocations: 51.766 KiB)\n",
      "----------------------------\n",
      "norm_grad=[1.7952121702905126, 2.149508558175728, 0.7725079547471393, 1.6939582894879883, 0.4265803223402985, 0.18124797907033113, 0.011737923460866526, 0.00048072540475753065]\n",
      "----------------------------\n",
      "  0.266296 seconds (308.91 k allocations: 17.099 MiB)\n"
     ]
    },
    {
     "data": {
      "text/plain": [
       "(-2.3879276746305087, [-0.671041783933286, -0.664264082414923, -0.23838563409910002, -0.03182900927995868, 0.22593234160823028])"
      ]
     },
     "execution_count": 49,
     "metadata": {},
     "output_type": "execute_result"
    }
   ],
   "source": [
    "include(\"../src/SpectralPOP.jl\")\n",
    "using .SpectralPOP\n",
    "\n",
    "opt_val,opt_sol = SpectralPOP.CTP_POP(x,f,h,k,R;method=\"LMBM\",EigAlg=\"Arpack\",tol=1e-5,showNormGrad=true) #Limited memory bundle method"
   ]
  },
  {
   "cell_type": "code",
   "execution_count": 44,
   "metadata": {},
   "outputs": [
    {
     "name": "stdout",
     "output_type": "stream",
     "text": [
      "**SumOfSquares+Mosek:\n",
      "OPTIMAL\n",
      "opt_val=-2.38792765455764\n",
      "Atomic measure on the variables x[1], x[2], x[3], x[4], x[5] with 1 atoms:\n",
      " at [-0.6708800117679365, -0.6641169886844425, -0.23836808690587727, -0.03176797269584887, 0.22592046769295457] with weight 1.0000000013941632\n",
      "  0.014095 seconds (10.23 k allocations: 1.181 MiB)\n"
     ]
    },
    {
     "name": "stderr",
     "output_type": "stream",
     "text": [
      "WARNING: replacing module SpectralPOP.\n"
     ]
    },
    {
     "data": {
      "text/plain": [
       "(-2.38792765455764, [-0.6708800117679365, -0.6641169886844425, -0.23836808690587727, -0.03176797269584887, 0.22592046769295457])"
      ]
     },
     "execution_count": 44,
     "metadata": {},
     "output_type": "execute_result"
    }
   ],
   "source": [
    "include(\"../src/SpectralPOP.jl\")\n",
    "using .SpectralPOP\n",
    "\n",
    "g=Vector{Polynomial{true,Float64}}([])\n",
    "\n",
    "opt_val,opt_sol = SpectralPOP.SumofSquares_POP_WithExtraction(x,f,g,h,k) # SumOfSquares.jl + Mosek"
   ]
  },
  {
   "cell_type": "code",
   "execution_count": 45,
   "metadata": {},
   "outputs": [
    {
     "name": "stdout",
     "output_type": "stream",
     "text": [
      "**SumOfSquares+Mosek:\n",
      "OPTIMAL\n",
      "opt_val=-2.3879276545578954\n",
      "  0.012420 seconds (9.19 k allocations: 881.109 KiB)\n"
     ]
    },
    {
     "name": "stderr",
     "output_type": "stream",
     "text": [
      "WARNING: replacing module SpectralPOP.\n"
     ]
    },
    {
     "data": {
      "text/plain": [
       "-2.3879276545578954"
      ]
     },
     "execution_count": 45,
     "metadata": {},
     "output_type": "execute_result"
    }
   ],
   "source": [
    "include(\"../src/SpectralPOP.jl\")\n",
    "using .SpectralPOP\n",
    "\n",
    "g=Vector{Polynomial{true,Float64}}([])\n",
    "\n",
    "opt_val = SpectralPOP.SumofSquares_POP(x,f,g,h,k) #No extraction, but faster than the one which has extraction"
   ]
  },
  {
   "cell_type": "code",
   "execution_count": 56,
   "metadata": {},
   "outputs": [
    {
     "name": "stdout",
     "output_type": "stream",
     "text": [
      "***Problem setting***\n",
      "Number of variable: n=50\n",
      "====================\n",
      "Relaxed order: k=1\n",
      "\n",
      "~~~~~~~~~~~~~~~~~~~~~~~~~~~~~~~~~~~~~~~~~~~~~~~~~~~~~~~~~\n",
      "\n",
      "**SumOfSquares+Mosek:\n",
      "OPTIMAL\n",
      "opt_val=-6.838235597368785\n",
      " 11.819706 seconds (20.32 M allocations: 1.040 GiB, 3.77% gc time)\n",
      "\n",
      "~~~~~~~~~~~~~~~~~~~~~~~~~~~~~~~~~~~~~~~~~~~~~~~~~~~~~~~~~\n",
      "\n",
      "**Convert moment relaxation to standard SDP:\n",
      "  Size of psd matrix: sk=51\n",
      "  Number of equality trace constraints: m=2\n",
      "  0.053250 seconds (114.12 k allocations: 27.318 MiB)\n",
      "**LMBM solver:\n",
      "---------------\n",
      "| Parameters: |\n",
      "---------------\n",
      "n:       2\n",
      "maxtime: 300000.000000\n",
      "na:      2\n",
      "mcu:     5\n",
      "mc:      7\n",
      "rpar: \n",
      "ipar: \n",
      "-----------\n",
      "| Output: |\n",
      "-----------\n",
      "Termination:     1\n",
      "N. iter.:        6\n",
      "N. func. eval.:  6\n",
      "Final value:     6.838236\n",
      "Execution time:  0.067505\n",
      "  0.517718 seconds (287.99 k allocations: 16.671 MiB, 6.57% gc time)\n",
      "------------------------------------\n",
      "**Numerical result:\n",
      "====================================\n",
      "opt_val=-6.83823561708\n",
      "====================================\n",
      "Dimension of the null space of Gram matrix = 1\n",
      "------------------------------------\n",
      "atom 1 = [0.09287557015120741, 0.07563147789760562, -0.10556543718829507, -0.05759750099375959, -0.1905470174712619, 0.09659889119047677, -0.08411627823887777, 0.2454488182921361, -0.22337875657515108, 0.07539709524605862, -0.178468731329683, 0.0010266092398554935, 0.002344982934403566, 0.04339115415333387, 0.13467789566583283, -0.2541979055859725, 0.2668005516947486, 0.2243715939673149, -0.1054958069275455, 0.12877112200727742, -0.058543711034052856, -0.020911905265988177, -0.14821413946528877, 0.2509633790927788, 0.13581569270687613, 0.25121339981621854, 0.30300347708287784, -0.1660445062734583, -0.09815087133304093, -0.12959690502564758, 0.03913042233879131, 0.11034292108356236, -0.10165286859800289, 0.1861297036192963, 0.0737056998595281, -0.041056352346966155, -0.07458014841950952, -0.2271461233027005, 0.004261542190896424, 0.05500518363496658, 0.02848958383675186, -0.10566290281210362, -0.1382293114671218, -0.02940084687232626, -0.08536817149323907, -0.14418250646039615, 0.02787335161623761, -0.17303497632809045, -0.020298694249826377, 0.06185364453451569]\n",
      "  check gap of lower bound  = 0.0010773726417623308\n",
      "  check equality constraint 1 = 0.0002458725869876055\n",
      "####################################\n",
      "Optimal solution: opt_sol = [0.09287557015120741, 0.07563147789760562, -0.10556543718829507, -0.05759750099375959, -0.1905470174712619, 0.09659889119047677, -0.08411627823887777, 0.2454488182921361, -0.22337875657515108, 0.07539709524605862, -0.178468731329683, 0.0010266092398554935, 0.002344982934403566, 0.04339115415333387, 0.13467789566583283, -0.2541979055859725, 0.2668005516947486, 0.2243715939673149, -0.1054958069275455, 0.12877112200727742, -0.058543711034052856, -0.020911905265988177, -0.14821413946528877, 0.2509633790927788, 0.13581569270687613, 0.25121339981621854, 0.30300347708287784, -0.1660445062734583, -0.09815087133304093, -0.12959690502564758, 0.03913042233879131, 0.11034292108356236, -0.10165286859800289, 0.1861297036192963, 0.0737056998595281, -0.041056352346966155, -0.07458014841950952, -0.2271461233027005, 0.004261542190896424, 0.05500518363496658, 0.02848958383675186, -0.10566290281210362, -0.1382293114671218, -0.02940084687232626, -0.08536817149323907, -0.14418250646039615, 0.02787335161623761, -0.17303497632809045, -0.020298694249826377, 0.06185364453451569]\n",
      "####################################\n",
      "  0.007572 seconds (10.97 k allocations: 1.130 MiB)\n",
      "  0.579155 seconds (414.12 k allocations: 45.140 MiB, 5.87% gc time)\n",
      "\n",
      "~~~~~~~~~~~~~~~~~~~~~~~~~~~~~~~~~~~~~~~~~~~~~~~~~~~~~~~~~\n",
      "\n",
      "**Convert moment relaxation to standard SDP:\n",
      "  Size of psd matrix: sk=51\n",
      "  Number of equality trace constraints: m=2\n",
      "  0.025356 seconds (63.91 k allocations: 24.812 MiB)\n",
      "**SketchyCGAL solver:\n",
      "- SketchyCGAL SDP Solver - Beta.V.0.0\n",
      "--------------------------\n",
      " iter=1 \n",
      " stopObj=4.590081568634407 \n",
      " stopFeas=1.0 \n",
      " primalObj=-5.296289185805129 \n",
      "--------------------------\n",
      " iter=2 \n",
      " stopObj=14.635997586798474 \n",
      " stopFeas=2.234646213129876 \n",
      " primalObj=-3.547000876744385 \n",
      "--------------------------\n",
      " iter=4 \n",
      " stopObj=4.57611413440782 \n",
      " stopFeas=0.5157258808912255 \n",
      " primalObj=-4.843000463641042 \n",
      "--------------------------\n",
      " iter=8 \n",
      " stopObj=1.4124452774093692 \n",
      " stopFeas=0.2508158676838361 \n",
      " primalObj=-5.838215104658987 \n",
      "--------------------------\n",
      " iter=16 \n",
      " stopObj=0.37030301316907543 \n",
      " stopFeas=0.04745661229049064 \n",
      " primalObj=-6.523730234782685 \n",
      "--------------------------\n",
      " iter=32 \n",
      " stopObj=0.10094682458660831 \n",
      " stopFeas=0.0008929250180647725 \n",
      " primalObj=-6.742363104523533 \n",
      "--------------------------\n",
      " iter=64 \n",
      " stopObj=0.026992559950953066 \n",
      " stopFeas=0.00035232698442750384 \n",
      " primalObj=-6.812115669831145 \n",
      "* status = stopping criteria met\n",
      "  2.002603 seconds (3.86 M allocations: 225.223 MiB, 3.86% gc time)\n",
      "------------------------------------\n",
      "**Numerical result:\n",
      "====================================\n",
      "opt_val=-6.822421195559948\n",
      "====================================\n",
      "Rank of moment matrix = 51\n",
      "  0.003475 seconds (438 allocations: 150.953 KiB)\n",
      "  2.037026 seconds (3.93 M allocations: 250.263 MiB, 3.80% gc time)\n",
      "\n",
      "~~~~~~~~~~~~~~~~~~~~~~~~~~~~~~~~~~~~~~~~~~~~~~~~~~~~~~~~~\n",
      "~~~~~~~~~~~~~~~~~~~~~~~~~~~~~~~~~~~~~~~~~~~~~~~~~~~~~~~~~\n",
      "~~~~~~~~~~~~~~~~~~~~~~~~~~~~~~~~~~~~~~~~~~~~~~~~~~~~~~~~~\n",
      "\n",
      "***Problem setting***\n",
      "Number of variable: n=75\n",
      "====================\n"
     ]
    },
    {
     "ename": "ErrorException",
     "evalue": "could not open file /home/hoanganh/Desktop/math-topics/SpectralPOP/codes/SpectralPOP/examples/densePOPsphere_deg2_var75_nineq0_neq1.jl",
     "output_type": "error",
     "traceback": [
      "could not open file /home/hoanganh/Desktop/math-topics/SpectralPOP/codes/SpectralPOP/examples/densePOPsphere_deg2_var75_nineq0_neq1.jl",
      "",
      "Stacktrace:",
      " [1] include at ./boot.jl:328 [inlined]",
      " [2] include_relative(::Module, ::String) at ./loading.jl:1105",
      " [3] include at ./Base.jl:31 [inlined]",
      " [4] include at /home/hoanganh/Desktop/math-topics/SpectralPOP/codes/SpectralPOP/src/SpectralPOP.jl:1 [inlined]",
      " [5] (::Main.SpectralPOP.var\"#test#98\")(::Int64) at /home/hoanganh/Desktop/math-topics/SpectralPOP/codes/SpectralPOP/test/poly_opt/test_random_dense_quadratic_on_sphere.jl:17",
      " [6] test_random_dense_quadratic_on_sphere() at /home/hoanganh/Desktop/math-topics/SpectralPOP/codes/SpectralPOP/test/poly_opt/test_random_dense_quadratic_on_sphere.jl:61",
      " [7] top-level scope at In[56]:1"
     ]
    }
   ],
   "source": [
    "#SpectralPOP.test_random_dense_quadratic_on_sphere()"
   ]
  },
  {
   "cell_type": "code",
   "execution_count": null,
   "metadata": {},
   "outputs": [],
   "source": []
  }
 ],
 "metadata": {
  "kernelspec": {
   "display_name": "Julia 1.3.0",
   "language": "julia",
   "name": "julia-1.3"
  },
  "language_info": {
   "file_extension": ".jl",
   "mimetype": "application/julia",
   "name": "julia",
   "version": "1.3.0"
  }
 },
 "nbformat": 4,
 "nbformat_minor": 2
}
