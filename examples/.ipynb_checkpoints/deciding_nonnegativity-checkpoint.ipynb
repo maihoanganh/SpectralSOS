{
 "cells": [
  {
   "cell_type": "code",
   "execution_count": null,
   "metadata": {},
   "outputs": [],
   "source": [
    "using DynamicPolynomials,SparseArrays\n",
    "\n",
    "println(\"***Problem setting***\")\n",
    "\n",
    "n=3\n",
    "d=2\n",
    "\n",
    "println(\"Number of variable: n=\",n)\n",
    "println(\"====================\")\n",
    "\n",
    "@polyvar x[1:n]# variables\n",
    "\n",
    "# random quadratic objective function f\n",
    "v=reverse(monomials(x,2*d))\n",
    "c=Vector(2*sprand(Float64,length(v),0.1).-1)\n",
    "f=c'*v\n",
    "\n",
    "\n",
    "# unit sphere constraint\n",
    "R=1.0\n",
    "h=[R-sum(x.^2)] #type of coefficients of each polynomial must be float\n",
    "\n",
    "l_h=length(h)\n",
    "\n",
    "println(\"Number of equality constraints: l_h=\",l_h)\n",
    "println(\"====================\")\n",
    "\n",
    "k=Int64(d)\n",
    "\n",
    "println(\"Relaxed order: k=\",k)\n",
    "    \n",
    "\n",
    "    \n",
    "#end"
   ]
  },
  {
   "cell_type": "code",
   "execution_count": null,
   "metadata": {},
   "outputs": [],
   "source": [
    "# using SparseArrays\n",
    "\n",
    "# include(\"../src/SpectralPOP.jl\")\n",
    "# using .SpectralPOP\n",
    "\n",
    "\n",
    "\n",
    "# include(\"../examples/densePOPsphere_deg4_var5_nineq0_neq1.jl\")\n",
    "\n",
    "# x,f,g,h=SpectralPOP.get_POP(n,m,l,lmon_g,supp_g,coe_g,lmon_h,supp_h,coe_h,lmon_f,supp_f,coe_f);\n",
    "\n",
    "\n",
    "# k=2"
   ]
  },
  {
   "cell_type": "code",
   "execution_count": null,
   "metadata": {},
   "outputs": [],
   "source": [
    "# include(\"../src/SpectralPOP.jl\")\n",
    "# using .SpectralPOP\n",
    "\n",
    "# g=Vector{Polynomial{true,Float64}}([])\n",
    "\n",
    "# opt_val = SpectralPOP.SumofSquares_POP(x,f,g,h,k)"
   ]
  },
  {
   "cell_type": "code",
   "execution_count": null,
   "metadata": {
    "scrolled": true
   },
   "outputs": [],
   "source": [
    "include(\"../src/SpectralPOP.jl\")\n",
    "using .SpectralPOP\n",
    "\n",
    "\n",
    "opt_val,opt_sol = SpectralPOP.CTP_POP(x,f,h,k,R;method=\"LMBM\",EigAlg=\"Mix\",tol=1e-5,scale=true)"
   ]
  },
  {
   "cell_type": "code",
   "execution_count": null,
   "metadata": {},
   "outputs": [],
   "source": []
  },
  {
   "cell_type": "code",
   "execution_count": 54,
   "metadata": {},
   "outputs": [
    {
     "name": "stderr",
     "output_type": "stream",
     "text": [
      "WARNING: replacing module SpectralPOP.\n"
     ]
    }
   ],
   "source": [
    "include(\"../src/SpectralPOP.jl\")\n",
    "using .SpectralPOP\n",
    "\n",
    "SpectralPOP.save_deciding_nonneg(n,d,c)"
   ]
  },
  {
   "cell_type": "code",
   "execution_count": null,
   "metadata": {},
   "outputs": [],
   "source": []
  }
 ],
 "metadata": {
  "kernelspec": {
   "display_name": "Julia 1.3.0",
   "language": "julia",
   "name": "julia-1.3"
  },
  "language_info": {
   "file_extension": ".jl",
   "mimetype": "application/julia",
   "name": "julia",
   "version": "1.3.0"
  }
 },
 "nbformat": 4,
 "nbformat_minor": 2
}
