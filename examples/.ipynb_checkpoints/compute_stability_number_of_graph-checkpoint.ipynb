{
 "cells": [
  {
   "cell_type": "code",
   "execution_count": 75,
   "metadata": {},
   "outputs": [
    {
     "name": "stdout",
     "output_type": "stream",
     "text": [
      "***Problem setting***\n",
      "Number of variable: n=10\n",
      "====================\n",
      "Number of equality constraints: l_h=1\n",
      "====================\n",
      "Relaxed order: k=2\n"
     ]
    },
    {
     "name": "stderr",
     "output_type": "stream",
     "text": [
      "WARNING: replacing module SpectralPOP.\n"
     ]
    }
   ],
   "source": [
    "using DynamicPolynomials, SparseArrays\n",
    "\n",
    "println(\"***Problem setting***\")\n",
    "\n",
    "n=10\n",
    "\n",
    "println(\"Number of variable: n=\",n)\n",
    "println(\"====================\")\n",
    "\n",
    "@polyvar x[1:n]# variables\n",
    "\n",
    "# random quadratic objective function f\n",
    "\n",
    "A=sprand(n, n, 0.3)\n",
    "for i in 1:n\n",
    "    for j=i:n\n",
    "        if i == j\n",
    "            A[j,j]=1\n",
    "        else\n",
    "            A[i,j]=sign(A[j,i])\n",
    "        end\n",
    "    end\n",
    "end\n",
    "A=sign.(A)\n",
    "\n",
    "\n",
    "f=sum(A[i,j]*x[i]^2*x[j]^2 for i=1:n for j=1:n)\n",
    "\n",
    "\n",
    "# unit sphere constraint\n",
    "R=1.0\n",
    "h=[R-sum(x.^2)] #type of coefficients of each polynomial must be float\n",
    "\n",
    "l_h=length(h)\n",
    "\n",
    "println(\"Number of equality constraints: l_h=\",l_h)\n",
    "println(\"====================\")\n",
    "\n",
    "k=Int64(2)\n",
    "\n",
    "println(\"Relaxed order: k=\",k)\n",
    "    \n",
    "include(\"../src/SpectralPOP.jl\")\n",
    "using .SpectralPOP\n",
    "\n",
    "g=Vector{Polynomial{true,Float64}}([]);\n",
    "\n",
    "#SpectralPOP.save_data(x,f,g,h,R)\n",
    "    \n"
   ]
  },
  {
   "cell_type": "code",
   "execution_count": 76,
   "metadata": {
    "scrolled": true
   },
   "outputs": [
    {
     "name": "stdout",
     "output_type": "stream",
     "text": [
      "**Convert moment relaxation to standard SDP:\n",
      "  Size of psd matrix: sk=66\n",
      "  Number of equality trace constraints: m=1277\n",
      "  0.056172 seconds (109.55 k allocations: 11.703 MiB)\n",
      "**LMBM solver:\n",
      "---------------\n",
      "| Parameters: |\n",
      "---------------\n",
      "n:       1277\n",
      "maxtime: 300000.000000\n",
      "na:      2\n",
      "mcu:     5\n",
      "mc:      7\n",
      "rpar: \n",
      "ipar: \n",
      "-----------\n",
      "| Output: |\n",
      "-----------\n",
      "Termination:     2\n",
      "N. iter.:        2321\n",
      "N. func. eval.:  12223\n",
      "Final value:     -0.005072\n",
      "Execution time:  735.565430\n",
      "323.342228 seconds (72.06 M allocations: 4.949 GiB, 0.41% gc time)\n",
      "------------------------------------\n",
      "**Numerical result:\n",
      "====================================\n",
      "opt_val=0.10542089049350438\n",
      "====================================\n",
      "Dimension of the null space of Gram matrix = 14\n",
      "  0.055745 seconds (13.11 k allocations: 1.070 MiB)\n",
      "323.454757 seconds (72.18 M allocations: 4.961 GiB, 0.41% gc time)\n"
     ]
    },
    {
     "name": "stderr",
     "output_type": "stream",
     "text": [
      "WARNING: replacing module SpectralPOP.\n"
     ]
    },
    {
     "data": {
      "text/plain": [
       "(0.10542089049350438, Array{Float64,1}[])"
      ]
     },
     "execution_count": 76,
     "metadata": {},
     "output_type": "execute_result"
    }
   ],
   "source": [
    "include(\"../src/SpectralPOP.jl\")\n",
    "using .SpectralPOP\n",
    "\n",
    "\n",
    "opt_val,opt_sol = SpectralPOP.CTP_POP(x,f,h,k,R;method=\"LMBM\",EigAlg=\"Mix\",tol=1e-5)"
   ]
  },
  {
   "cell_type": "code",
   "execution_count": 77,
   "metadata": {},
   "outputs": [
    {
     "name": "stdout",
     "output_type": "stream",
     "text": [
      "**SumOfSquares+Mosek:\n",
      "OPTIMAL\n",
      "opt_val=0.23606797719934994\n",
      "  0.460577 seconds (658.75 k allocations: 74.832 MiB, 8.96% gc time)\n"
     ]
    },
    {
     "name": "stderr",
     "output_type": "stream",
     "text": [
      "WARNING: replacing module SpectralPOP.\n"
     ]
    },
    {
     "data": {
      "text/plain": [
       "0.23606797719934994"
      ]
     },
     "execution_count": 77,
     "metadata": {},
     "output_type": "execute_result"
    }
   ],
   "source": [
    "include(\"../src/SpectralPOP.jl\")\n",
    "using .SpectralPOP\n",
    "\n",
    "g=Vector{Polynomial{true,Float64}}([])\n",
    "\n",
    "opt_val= SpectralPOP.SumofSquares_POP(x,f,g,h,k)"
   ]
  },
  {
   "cell_type": "code",
   "execution_count": 27,
   "metadata": {
    "scrolled": true
   },
   "outputs": [
    {
     "name": "stdout",
     "output_type": "stream",
     "text": [
      "**Convert moment relaxation to standard SDP:\n",
      "  Size of psd matrix: sk=10\n",
      "  Number of equality trace constraints: m=31\n",
      "  0.043141 seconds (52.29 k allocations: 2.719 MiB)\n",
      "**SketchyCGAL solver:\n",
      "- SketchyCGAL SDP Solver - Beta.V.0.0\n",
      "--------------------------\n",
      " iter=1 \n",
      " stopObj=0.1505776680475612 \n",
      " stopFeas=0.1744169799824444 \n",
      " primalObj=1.34327356375176e-30 \n",
      "--------------------------\n",
      " iter=2 \n",
      " stopObj=1.0939791594168369 \n",
      " stopFeas=0.7429192350919199 \n",
      " primalObj=0.00010119643896527988 \n",
      "--------------------------\n",
      " iter=4 \n",
      " stopObj=0.6265883313663286 \n",
      " stopFeas=0.369537124694642 \n",
      " primalObj=0.06972665874584195 \n",
      "--------------------------\n",
      " iter=8 \n",
      " stopObj=0.3148073791050494 \n",
      " stopFeas=0.1983128512000881 \n",
      " primalObj=0.08045846478560234 \n",
      "--------------------------\n",
      " iter=16 \n",
      " stopObj=0.20172389639913776 \n",
      " stopFeas=0.06944551368929482 \n",
      " primalObj=0.08548561197109122 \n",
      "--------------------------\n",
      " iter=32 \n",
      " stopObj=0.06414667838796057 \n",
      " stopFeas=0.02481208881959321 \n",
      " primalObj=0.06455002607706731 \n",
      "--------------------------\n",
      " iter=64 \n",
      " stopObj=0.06947629499001018 \n",
      " stopFeas=0.013030806498527073 \n",
      " primalObj=0.06276692547711685 \n",
      "--------------------------\n",
      " iter=128 \n",
      " stopObj=0.04002189545586428 \n",
      " stopFeas=0.006073947250716133 \n",
      " primalObj=0.05825201707543847 \n",
      "--------------------------\n",
      " iter=256 \n",
      " stopObj=0.028500584020034067 \n",
      " stopFeas=0.0024902430746168384 \n",
      " primalObj=0.056389544451211915 \n",
      "--------------------------\n",
      " iter=512 \n",
      " stopObj=0.03436228243793046 \n",
      " stopFeas=0.0025219971522858994 \n",
      " primalObj=0.056177643192762854 \n",
      "--------------------------\n",
      " iter=1024 \n",
      " stopObj=0.010618682034390078 \n",
      " stopFeas=0.0006031372779204578 \n",
      " primalObj=0.05610330535302145 \n",
      "--------------------------\n",
      " iter=2048 \n",
      " stopObj=0.013582453399179822 \n",
      " stopFeas=0.00046577084616213445 \n",
      " primalObj=0.055965777178806325 \n",
      "* status = stopping criteria met\n",
      "  1.557567 seconds (1.93 M allocations: 239.105 MiB, 3.96% gc time)\n",
      "------------------------------------\n",
      "**Numerical result:\n",
      "====================================\n",
      "opt_val=0.5001490527780121\n",
      "====================================\n",
      "Rank of moment matrix = 10\n",
      "  0.000045 seconds (88 allocations: 9.188 KiB)\n",
      "  1.601208 seconds (1.98 M allocations: 241.856 MiB, 3.85% gc time)\n"
     ]
    },
    {
     "name": "stderr",
     "output_type": "stream",
     "text": [
      "WARNING: replacing module SpectralPOP.\n"
     ]
    },
    {
     "data": {
      "text/plain": [
       "(0.5001490527780121, Array{Float64,1}[])"
      ]
     },
     "execution_count": 27,
     "metadata": {},
     "output_type": "execute_result"
    }
   ],
   "source": [
    "include(\"../src/SpectralPOP.jl\")\n",
    "using .SpectralPOP\n",
    "\n",
    "\n",
    "opt_val,opt_sol = SpectralPOP.CTP_POP(x,f,h,k,R;method=\"SketchyCGAL\",EigAlg=\"Mix\",tol=1e-3)"
   ]
  },
  {
   "cell_type": "code",
   "execution_count": 9,
   "metadata": {},
   "outputs": [
    {
     "name": "stdout",
     "output_type": "stream",
     "text": [
      "**SumOfSquares+Mosek:\n"
     ]
    },
    {
     "name": "stderr",
     "output_type": "stream",
     "text": [
      "WARNING: replacing module SpectralPOP.\n"
     ]
    },
    {
     "name": "stdout",
     "output_type": "stream",
     "text": [
      "OPTIMAL\n",
      "opt_val=0.33333327306830823\n",
      "Atomic measure on the variables x[1], x[2], x[3], x[4], x[5] with 16 atoms:\n",
      " at [0.3730220464038524, 0.44066680553953663, 0.5773505505874785, 0.5773505505874488, 0.0] with weight 0.062448078046616236\n",
      " at [-0.37302204640385156, -0.4406668055395363, -0.5773505505874776, -0.5773505505874479, 0.0] with weight 0.06244807804661637\n",
      " at [-0.37302204640385134, 0.4406668055395353, 0.5773505505874774, 0.5773505505874473, 0.0] with weight 0.06244807804661657\n",
      " at [0.3730220464038516, 0.4406668055395374, 0.577350550587478, -0.5773505505874501, 0.0] with weight 0.06244807804661605\n",
      " at [0.3730220464038515, -0.44066680553953713, 0.5773505505874772, 0.5773505505874494, 0.0] with weight 0.06244807804661617\n",
      " at [0.37302204640385167, -0.44066680553953563, -0.5773505505874779, -0.5773505505874479, 0.0] with weight 0.0624480780466165\n",
      " at [-0.3730220464038515, -0.44066680553953563, -0.5773505505874773, 0.5773505505874479, 0.0] with weight 0.06244807804661626\n",
      " at [-0.37302204640385156, 0.4406668055395361, -0.5773505505874783, -0.5773505505874481, 0.0] with weight 0.062448078046616264\n",
      " at [0.37302204640385145, 0.4406668055395354, -0.5773505505874771, 0.5773505505874473, 0.0] with weight 0.06244807804661657\n",
      " at [-0.37302204640385095, 0.4406668055395353, 0.577350550587477, -0.5773505505874476, 0.0] with weight 0.06244807804661652\n",
      " at [-0.37302204640385184, -0.44066680553953574, 0.5773505505874776, 0.5773505505874477, 0.0] with weight 0.0624480780466163\n",
      " at [0.37302204640385095, -0.4406668055395351, 0.5773505505874771, -0.5773505505874476, 0.0] with weight 0.06244807804661687\n",
      " at [-0.3730220464038513, -0.4406668055395355, 0.5773505505874772, -0.577350550587447, 0.0] with weight 0.06244807804661627\n",
      " at [-0.37302204640385095, 0.44066680553953486, -0.5773505505874766, 0.5773505505874472, 0.0] with weight 0.062448078046616555\n",
      " at [0.3730220464038507, -0.44066680553953597, -0.5773505505874765, 0.5773505505874484, 0.0] with weight 0.062448078046616375\n",
      " at [0.3730220464038512, 0.44066680553953635, -0.577350550587477, -0.5773505505874491, 0.0] with weight 0.06244807804661625\n",
      " 38.033110 seconds (60.16 M allocations: 2.975 GiB, 5.21% gc time)\n"
     ]
    },
    {
     "data": {
      "text/plain": [
       "(0.33333327306830823, [0.3730220464038524, 0.44066680553953663, 0.5773505505874785, 0.5773505505874488, 0.0])"
      ]
     },
     "execution_count": 9,
     "metadata": {},
     "output_type": "execute_result"
    }
   ],
   "source": [
    "include(\"../src/SpectralPOP.jl\")\n",
    "using .SpectralPOP\n",
    "\n",
    "g=Vector{Polynomial{true,Float64}}([])\n",
    "\n",
    "opt_val,opt_sol = SpectralPOP.SumofSquares_POP_WithExtraction(x,f,g,h,k)"
   ]
  },
  {
   "cell_type": "code",
   "execution_count": null,
   "metadata": {},
   "outputs": [],
   "source": []
  }
 ],
 "metadata": {
  "kernelspec": {
   "display_name": "Julia 1.3.0",
   "language": "julia",
   "name": "julia-1.3"
  },
  "language_info": {
   "file_extension": ".jl",
   "mimetype": "application/julia",
   "name": "julia",
   "version": "1.3.0"
  }
 },
 "nbformat": 4,
 "nbformat_minor": 2
}
