{
 "cells": [
  {
   "cell_type": "code",
   "execution_count": 1,
   "metadata": {},
   "outputs": [
    {
     "name": "stderr",
     "output_type": "stream",
     "text": [
      "┌ Info: Precompiling DynamicPolynomials [7c1d4256-1411-5781-91ec-d7bc3513ac07]\n",
      "└ @ Base loading.jl:1273\n"
     ]
    },
    {
     "name": "stdout",
     "output_type": "stream",
     "text": [
      "***Problem setting***\n",
      "Number of variable: n=2\n",
      "====================\n",
      "Number of equality constraints: l_h=1\n",
      "====================\n",
      "Relaxed order: k=2\n"
     ]
    },
    {
     "name": "stderr",
     "output_type": "stream",
     "text": [
      "┌ Info: Precompiling SumOfSquares [4b9e565b-77fc-50a5-a571-1244f986bda1]\n",
      "└ @ Base loading.jl:1273\n",
      "┌ Info: Precompiling MosekTools [1ec41992-ff65-5c91-ac43-2df89e9693a4]\n",
      "└ @ Base loading.jl:1273\n",
      "┌ Info: Precompiling Arpack [7d9fca2a-8960-54d3-9f78-7d1dccf2cb97]\n",
      "└ @ Base loading.jl:1273\n",
      "┌ Info: Precompiling OSQP [ab2f91bb-94b4-55e3-9ba0-7f65df51de79]\n",
      "└ @ Base loading.jl:1273\n",
      "WARNING: Compat.Printf is deprecated, use Printf instead.\n",
      "  likely near /home/hoanganh/Desktop/math-topics/SpectralPOP/codes/SpectralSOS/solvers/ProximalBundleMethod/ProximalMethod.jl:389\n"
     ]
    }
   ],
   "source": [
    "using DynamicPolynomials, SparseArrays\n",
    "\n",
    "println(\"***Problem setting***\")\n",
    "\n",
    "n=2\n",
    "\n",
    "println(\"Number of variable: n=\",n)\n",
    "println(\"====================\")\n",
    "\n",
    "@polyvar x[1:n]# variables\n",
    "\n",
    "# random quadratic objective function f\n",
    "\n",
    "A=sprand(n, n, 0.5)\n",
    "for i in 1:n\n",
    "    for j=i:n\n",
    "        if i == j\n",
    "            A[j,j]=1\n",
    "        else\n",
    "            A[i,j]=sign(A[j,i])\n",
    "            A[j,i]=A[i,j]\n",
    "        end\n",
    "    end\n",
    "end\n",
    "\n",
    "\n",
    "f=sum(A[i,j]*x[i]^2*x[j]^2 for i=1:n for j=1:n)\n",
    "\n",
    "\n",
    "# unit sphere constraint\n",
    "R=1.0\n",
    "h=[R-sum(x.^2)] #type of coefficients of each polynomial must be float\n",
    "\n",
    "l_h=length(h)\n",
    "\n",
    "println(\"Number of equality constraints: l_h=\",l_h)\n",
    "println(\"====================\")\n",
    "\n",
    "k=Int64(2)\n",
    "\n",
    "println(\"Relaxed order: k=\",k)\n",
    "    \n",
    "include(\"../src/SpectralSOS.jl\")\n",
    "using .SpectralSOS\n",
    "\n",
    "g=Vector{Polynomial{true,Float64}}([]);\n",
    "\n",
    "#SpectralSOS.save_data(x,f,g,h,R)\n",
    "    \n"
   ]
  },
  {
   "cell_type": "code",
   "execution_count": 2,
   "metadata": {
    "scrolled": true
   },
   "outputs": [
    {
     "name": "stdout",
     "output_type": "stream",
     "text": [
      "**Constant trace property (CTP):\n",
      "**Convert moment relaxation to standard SDP:\n"
     ]
    },
    {
     "name": "stderr",
     "output_type": "stream",
     "text": [
      "WARNING: replacing module SpectralSOS.\n",
      "WARNING: Compat.Printf is deprecated, use Printf instead.\n",
      "  likely near /home/hoanganh/Desktop/math-topics/SpectralPOP/codes/SpectralSOS/solvers/ProximalBundleMethod/ProximalMethod.jl:389\n",
      "WARNING: Compat.norm is deprecated, use LinearAlgebra.norm instead.\n",
      "  likely near /home/hoanganh/.julia/packages/IJulia/a1SNk/src/kernel.jl:53\n"
     ]
    },
    {
     "name": "stdout",
     "output_type": "stream",
     "text": [
      "  Size of psd matrix: sk=6\n",
      "  Number of equality trace constraints: m=13\n",
      "  0.754330 seconds (2.43 M allocations: 115.918 MiB, 4.77% gc time)\n",
      "**LMBM solver:\n",
      "---------------\n",
      "| Parameters: |\n",
      "---------------\n",
      "n:       13\n",
      "maxtime: 300000.000000\n",
      "na:      2\n",
      "mcu:     5\n",
      "mc:      7\n",
      "rpar: \n",
      "ipar: \n",
      "-----------\n",
      "| Output: |\n",
      "-----------\n",
      "Termination:     2\n",
      "N. iter.:        548\n",
      "N. func. eval.:  1360\n",
      "Final value:     -0.124969\n",
      "Execution time:  0.796211\n",
      "  1.815416 seconds (2.56 M allocations: 137.442 MiB, 6.61% gc time)\n",
      "------------------------------------\n",
      "**Numerical result:\n",
      "====================================\n",
      "opt_val=0.4998751007817805\n",
      "====================================\n",
      "Dimension of the null space of Gram matrix = 3\n",
      "------------------------------------\n",
      "atom 1 = [0.6983092043874503, -0.6984881251026888]\n",
      "  check gap of lower bound  = 0.02405406292509621\n",
      "  check equality constraint 1 = 0.024478594158296785\n",
      "####################################\n",
      "Optimal solution: opt_sol = [0.6983092043874503, -0.6984881251026888]\n",
      "####################################\n",
      "------------------------------------\n",
      "atom 2 = [-0.7115318445986367, -0.6089161525581663]\n",
      "  check gap of lower bound  = 0.10608114858889978\n",
      "  check equality constraint 1 = 0.1229435532758214\n",
      "------------------------------------\n",
      "atom 3 = [-0.7336310665073047, 0.5993324816168311]\n",
      "  check gap of lower bound  = 0.08117598197857101\n",
      "  check equality constraint 1 = 0.10258603473436545\n",
      "  0.422681 seconds (888.33 k allocations: 44.187 MiB, 22.61% gc time)\n",
      "  3.061683 seconds (6.04 M allocations: 304.693 MiB, 8.22% gc time)\n"
     ]
    },
    {
     "data": {
      "text/plain": [
       "(0.4998751007817805, [0.6983092043874503, -0.6984881251026888])"
      ]
     },
     "execution_count": 2,
     "metadata": {},
     "output_type": "execute_result"
    }
   ],
   "source": [
    "include(\"../src/SpectralSOS.jl\")\n",
    "using .SpectralSOS\n",
    "\n",
    "\n",
    "opt_val,opt_sol = SpectralSOS.CTP_POP(x,f,h,k,R;method=\"LMBM\",EigAlg=\"Mix\",tol=1e-5)"
   ]
  },
  {
   "cell_type": "code",
   "execution_count": 3,
   "metadata": {},
   "outputs": [
    {
     "name": "stdout",
     "output_type": "stream",
     "text": [
      "**SumOfSquares+Mosek:\n"
     ]
    },
    {
     "name": "stderr",
     "output_type": "stream",
     "text": [
      "WARNING: replacing module SpectralSOS.\n",
      "WARNING: Compat.Printf is deprecated, use Printf instead.\n",
      "  likely near /home/hoanganh/Desktop/math-topics/SpectralPOP/codes/SpectralSOS/solvers/ProximalBundleMethod/ProximalMethod.jl:389\n"
     ]
    },
    {
     "name": "stdout",
     "output_type": "stream",
     "text": [
      "OPTIMAL\n",
      "opt_val=0.4999999910409462\n",
      " 13.910459 seconds (37.04 M allocations: 1.835 GiB, 7.45% gc time)\n"
     ]
    },
    {
     "data": {
      "text/plain": [
       "0.4999999910409462"
      ]
     },
     "execution_count": 3,
     "metadata": {},
     "output_type": "execute_result"
    }
   ],
   "source": [
    "include(\"../src/SpectralSOS.jl\")\n",
    "using .SpectralSOS\n",
    "\n",
    "g=Vector{Polynomial{true,Float64}}([])\n",
    "\n",
    "opt_val= SpectralSOS.SumofSquares_POP(x,f,g,h,k)"
   ]
  },
  {
   "cell_type": "code",
   "execution_count": 4,
   "metadata": {
    "scrolled": true
   },
   "outputs": [
    {
     "name": "stdout",
     "output_type": "stream",
     "text": [
      "**Constant trace property (CTP):\n",
      "**Convert moment relaxation to standard SDP:\n",
      "  Size of psd matrix: sk=6\n",
      "  Number of equality trace constraints: m=13\n",
      "  0.038410 seconds (51.13 k allocations: 2.570 MiB)\n",
      "**SketchyCGAL solver:"
     ]
    },
    {
     "name": "stderr",
     "output_type": "stream",
     "text": [
      "WARNING: replacing module SpectralSOS.\n",
      "WARNING: Compat.Printf is deprecated, use Printf instead.\n",
      "  likely near /home/hoanganh/Desktop/math-topics/SpectralPOP/codes/SpectralSOS/solvers/ProximalBundleMethod/ProximalMethod.jl:389\n",
      "WARNING: Compat.norm is deprecated, use LinearAlgebra.norm instead.\n",
      "  likely near /home/hoanganh/.julia/packages/IJulia/a1SNk/src/kernel.jl:53\n"
     ]
    },
    {
     "name": "stdout",
     "output_type": "stream",
     "text": [
      "\n",
      "- SketchyCGAL SDP Solver - Beta.V.0.0\n",
      "--------------------------\n",
      " iter=1 \n",
      " stopObj=0.11569757652576526 \n",
      " stopFeas=0.25 \n",
      " primalObj=0.0003852101481135417 \n",
      "--------------------------\n",
      " iter=2 \n",
      " stopObj=0.866846967017793 \n",
      " stopFeas=0.5457669112504961 \n",
      " primalObj=0.08189819733753707 \n",
      "--------------------------\n",
      " iter=4 \n",
      " stopObj=0.9109405150953267 \n",
      " stopFeas=0.411688275873681 \n",
      " primalObj=0.040975801360958006 \n",
      "--------------------------\n",
      " iter=8 \n",
      " stopObj=0.31693311848036565 \n",
      " stopFeas=0.16481385312337707 \n",
      " primalObj=0.11971250706139205 \n",
      "--------------------------\n",
      " iter=16 \n",
      " stopObj=0.12342269018809951 \n",
      " stopFeas=0.07075819874612002 \n",
      " primalObj=0.11306062397710918 \n",
      "--------------------------\n",
      " iter=32 \n",
      " stopObj=0.055325908367015175 \n",
      " stopFeas=0.03558990493682352 \n",
      " primalObj=0.13329436707218872 \n",
      "--------------------------\n",
      " iter=64 \n",
      " stopObj=0.15329430829519441 \n",
      " stopFeas=0.02163134597975806 \n",
      " primalObj=0.12623855280621032 \n",
      "--------------------------\n",
      " iter=128 \n",
      " stopObj=0.06428894000817113 \n",
      " stopFeas=0.008646297791656734 \n",
      " primalObj=0.12835981019265494 \n",
      "--------------------------\n",
      " iter=256 \n",
      " stopObj=0.044926314295879954 \n",
      " stopFeas=0.004385359218729454 \n",
      " primalObj=0.1267182968295989 \n",
      "--------------------------\n",
      " iter=512 \n",
      " stopObj=0.0355401534420533 \n",
      " stopFeas=0.002176057738851106 \n",
      " primalObj=0.125197847904719 \n",
      "--------------------------\n",
      " iter=1024 \n",
      " stopObj=0.04132120055185867 \n",
      " stopFeas=0.0016770989602206178 \n",
      " primalObj=0.1250925491732805 \n",
      "* status = stopping criteria met\n",
      "  1.735488 seconds (5.16 M allocations: 275.930 MiB, 3.95% gc time)\n",
      "------------------------------------\n",
      "**Numerical result:\n",
      "====================================\n",
      "opt_val=0.49948002564336824\n",
      "====================================\n",
      "Rank of moment matrix = 6\n",
      "  0.002089 seconds (413 allocations: 24.938 KiB)\n",
      "  1.779193 seconds (5.21 M allocations: 278.587 MiB, 3.86% gc time)\n"
     ]
    },
    {
     "data": {
      "text/plain": [
       "(0.49948002564336824, Array{Float64,1}[])"
      ]
     },
     "execution_count": 4,
     "metadata": {},
     "output_type": "execute_result"
    }
   ],
   "source": [
    "include(\"../src/SpectralSOS.jl\")\n",
    "using .SpectralSOS\n",
    "\n",
    "\n",
    "opt_val,opt_sol = SpectralSOS.CTP_POP(x,f,h,k,R;method=\"SketchyCGAL\",EigAlg=\"Mix\",tol=1e-3)"
   ]
  },
  {
   "cell_type": "code",
   "execution_count": 5,
   "metadata": {},
   "outputs": [
    {
     "name": "stdout",
     "output_type": "stream",
     "text": [
      "**SumOfSquares+Mosek:\n"
     ]
    },
    {
     "name": "stderr",
     "output_type": "stream",
     "text": [
      "WARNING: replacing module SpectralSOS.\n",
      "WARNING: Compat.Printf is deprecated, use Printf instead.\n",
      "  likely near /home/hoanganh/Desktop/math-topics/SpectralPOP/codes/SpectralSOS/solvers/ProximalBundleMethod/ProximalMethod.jl:389\n"
     ]
    },
    {
     "name": "stdout",
     "output_type": "stream",
     "text": [
      "OPTIMAL\n",
      "opt_val=0.49999999100592146\n",
      "Atomic measure on the variables x[1], x[2] with 4 atoms:\n",
      " at [-0.7071067826767814, -0.7071067826783782] with weight 0.25000000115626014\n",
      " at [-0.7071067826767808, 0.7071067826783777] with weight 0.2500000011562605\n",
      " at [0.707106782676781, 0.7071067826783777] with weight 0.2500000011562625\n",
      " at [0.7071067826767811, -0.7071067826783777] with weight 0.250000001156258\n",
      "  9.726878 seconds (26.69 M allocations: 1.314 GiB, 5.88% gc time)\n"
     ]
    },
    {
     "data": {
      "text/plain": [
       "(0.49999999100592146, [-0.7071067826767814, -0.7071067826783782])"
      ]
     },
     "execution_count": 5,
     "metadata": {},
     "output_type": "execute_result"
    }
   ],
   "source": [
    "include(\"../src/SpectralSOS.jl\")\n",
    "using .SpectralSOS\n",
    "\n",
    "g=Vector{Polynomial{true,Float64}}([])\n",
    "\n",
    "opt_val,opt_sol = SpectralSOS.SumofSquares_POP_WithExtraction(x,f,g,h,k)"
   ]
  },
  {
   "cell_type": "code",
   "execution_count": null,
   "metadata": {},
   "outputs": [],
   "source": []
  }
 ],
 "metadata": {
  "kernelspec": {
   "display_name": "Julia 1.3.0",
   "language": "julia",
   "name": "julia-1.3"
  },
  "language_info": {
   "file_extension": ".jl",
   "mimetype": "application/julia",
   "name": "julia",
   "version": "1.3.0"
  }
 },
 "nbformat": 4,
 "nbformat_minor": 2
}
